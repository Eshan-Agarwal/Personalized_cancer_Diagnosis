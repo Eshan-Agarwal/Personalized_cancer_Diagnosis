{
 "cells": [
  {
   "cell_type": "markdown",
   "metadata": {},
   "source": [
    "<p style=\"font-size:36px;text-align:center\"> <b>Personalized cancer diagnosis</b> </p>"
   ]
  },
  {
   "cell_type": "markdown",
   "metadata": {},
   "source": [
    "<p style=\"font-size:36px;text-align:center\"> <b>Feature Engineering</b> </p>"
   ]
  },
  {
   "cell_type": "markdown",
   "metadata": {},
   "source": [
    "<h1>1. Business Problem</h1>"
   ]
  },
  {
   "cell_type": "markdown",
   "metadata": {},
   "source": [
    "<h2>1.1. Description</h2>"
   ]
  },
  {
   "cell_type": "markdown",
   "metadata": {},
   "source": [
    "<p> Source: https://www.kaggle.com/c/msk-redefining-cancer-treatment/ </p>\n",
    "<p> Data: Memorial Sloan Kettering Cancer Center (MSKCC)</p>\n",
    "<p> Download training_variants.zip and training_text.zip from Kaggle.</p> \n",
    "\n",
    "<h6> Context:</h6>\n",
    "<p> Source: https://www.kaggle.com/c/msk-redefining-cancer-treatment/discussion/35336#198462</p>\n",
    "\n",
    "<h6> Problem statement : </h6>\n",
    "<p> Classify the given genetic variations/mutations based on evidence from text-based clinical literature. </p>"
   ]
  },
  {
   "cell_type": "markdown",
   "metadata": {},
   "source": [
    "<h2>1.2. Source/Useful Links</h2>"
   ]
  },
  {
   "cell_type": "markdown",
   "metadata": {},
   "source": [
    " Some articles and reference blogs about the problem statement"
   ]
  },
  {
   "cell_type": "markdown",
   "metadata": {},
   "source": [
    "1. https://www.forbes.com/sites/matthewherper/2017/06/03/a-new-cancer-drug-helped-almost-everyone-who-took-it-almost-heres-what-it-teaches-us/#2a44ee2f6b25\n",
    "2. https://www.youtube.com/watch?v=UwbuW7oK8rk \n",
    "3. https://www.youtube.com/watch?v=qxXRKVompI8"
   ]
  },
  {
   "cell_type": "markdown",
   "metadata": {},
   "source": [
    "<h2>1.3. Real-world/Business objectives and constraints.</h2>"
   ]
  },
  {
   "cell_type": "markdown",
   "metadata": {},
   "source": [
    "* No low-latency requirement.\n",
    "* Interpretability is important.\n",
    "* Errors can be very costly.\n",
    "* Probability of a data-point belonging to each class is needed."
   ]
  },
  {
   "cell_type": "markdown",
   "metadata": {},
   "source": [
    "<h1>2. Machine Learning Problem Formulation</h1>"
   ]
  },
  {
   "cell_type": "markdown",
   "metadata": {},
   "source": [
    "<h2>2.1. Data</h2>"
   ]
  },
  {
   "cell_type": "markdown",
   "metadata": {},
   "source": [
    "<h3>2.1.1. Data Overview</h3>"
   ]
  },
  {
   "cell_type": "markdown",
   "metadata": {},
   "source": [
    "- Source: https://www.kaggle.com/c/msk-redefining-cancer-treatment/data\n",
    "- We have two data files: one conatins the information about the genetic mutations and the other contains the clinical evidence (text) that  human experts/pathologists use to classify the genetic mutations. \n",
    "- Both these data files are have a common column called ID\n",
    "- <p> \n",
    "    Data file's information:\n",
    "    <ul> \n",
    "        <li>\n",
    "        training_variants (ID , Gene, Variations, Class)\n",
    "        </li>\n",
    "        <li>\n",
    "        training_text (ID, Text)\n",
    "        </li>\n",
    "    </ul>\n",
    "</p>"
   ]
  },
  {
   "cell_type": "markdown",
   "metadata": {},
   "source": [
    "<h3>2.1.2. Example Data Point</h3>"
   ]
  },
  {
   "cell_type": "markdown",
   "metadata": {},
   "source": [
    "<h6>training_variants</h6>\n",
    "<hr>\n",
    "ID,Gene,Variation,Class<br>\n",
    "0,FAM58A,Truncating Mutations,1 <br>\n",
    "1,CBL,W802*,2 <br>\n",
    "2,CBL,Q249E,2 <br>\n",
    "...\n",
    "\n",
    "<h6> training_text</h6>\n",
    "<hr>\n",
    "ID,Text <br>\n",
    "0||Cyclin-dependent kinases (CDKs) regulate a variety of fundamental cellular processes. CDK10 stands out as one of the last orphan CDKs for which no activating cyclin has been identified and no kinase activity revealed. Previous work has shown that CDK10 silencing increases ETS2 (v-ets erythroblastosis virus E26 oncogene homolog 2)-driven activation of the MAPK pathway, which confers tamoxifen resistance to breast cancer cells. The precise mechanisms by which CDK10 modulates ETS2 activity, and more generally the functions of CDK10, remain elusive. Here we demonstrate that CDK10 is a cyclin-dependent kinase by identifying cyclin M as an activating cyclin. Cyclin M, an orphan cyclin, is the product of FAM58A, whose mutations cause STAR syndrome, a human developmental anomaly whose features include toe syndactyly, telecanthus, and anogenital and renal malformations. We show that STAR syndrome-associated cyclin M mutants are unable to interact with CDK10. Cyclin M silencing phenocopies CDK10 silencing in increasing c-Raf and in conferring tamoxifen resistance to breast cancer cells. CDK10/cyclin M phosphorylates ETS2 in vitro, and in cells it positively controls ETS2 degradation by the proteasome. ETS2 protein levels are increased in cells derived from a STAR patient, and this increase is attributable to decreased cyclin M levels. Altogether, our results reveal an additional regulatory mechanism for ETS2, which plays key roles in cancer and development. They also shed light on the molecular mechanisms underlying STAR syndrome.Cyclin-dependent kinases (CDKs) play a pivotal role in the control of a number of fundamental cellular processes (1). The human genome contains 21 genes encoding proteins that can be considered as members of the CDK family owing to their sequence similarity with bona fide CDKs, those known to be activated by cyclins (2). Although discovered almost 20 y ago (3, 4), CDK10 remains one of the two CDKs without an identified cyclin partner. This knowledge gap has largely impeded the exploration of its biological functions. CDK10 can act as a positive cell cycle regulator in some cells (5, 6) or as a tumor suppressor in others (7, 8). CDK10 interacts with the ETS2 (v-ets erythroblastosis virus E26 oncogene homolog 2) transcription factor and inhibits its transcriptional activity through an unknown mechanism (9). CDK10 knockdown derepresses ETS2, which increases the expression of the c-Raf protein kinase, activates the MAPK pathway, and induces resistance of MCF7 cells to tamoxifen (6). ... "
   ]
  },
  {
   "cell_type": "markdown",
   "metadata": {},
   "source": [
    "<h2>2.2. Mapping the real-world problem to an ML problem</h2>"
   ]
  },
  {
   "cell_type": "markdown",
   "metadata": {},
   "source": [
    "<h3>2.2.1. Type of Machine Learning Problem</h3>"
   ]
  },
  {
   "cell_type": "markdown",
   "metadata": {},
   "source": [
    "<p>\n",
    "    \n",
    "            There are nine different classes a genetic mutation can be classified into => Multi class classification problem\n",
    "   \n",
    "      \n",
    "    \n",
    "</p>"
   ]
  },
  {
   "cell_type": "markdown",
   "metadata": {},
   "source": [
    "<h3>2.2.2. Performance Metric</h3>"
   ]
  },
  {
   "cell_type": "markdown",
   "metadata": {},
   "source": [
    "Source: https://www.kaggle.com/c/msk-redefining-cancer-treatment#evaluation\n",
    "\n",
    "Metric(s): \n",
    "* Multi class log-loss \n",
    "* Confusion matrix \n"
   ]
  },
  {
   "cell_type": "markdown",
   "metadata": {},
   "source": [
    "<h3>2.2.3. Machine Learing Objectives and Constraints</h3>"
   ]
  },
  {
   "cell_type": "markdown",
   "metadata": {},
   "source": [
    "<p> Objective: Predict the probability of each data-point belonging to each of the nine classes.\n",
    "</p>\n",
    "<p> Constraints:\n",
    "</p>\n",
    "* Interpretability\n",
    "* Class probabilities are needed.\n",
    "* Penalize the errors in class probabilites => Metric is Log-loss.\n",
    "* No Latency constraints."
   ]
  },
  {
   "cell_type": "markdown",
   "metadata": {},
   "source": [
    "<h2>2.3. Train, CV and Test Datasets</h2>"
   ]
  },
  {
   "cell_type": "markdown",
   "metadata": {},
   "source": [
    " Split the dataset randomly into three parts train, cross validation and test with 64%,16%, 20% of data respectively"
   ]
  },
  {
   "cell_type": "markdown",
   "metadata": {},
   "source": [
    "<h1>3. Exploratory Data Analysis</h1>"
   ]
  },
  {
   "cell_type": "code",
   "execution_count": 1,
   "metadata": {},
   "outputs": [],
   "source": [
    "import pandas as pd\n",
    "import matplotlib.pyplot as plt\n",
    "import re\n",
    "import time\n",
    "import warnings\n",
    "import numpy as np\n",
    "from nltk.corpus import stopwords\n",
    "from sklearn.decomposition import TruncatedSVD\n",
    "from sklearn.preprocessing import normalize\n",
    "from sklearn.feature_extraction.text import CountVectorizer\n",
    "from sklearn.manifold import TSNE\n",
    "import seaborn as sns\n",
    "from sklearn.neighbors import KNeighborsClassifier\n",
    "from sklearn.metrics import confusion_matrix\n",
    "from sklearn.metrics.classification import accuracy_score, log_loss\n",
    "from sklearn.feature_extraction.text import TfidfVectorizer\n",
    "from sklearn.linear_model import SGDClassifier\n",
    "from imblearn.over_sampling import SMOTE\n",
    "from collections import Counter\n",
    "from scipy.sparse import hstack\n",
    "from sklearn.multiclass import OneVsRestClassifier\n",
    "from sklearn.svm import SVC\n",
    "from sklearn.model_selection import StratifiedKFold \n",
    "from collections import Counter, defaultdict\n",
    "from sklearn.calibration import CalibratedClassifierCV\n",
    "from sklearn.naive_bayes import MultinomialNB\n",
    "from sklearn.naive_bayes import GaussianNB\n",
    "from sklearn.model_selection import train_test_split\n",
    "from sklearn.model_selection import GridSearchCV\n",
    "import math\n",
    "from sklearn.metrics import normalized_mutual_info_score\n",
    "from sklearn.ensemble import RandomForestClassifier\n",
    "warnings.filterwarnings(\"ignore\")\n",
    "\n",
    "from mlxtend.classifier import StackingClassifier\n",
    "\n",
    "from sklearn import model_selection\n",
    "from sklearn.linear_model import LogisticRegression\n"
   ]
  },
  {
   "cell_type": "markdown",
   "metadata": {},
   "source": [
    "<h2>3.1. Reading Data</h2>"
   ]
  },
  {
   "cell_type": "markdown",
   "metadata": {},
   "source": [
    "<h3>3.1.1. Reading Gene and Variation Data</h3>"
   ]
  },
  {
   "cell_type": "code",
   "execution_count": 2,
   "metadata": {},
   "outputs": [
    {
     "name": "stdout",
     "output_type": "stream",
     "text": [
      "Number of data points :  3321\n",
      "Number of features :  4\n",
      "Features :  ['ID' 'Gene' 'Variation' 'Class']\n"
     ]
    },
    {
     "data": {
      "text/html": [
       "<div>\n",
       "<style scoped>\n",
       "    .dataframe tbody tr th:only-of-type {\n",
       "        vertical-align: middle;\n",
       "    }\n",
       "\n",
       "    .dataframe tbody tr th {\n",
       "        vertical-align: top;\n",
       "    }\n",
       "\n",
       "    .dataframe thead th {\n",
       "        text-align: right;\n",
       "    }\n",
       "</style>\n",
       "<table border=\"1\" class=\"dataframe\">\n",
       "  <thead>\n",
       "    <tr style=\"text-align: right;\">\n",
       "      <th></th>\n",
       "      <th>ID</th>\n",
       "      <th>Gene</th>\n",
       "      <th>Variation</th>\n",
       "      <th>Class</th>\n",
       "    </tr>\n",
       "  </thead>\n",
       "  <tbody>\n",
       "    <tr>\n",
       "      <th>0</th>\n",
       "      <td>0</td>\n",
       "      <td>FAM58A</td>\n",
       "      <td>Truncating Mutations</td>\n",
       "      <td>1</td>\n",
       "    </tr>\n",
       "    <tr>\n",
       "      <th>1</th>\n",
       "      <td>1</td>\n",
       "      <td>CBL</td>\n",
       "      <td>W802*</td>\n",
       "      <td>2</td>\n",
       "    </tr>\n",
       "    <tr>\n",
       "      <th>2</th>\n",
       "      <td>2</td>\n",
       "      <td>CBL</td>\n",
       "      <td>Q249E</td>\n",
       "      <td>2</td>\n",
       "    </tr>\n",
       "    <tr>\n",
       "      <th>3</th>\n",
       "      <td>3</td>\n",
       "      <td>CBL</td>\n",
       "      <td>N454D</td>\n",
       "      <td>3</td>\n",
       "    </tr>\n",
       "    <tr>\n",
       "      <th>4</th>\n",
       "      <td>4</td>\n",
       "      <td>CBL</td>\n",
       "      <td>L399V</td>\n",
       "      <td>4</td>\n",
       "    </tr>\n",
       "  </tbody>\n",
       "</table>\n",
       "</div>"
      ],
      "text/plain": [
       "   ID    Gene             Variation  Class\n",
       "0   0  FAM58A  Truncating Mutations      1\n",
       "1   1     CBL                 W802*      2\n",
       "2   2     CBL                 Q249E      2\n",
       "3   3     CBL                 N454D      3\n",
       "4   4     CBL                 L399V      4"
      ]
     },
     "execution_count": 2,
     "metadata": {},
     "output_type": "execute_result"
    }
   ],
   "source": [
    "data = pd.read_csv('training/training_variants')\n",
    "print('Number of data points : ', data.shape[0])\n",
    "print('Number of features : ', data.shape[1])\n",
    "print('Features : ', data.columns.values)\n",
    "data.head()"
   ]
  },
  {
   "cell_type": "markdown",
   "metadata": {},
   "source": [
    "<p>\n",
    "    training/training_variants is a comma separated file containing the description of the genetic mutations used for training. <br>\n",
    "    Fields are \n",
    "    <ul>\n",
    "        <li><b>ID : </b>the id of the row used to link the mutation to the clinical evidence</li>\n",
    "        <li><b>Gene : </b>the gene where this genetic mutation is located </li>\n",
    "        <li><b>Variation : </b>the aminoacid change for this mutations </li>\n",
    "        <li><b>Class :</b> 1-9 the class this genetic mutation has been classified on</li>\n",
    "    </ul>"
   ]
  },
  {
   "cell_type": "markdown",
   "metadata": {},
   "source": [
    "<h3>3.1.2. Reading Text Data</h3>"
   ]
  },
  {
   "cell_type": "code",
   "execution_count": 3,
   "metadata": {},
   "outputs": [
    {
     "name": "stdout",
     "output_type": "stream",
     "text": [
      "Number of data points :  3321\n",
      "Number of features :  2\n",
      "Features :  ['ID' 'TEXT']\n"
     ]
    },
    {
     "data": {
      "text/html": [
       "<div>\n",
       "<style scoped>\n",
       "    .dataframe tbody tr th:only-of-type {\n",
       "        vertical-align: middle;\n",
       "    }\n",
       "\n",
       "    .dataframe tbody tr th {\n",
       "        vertical-align: top;\n",
       "    }\n",
       "\n",
       "    .dataframe thead th {\n",
       "        text-align: right;\n",
       "    }\n",
       "</style>\n",
       "<table border=\"1\" class=\"dataframe\">\n",
       "  <thead>\n",
       "    <tr style=\"text-align: right;\">\n",
       "      <th></th>\n",
       "      <th>ID</th>\n",
       "      <th>TEXT</th>\n",
       "    </tr>\n",
       "  </thead>\n",
       "  <tbody>\n",
       "    <tr>\n",
       "      <th>0</th>\n",
       "      <td>0</td>\n",
       "      <td>Cyclin-dependent kinases (CDKs) regulate a var...</td>\n",
       "    </tr>\n",
       "    <tr>\n",
       "      <th>1</th>\n",
       "      <td>1</td>\n",
       "      <td>Abstract Background  Non-small cell lung canc...</td>\n",
       "    </tr>\n",
       "    <tr>\n",
       "      <th>2</th>\n",
       "      <td>2</td>\n",
       "      <td>Abstract Background  Non-small cell lung canc...</td>\n",
       "    </tr>\n",
       "    <tr>\n",
       "      <th>3</th>\n",
       "      <td>3</td>\n",
       "      <td>Recent evidence has demonstrated that acquired...</td>\n",
       "    </tr>\n",
       "    <tr>\n",
       "      <th>4</th>\n",
       "      <td>4</td>\n",
       "      <td>Oncogenic mutations in the monomeric Casitas B...</td>\n",
       "    </tr>\n",
       "  </tbody>\n",
       "</table>\n",
       "</div>"
      ],
      "text/plain": [
       "   ID                                               TEXT\n",
       "0   0  Cyclin-dependent kinases (CDKs) regulate a var...\n",
       "1   1   Abstract Background  Non-small cell lung canc...\n",
       "2   2   Abstract Background  Non-small cell lung canc...\n",
       "3   3  Recent evidence has demonstrated that acquired...\n",
       "4   4  Oncogenic mutations in the monomeric Casitas B..."
      ]
     },
     "execution_count": 3,
     "metadata": {},
     "output_type": "execute_result"
    }
   ],
   "source": [
    "# note the seprator in this file\n",
    "data_text =pd.read_csv(\"training/training_text\",sep=\"\\|\\|\",engine=\"python\",names=[\"ID\",\"TEXT\"],skiprows=1)\n",
    "print('Number of data points : ', data_text.shape[0])\n",
    "print('Number of features : ', data_text.shape[1])\n",
    "print('Features : ', data_text.columns.values)\n",
    "data_text.head()"
   ]
  },
  {
   "cell_type": "markdown",
   "metadata": {},
   "source": [
    "<h3>3.1.3. Preprocessing of text</h3>"
   ]
  },
  {
   "cell_type": "code",
   "execution_count": 4,
   "metadata": {},
   "outputs": [],
   "source": [
    "# loading stop words from nltk library\n",
    "stop_words = set(stopwords.words('english'))\n",
    "\n",
    "\n",
    "def nlp_preprocessing(total_text, index, column):\n",
    "    if type(total_text) is not int:\n",
    "        string = \"\"\n",
    "        # replace every special char with space\n",
    "        total_text = re.sub('[^a-zA-Z0-9\\n]', ' ', total_text)\n",
    "        # replace multiple spaces with single space\n",
    "        total_text = re.sub('\\s+',' ', total_text)\n",
    "        # converting all the chars into lower-case.\n",
    "        total_text = total_text.lower()\n",
    "        \n",
    "        for word in total_text.split():\n",
    "        # if the word is a not a stop word then retain that word from the data\n",
    "            if not word in stop_words:\n",
    "                string += word + \" \"\n",
    "        \n",
    "        data_text[column][index] = string"
   ]
  },
  {
   "cell_type": "code",
   "execution_count": 5,
   "metadata": {},
   "outputs": [
    {
     "name": "stdout",
     "output_type": "stream",
     "text": [
      "there is no text description for id: 1109\n",
      "there is no text description for id: 1277\n",
      "there is no text description for id: 1407\n",
      "there is no text description for id: 1639\n",
      "there is no text description for id: 2755\n",
      "Time took for preprocessing the text : 139.220340147 seconds\n"
     ]
    }
   ],
   "source": [
    "#text processing stage.\n",
    "start_time = time.clock()\n",
    "for index, row in data_text.iterrows():\n",
    "    if type(row['TEXT']) is str:\n",
    "        nlp_preprocessing(row['TEXT'], index, 'TEXT')\n",
    "    else:\n",
    "        print(\"there is no text description for id:\",index)\n",
    "print('Time took for preprocessing the text :',time.clock() - start_time, \"seconds\")"
   ]
  },
  {
   "cell_type": "code",
   "execution_count": 6,
   "metadata": {},
   "outputs": [
    {
     "data": {
      "text/html": [
       "<div>\n",
       "<style scoped>\n",
       "    .dataframe tbody tr th:only-of-type {\n",
       "        vertical-align: middle;\n",
       "    }\n",
       "\n",
       "    .dataframe tbody tr th {\n",
       "        vertical-align: top;\n",
       "    }\n",
       "\n",
       "    .dataframe thead th {\n",
       "        text-align: right;\n",
       "    }\n",
       "</style>\n",
       "<table border=\"1\" class=\"dataframe\">\n",
       "  <thead>\n",
       "    <tr style=\"text-align: right;\">\n",
       "      <th></th>\n",
       "      <th>ID</th>\n",
       "      <th>Gene</th>\n",
       "      <th>Variation</th>\n",
       "      <th>Class</th>\n",
       "      <th>TEXT</th>\n",
       "    </tr>\n",
       "  </thead>\n",
       "  <tbody>\n",
       "    <tr>\n",
       "      <th>0</th>\n",
       "      <td>0</td>\n",
       "      <td>FAM58A</td>\n",
       "      <td>Truncating Mutations</td>\n",
       "      <td>1</td>\n",
       "      <td>cyclin dependent kinases cdks regulate variety...</td>\n",
       "    </tr>\n",
       "    <tr>\n",
       "      <th>1</th>\n",
       "      <td>1</td>\n",
       "      <td>CBL</td>\n",
       "      <td>W802*</td>\n",
       "      <td>2</td>\n",
       "      <td>abstract background non small cell lung cancer...</td>\n",
       "    </tr>\n",
       "    <tr>\n",
       "      <th>2</th>\n",
       "      <td>2</td>\n",
       "      <td>CBL</td>\n",
       "      <td>Q249E</td>\n",
       "      <td>2</td>\n",
       "      <td>abstract background non small cell lung cancer...</td>\n",
       "    </tr>\n",
       "    <tr>\n",
       "      <th>3</th>\n",
       "      <td>3</td>\n",
       "      <td>CBL</td>\n",
       "      <td>N454D</td>\n",
       "      <td>3</td>\n",
       "      <td>recent evidence demonstrated acquired uniparen...</td>\n",
       "    </tr>\n",
       "    <tr>\n",
       "      <th>4</th>\n",
       "      <td>4</td>\n",
       "      <td>CBL</td>\n",
       "      <td>L399V</td>\n",
       "      <td>4</td>\n",
       "      <td>oncogenic mutations monomeric casitas b lineag...</td>\n",
       "    </tr>\n",
       "  </tbody>\n",
       "</table>\n",
       "</div>"
      ],
      "text/plain": [
       "   ID    Gene             Variation  Class  \\\n",
       "0   0  FAM58A  Truncating Mutations      1   \n",
       "1   1     CBL                 W802*      2   \n",
       "2   2     CBL                 Q249E      2   \n",
       "3   3     CBL                 N454D      3   \n",
       "4   4     CBL                 L399V      4   \n",
       "\n",
       "                                                TEXT  \n",
       "0  cyclin dependent kinases cdks regulate variety...  \n",
       "1  abstract background non small cell lung cancer...  \n",
       "2  abstract background non small cell lung cancer...  \n",
       "3  recent evidence demonstrated acquired uniparen...  \n",
       "4  oncogenic mutations monomeric casitas b lineag...  "
      ]
     },
     "execution_count": 6,
     "metadata": {},
     "output_type": "execute_result"
    }
   ],
   "source": [
    "#merging both gene_variations and text data based on ID\n",
    "result = pd.merge(data, data_text,on='ID', how='left')\n",
    "result.head()"
   ]
  },
  {
   "cell_type": "code",
   "execution_count": 7,
   "metadata": {},
   "outputs": [
    {
     "data": {
      "text/html": [
       "<div>\n",
       "<style scoped>\n",
       "    .dataframe tbody tr th:only-of-type {\n",
       "        vertical-align: middle;\n",
       "    }\n",
       "\n",
       "    .dataframe tbody tr th {\n",
       "        vertical-align: top;\n",
       "    }\n",
       "\n",
       "    .dataframe thead th {\n",
       "        text-align: right;\n",
       "    }\n",
       "</style>\n",
       "<table border=\"1\" class=\"dataframe\">\n",
       "  <thead>\n",
       "    <tr style=\"text-align: right;\">\n",
       "      <th></th>\n",
       "      <th>ID</th>\n",
       "      <th>Gene</th>\n",
       "      <th>Variation</th>\n",
       "      <th>Class</th>\n",
       "      <th>TEXT</th>\n",
       "    </tr>\n",
       "  </thead>\n",
       "  <tbody>\n",
       "    <tr>\n",
       "      <th>1109</th>\n",
       "      <td>1109</td>\n",
       "      <td>FANCA</td>\n",
       "      <td>S1088F</td>\n",
       "      <td>1</td>\n",
       "      <td>NaN</td>\n",
       "    </tr>\n",
       "    <tr>\n",
       "      <th>1277</th>\n",
       "      <td>1277</td>\n",
       "      <td>ARID5B</td>\n",
       "      <td>Truncating Mutations</td>\n",
       "      <td>1</td>\n",
       "      <td>NaN</td>\n",
       "    </tr>\n",
       "    <tr>\n",
       "      <th>1407</th>\n",
       "      <td>1407</td>\n",
       "      <td>FGFR3</td>\n",
       "      <td>K508M</td>\n",
       "      <td>6</td>\n",
       "      <td>NaN</td>\n",
       "    </tr>\n",
       "    <tr>\n",
       "      <th>1639</th>\n",
       "      <td>1639</td>\n",
       "      <td>FLT1</td>\n",
       "      <td>Amplification</td>\n",
       "      <td>6</td>\n",
       "      <td>NaN</td>\n",
       "    </tr>\n",
       "    <tr>\n",
       "      <th>2755</th>\n",
       "      <td>2755</td>\n",
       "      <td>BRAF</td>\n",
       "      <td>G596C</td>\n",
       "      <td>7</td>\n",
       "      <td>NaN</td>\n",
       "    </tr>\n",
       "  </tbody>\n",
       "</table>\n",
       "</div>"
      ],
      "text/plain": [
       "        ID    Gene             Variation  Class TEXT\n",
       "1109  1109   FANCA                S1088F      1  NaN\n",
       "1277  1277  ARID5B  Truncating Mutations      1  NaN\n",
       "1407  1407   FGFR3                 K508M      6  NaN\n",
       "1639  1639    FLT1         Amplification      6  NaN\n",
       "2755  2755    BRAF                 G596C      7  NaN"
      ]
     },
     "execution_count": 7,
     "metadata": {},
     "output_type": "execute_result"
    }
   ],
   "source": [
    "result[result.isnull().any(axis=1)]"
   ]
  },
  {
   "cell_type": "code",
   "execution_count": 8,
   "metadata": {},
   "outputs": [],
   "source": [
    "result.loc[result['TEXT'].isnull(),'TEXT'] = result['Gene'] +' '+result['Variation']"
   ]
  },
  {
   "cell_type": "code",
   "execution_count": 9,
   "metadata": {},
   "outputs": [
    {
     "data": {
      "text/html": [
       "<div>\n",
       "<style scoped>\n",
       "    .dataframe tbody tr th:only-of-type {\n",
       "        vertical-align: middle;\n",
       "    }\n",
       "\n",
       "    .dataframe tbody tr th {\n",
       "        vertical-align: top;\n",
       "    }\n",
       "\n",
       "    .dataframe thead th {\n",
       "        text-align: right;\n",
       "    }\n",
       "</style>\n",
       "<table border=\"1\" class=\"dataframe\">\n",
       "  <thead>\n",
       "    <tr style=\"text-align: right;\">\n",
       "      <th></th>\n",
       "      <th>ID</th>\n",
       "      <th>Gene</th>\n",
       "      <th>Variation</th>\n",
       "      <th>Class</th>\n",
       "      <th>TEXT</th>\n",
       "    </tr>\n",
       "  </thead>\n",
       "  <tbody>\n",
       "    <tr>\n",
       "      <th>1109</th>\n",
       "      <td>1109</td>\n",
       "      <td>FANCA</td>\n",
       "      <td>S1088F</td>\n",
       "      <td>1</td>\n",
       "      <td>FANCA S1088F</td>\n",
       "    </tr>\n",
       "  </tbody>\n",
       "</table>\n",
       "</div>"
      ],
      "text/plain": [
       "        ID   Gene Variation  Class          TEXT\n",
       "1109  1109  FANCA    S1088F      1  FANCA S1088F"
      ]
     },
     "execution_count": 9,
     "metadata": {},
     "output_type": "execute_result"
    }
   ],
   "source": [
    "result[result['ID']==1109]"
   ]
  },
  {
   "cell_type": "markdown",
   "metadata": {},
   "source": [
    "# Create Some new features"
   ]
  },
  {
   "cell_type": "code",
   "execution_count": 10,
   "metadata": {},
   "outputs": [],
   "source": [
    "#Exhaustive list of stopwords in the english language. We want to focus less on these so at some point will have to filter\n",
    "STOP_WORDS = ['a', 'about', 'above', 'after', 'again', 'against', 'all', 'also', 'am', 'an', 'and',\n",
    "              'any', 'are', \"aren't\", 'as', 'at', 'be', 'because', 'been', 'before', 'being', 'below',\n",
    "              'between', 'both', 'but', 'by', 'can', \"can't\", 'cannot', 'com', 'could', \"couldn't\", 'did',\n",
    "              \"didn't\", 'do', 'does', \"doesn't\", 'doing', \"don't\", 'down', 'during', 'each', 'else', 'ever',\n",
    "              'few', 'for', 'from', 'further', 'get', 'had', \"hadn't\", 'has', \"hasn't\", 'have', \"haven't\", 'having',\n",
    "              'he', \"he'd\", \"he'll\", \"he's\", 'her', 'here', \"here's\", 'hers', 'herself', 'him', 'himself', 'his', 'how',\n",
    "              \"how's\", 'however', 'http', 'i', \"i'd\", \"i'll\", \"i'm\", \"i've\", 'if', 'in', 'into', 'is', \"isn't\", 'it',\n",
    "              \"it's\", 'its', 'itself', 'just', 'k', \"let's\", 'like', 'me', 'more', 'most', \"mustn't\", 'my', 'myself',\n",
    "              'no', 'nor', 'not', 'of', 'off', 'on', 'once', 'only', 'or', 'other', 'otherwise', 'ought', 'our', 'ours',\n",
    "              'ourselves', 'out', 'over', 'own', 'r', 'same', 'shall', \"shan't\", 'she', \"she'd\", \"she'll\", \"she's\",\n",
    "              'should', \"shouldn't\", 'since', 'so', 'some', 'such', 'than', 'that', \"that's\", 'the', 'their', 'theirs',\n",
    "              'them', 'themselves', 'then', 'there', \"there's\", 'these', 'they', \"they'd\", \"they'll\", \"they're\",\n",
    "              \"they've\", 'this', 'those', 'through', 'to', 'too', 'under', 'until', 'up', 'very', 'was', \"wasn't\",\n",
    "              'we', \"we'd\", \"we'll\", \"we're\", \"we've\", 'were', \"weren't\", 'what', \"what's\", 'when', \"when's\", 'where',\n",
    "              \"where's\", 'which', 'while', 'who', \"who's\", 'whom', 'why', \"why's\", 'with', \"won't\", 'would', \"wouldn't\",\n",
    "              'www', 'you', \"you'd\", \"you'll\", \"you're\", \"you've\", 'your', 'yours', 'yourself', 'yourselves']\n",
    "\n",
    "\n",
    "\n",
    "\n",
    "\n",
    "\n",
    "#Generate word frequency\n",
    "def gen_freq(text):\n",
    "    #Will store the list of words\n",
    "    word_list = []\n",
    "\n",
    "    #Loop over all the tweets and extract words into word_list\n",
    "    for tw_words in text.split():\n",
    "        word_list.extend(tw_words)\n",
    "\n",
    "    #Create word frequencies using word_list\n",
    "    word_freq = pd.Series(word_list).value_counts()\n",
    "    \n",
    "    #Drop the stopwords during the frequency calculation\n",
    "    word_freq = word_freq.drop(STOP_WORDS, errors='ignore')\n",
    "    \n",
    "    return word_freq\n",
    "\n",
    "#Check whether a negation term is present in the text\n",
    "def any_neg(words):\n",
    "    for word in words:\n",
    "        if word in ['n', 'no', 'non', 'not'] or re.search(r\"\\wn't\", word):\n",
    "            return 1\n",
    "    else:\n",
    "        return 0\n",
    "\n",
    "#Check whether one of the 100 rare words is present in the text\n",
    "def any_rare(words, rare_100):\n",
    "    for word in words:\n",
    "        if word in rare_100:\n",
    "            return 1\n",
    "    else:\n",
    "        return 0\n",
    "\n",
    "#Check whether prompt words are present\n",
    "def is_question(words):\n",
    "    for word in words:\n",
    "        if word in ['when', 'what', 'how', 'why', 'who']:\n",
    "            return 1\n",
    "    else:\n",
    "        return 0"
   ]
  },
  {
   "cell_type": "code",
   "execution_count": 11,
   "metadata": {},
   "outputs": [],
   "source": [
    "word_freq = gen_freq(result.TEXT.str)\n",
    "\n",
    "#Number of words in a text\n",
    "result['word_count'] = result.TEXT.str.split().apply(lambda x: len(x))\n",
    "\n",
    "#Character count of the text\n",
    "result['char_count'] = result.TEXT.apply(lambda x: len(x))"
   ]
  },
  {
   "cell_type": "code",
   "execution_count": 12,
   "metadata": {},
   "outputs": [
    {
     "data": {
      "text/plain": [
       "mutations    238168\n",
       "1            214996\n",
       "cells        185832\n",
       "2            154194\n",
       "3            135240\n",
       "cell         126657\n",
       "mutation     105671\n",
       "5            104862\n",
       "et           104597\n",
       "fig          104569\n",
       "dtype: int64"
      ]
     },
     "execution_count": 12,
     "metadata": {},
     "output_type": "execute_result"
    }
   ],
   "source": [
    "#Top 10 common words are\n",
    "gen_freq(result.TEXT.str)[:10]"
   ]
  },
  {
   "cell_type": "code",
   "execution_count": 13,
   "metadata": {},
   "outputs": [
    {
     "data": {
      "text/html": [
       "<div>\n",
       "<style scoped>\n",
       "    .dataframe tbody tr th:only-of-type {\n",
       "        vertical-align: middle;\n",
       "    }\n",
       "\n",
       "    .dataframe tbody tr th {\n",
       "        vertical-align: top;\n",
       "    }\n",
       "\n",
       "    .dataframe thead th {\n",
       "        text-align: right;\n",
       "    }\n",
       "</style>\n",
       "<table border=\"1\" class=\"dataframe\">\n",
       "  <thead>\n",
       "    <tr style=\"text-align: right;\">\n",
       "      <th></th>\n",
       "      <th>ID</th>\n",
       "      <th>Gene</th>\n",
       "      <th>Variation</th>\n",
       "      <th>Class</th>\n",
       "      <th>TEXT</th>\n",
       "      <th>word_count</th>\n",
       "      <th>char_count</th>\n",
       "    </tr>\n",
       "  </thead>\n",
       "  <tbody>\n",
       "    <tr>\n",
       "      <th>0</th>\n",
       "      <td>0</td>\n",
       "      <td>FAM58A</td>\n",
       "      <td>Truncating Mutations</td>\n",
       "      <td>1</td>\n",
       "      <td>cyclin dependent kinases cdks regulate variety...</td>\n",
       "      <td>4370</td>\n",
       "      <td>30836</td>\n",
       "    </tr>\n",
       "    <tr>\n",
       "      <th>1</th>\n",
       "      <td>1</td>\n",
       "      <td>CBL</td>\n",
       "      <td>W802*</td>\n",
       "      <td>2</td>\n",
       "      <td>abstract background non small cell lung cancer...</td>\n",
       "      <td>4139</td>\n",
       "      <td>27844</td>\n",
       "    </tr>\n",
       "    <tr>\n",
       "      <th>2</th>\n",
       "      <td>2</td>\n",
       "      <td>CBL</td>\n",
       "      <td>Q249E</td>\n",
       "      <td>2</td>\n",
       "      <td>abstract background non small cell lung cancer...</td>\n",
       "      <td>4139</td>\n",
       "      <td>27844</td>\n",
       "    </tr>\n",
       "    <tr>\n",
       "      <th>3</th>\n",
       "      <td>3</td>\n",
       "      <td>CBL</td>\n",
       "      <td>N454D</td>\n",
       "      <td>3</td>\n",
       "      <td>recent evidence demonstrated acquired uniparen...</td>\n",
       "      <td>3841</td>\n",
       "      <td>28093</td>\n",
       "    </tr>\n",
       "    <tr>\n",
       "      <th>4</th>\n",
       "      <td>4</td>\n",
       "      <td>CBL</td>\n",
       "      <td>L399V</td>\n",
       "      <td>4</td>\n",
       "      <td>oncogenic mutations monomeric casitas b lineag...</td>\n",
       "      <td>4254</td>\n",
       "      <td>31649</td>\n",
       "    </tr>\n",
       "  </tbody>\n",
       "</table>\n",
       "</div>"
      ],
      "text/plain": [
       "   ID    Gene             Variation  Class  \\\n",
       "0   0  FAM58A  Truncating Mutations      1   \n",
       "1   1     CBL                 W802*      2   \n",
       "2   2     CBL                 Q249E      2   \n",
       "3   3     CBL                 N454D      3   \n",
       "4   4     CBL                 L399V      4   \n",
       "\n",
       "                                                TEXT  word_count  char_count  \n",
       "0  cyclin dependent kinases cdks regulate variety...        4370       30836  \n",
       "1  abstract background non small cell lung cancer...        4139       27844  \n",
       "2  abstract background non small cell lung cancer...        4139       27844  \n",
       "3  recent evidence demonstrated acquired uniparen...        3841       28093  \n",
       "4  oncogenic mutations monomeric casitas b lineag...        4254       31649  "
      ]
     },
     "execution_count": 13,
     "metadata": {},
     "output_type": "execute_result"
    }
   ],
   "source": [
    "result.head(5)"
   ]
  },
  {
   "cell_type": "code",
   "execution_count": 15,
   "metadata": {},
   "outputs": [],
   "source": [
    "# https://stackoverflow.com/a/47091490/4084039\n",
    "import re\n",
    "\n",
    "def decontracted(phrase):\n",
    "    # specific\n",
    "    phrase = re.sub(r\"won't\", \"will not\", phrase)\n",
    "    phrase = re.sub(r\"can\\'t\", \"can not\", phrase)\n",
    "\n",
    "    # general\n",
    "    phrase = re.sub(r\"n\\'t\", \" not\", phrase)\n",
    "    phrase = re.sub(r\"\\'re\", \" are\", phrase)\n",
    "    phrase = re.sub(r\"\\'s\", \" is\", phrase)\n",
    "    phrase = re.sub(r\"\\'d\", \" would\", phrase)\n",
    "    phrase = re.sub(r\"\\'ll\", \" will\", phrase)\n",
    "    phrase = re.sub(r\"\\'t\", \" not\", phrase)\n",
    "    phrase = re.sub(r\"\\'ve\", \" have\", phrase)\n",
    "    phrase = re.sub(r\"\\'m\", \" am\", phrase)\n",
    "    return phrase"
   ]
  },
  {
   "cell_type": "code",
   "execution_count": 17,
   "metadata": {},
   "outputs": [
    {
     "name": "stderr",
     "output_type": "stream",
     "text": [
      "100%|██████████| 3321/3321 [12:09<00:00,  7.49it/s]  \n"
     ]
    }
   ],
   "source": [
    "import nltk\n",
    "from nltk.sentiment.vader import SentimentIntensityAnalyzer\n",
    "\n",
    "# import nltk\n",
    "# nltk.download('vader_lexicon')\n",
    "\n",
    "sid = SentimentIntensityAnalyzer()\n",
    "\n",
    "# Combining all the above stundents \n",
    "from tqdm import tqdm\n",
    "text = []\n",
    "neg=[]\n",
    "neut=[]\n",
    "pos=[]\n",
    "comp=[]\n",
    "# tqdm is for printing the status bar\n",
    "for sentance in tqdm(result['TEXT'].values):\n",
    "    sent = decontracted(sentance)\n",
    "    sent = sent.replace('\\\\r', ' ')\n",
    "    sent = sent.replace('\\\\\"', ' ')\n",
    "    sent = sent.replace('\\\\n', ' ')\n",
    "    sent = re.sub('[^A-Za-z0-9]+', ' ', sent)\n",
    "    # https://gist.github.com/sebleier/554280\n",
    "    sent = ' '.join(e for e in sent.split() if e not in STOP_WORDS)\n",
    "    text.append(sent.lower().strip())\n",
    "    ss = sid.polarity_scores(sent.lower().strip())\n",
    "    neg.append(ss['neg'])\n",
    "    neut.append(ss['neu'])\n",
    "    pos.append(ss['pos'])\n",
    "    comp.append(ss['compound'])\n",
    "    "
   ]
  },
  {
   "cell_type": "code",
   "execution_count": 18,
   "metadata": {},
   "outputs": [
    {
     "data": {
      "text/html": [
       "<div>\n",
       "<style scoped>\n",
       "    .dataframe tbody tr th:only-of-type {\n",
       "        vertical-align: middle;\n",
       "    }\n",
       "\n",
       "    .dataframe tbody tr th {\n",
       "        vertical-align: top;\n",
       "    }\n",
       "\n",
       "    .dataframe thead th {\n",
       "        text-align: right;\n",
       "    }\n",
       "</style>\n",
       "<table border=\"1\" class=\"dataframe\">\n",
       "  <thead>\n",
       "    <tr style=\"text-align: right;\">\n",
       "      <th></th>\n",
       "      <th>ID</th>\n",
       "      <th>Gene</th>\n",
       "      <th>Variation</th>\n",
       "      <th>Class</th>\n",
       "      <th>TEXT</th>\n",
       "      <th>word_count</th>\n",
       "      <th>char_count</th>\n",
       "      <th>neg</th>\n",
       "      <th>neut</th>\n",
       "      <th>pos</th>\n",
       "      <th>comp</th>\n",
       "    </tr>\n",
       "  </thead>\n",
       "  <tbody>\n",
       "    <tr>\n",
       "      <th>0</th>\n",
       "      <td>0</td>\n",
       "      <td>FAM58A</td>\n",
       "      <td>Truncating Mutations</td>\n",
       "      <td>1</td>\n",
       "      <td>cyclin dependent kinases cdks regulate variety...</td>\n",
       "      <td>4370</td>\n",
       "      <td>30836</td>\n",
       "      <td>0.064</td>\n",
       "      <td>0.890</td>\n",
       "      <td>0.046</td>\n",
       "      <td>-0.9963</td>\n",
       "    </tr>\n",
       "    <tr>\n",
       "      <th>1</th>\n",
       "      <td>1</td>\n",
       "      <td>CBL</td>\n",
       "      <td>W802*</td>\n",
       "      <td>2</td>\n",
       "      <td>abstract background non small cell lung cancer...</td>\n",
       "      <td>4139</td>\n",
       "      <td>27844</td>\n",
       "      <td>0.070</td>\n",
       "      <td>0.851</td>\n",
       "      <td>0.079</td>\n",
       "      <td>-0.9677</td>\n",
       "    </tr>\n",
       "    <tr>\n",
       "      <th>2</th>\n",
       "      <td>2</td>\n",
       "      <td>CBL</td>\n",
       "      <td>Q249E</td>\n",
       "      <td>2</td>\n",
       "      <td>abstract background non small cell lung cancer...</td>\n",
       "      <td>4139</td>\n",
       "      <td>27844</td>\n",
       "      <td>0.070</td>\n",
       "      <td>0.851</td>\n",
       "      <td>0.079</td>\n",
       "      <td>-0.9677</td>\n",
       "    </tr>\n",
       "    <tr>\n",
       "      <th>3</th>\n",
       "      <td>3</td>\n",
       "      <td>CBL</td>\n",
       "      <td>N454D</td>\n",
       "      <td>3</td>\n",
       "      <td>recent evidence demonstrated acquired uniparen...</td>\n",
       "      <td>3841</td>\n",
       "      <td>28093</td>\n",
       "      <td>0.058</td>\n",
       "      <td>0.855</td>\n",
       "      <td>0.087</td>\n",
       "      <td>0.9988</td>\n",
       "    </tr>\n",
       "    <tr>\n",
       "      <th>4</th>\n",
       "      <td>4</td>\n",
       "      <td>CBL</td>\n",
       "      <td>L399V</td>\n",
       "      <td>4</td>\n",
       "      <td>oncogenic mutations monomeric casitas b lineag...</td>\n",
       "      <td>4254</td>\n",
       "      <td>31649</td>\n",
       "      <td>0.104</td>\n",
       "      <td>0.806</td>\n",
       "      <td>0.090</td>\n",
       "      <td>-0.9992</td>\n",
       "    </tr>\n",
       "  </tbody>\n",
       "</table>\n",
       "</div>"
      ],
      "text/plain": [
       "   ID    Gene             Variation  Class  \\\n",
       "0   0  FAM58A  Truncating Mutations      1   \n",
       "1   1     CBL                 W802*      2   \n",
       "2   2     CBL                 Q249E      2   \n",
       "3   3     CBL                 N454D      3   \n",
       "4   4     CBL                 L399V      4   \n",
       "\n",
       "                                                TEXT  word_count  char_count  \\\n",
       "0  cyclin dependent kinases cdks regulate variety...        4370       30836   \n",
       "1  abstract background non small cell lung cancer...        4139       27844   \n",
       "2  abstract background non small cell lung cancer...        4139       27844   \n",
       "3  recent evidence demonstrated acquired uniparen...        3841       28093   \n",
       "4  oncogenic mutations monomeric casitas b lineag...        4254       31649   \n",
       "\n",
       "     neg   neut    pos    comp  \n",
       "0  0.064  0.890  0.046 -0.9963  \n",
       "1  0.070  0.851  0.079 -0.9677  \n",
       "2  0.070  0.851  0.079 -0.9677  \n",
       "3  0.058  0.855  0.087  0.9988  \n",
       "4  0.104  0.806  0.090 -0.9992  "
      ]
     },
     "execution_count": 18,
     "metadata": {},
     "output_type": "execute_result"
    }
   ],
   "source": [
    "result['neg']=neg\n",
    "result['neut']=neut\n",
    "result['pos']=pos\n",
    "result['comp']=comp\n",
    "\n",
    "result.head()"
   ]
  },
  {
   "cell_type": "markdown",
   "metadata": {},
   "source": [
    "# Now create some new gene_var features"
   ]
  },
  {
   "cell_type": "code",
   "execution_count": 20,
   "metadata": {},
   "outputs": [],
   "source": [
    "# For train\n",
    "\n",
    "result['freq_gene'] = result.groupby('Gene')['Gene'].transform('count') \n",
    "result['freq_var'] = result.groupby('Variation')['Variation'].transform('count')\n",
    "\n",
    "result['freq_gene+var'] = result['freq_gene']+result['freq_var']\n",
    "result['freq_gene-var'] = abs(result['freq_gene']-result['freq_var'])\n"
   ]
  },
  {
   "cell_type": "code",
   "execution_count": 21,
   "metadata": {},
   "outputs": [
    {
     "data": {
      "text/html": [
       "<div>\n",
       "<style scoped>\n",
       "    .dataframe tbody tr th:only-of-type {\n",
       "        vertical-align: middle;\n",
       "    }\n",
       "\n",
       "    .dataframe tbody tr th {\n",
       "        vertical-align: top;\n",
       "    }\n",
       "\n",
       "    .dataframe thead th {\n",
       "        text-align: right;\n",
       "    }\n",
       "</style>\n",
       "<table border=\"1\" class=\"dataframe\">\n",
       "  <thead>\n",
       "    <tr style=\"text-align: right;\">\n",
       "      <th></th>\n",
       "      <th>ID</th>\n",
       "      <th>Gene</th>\n",
       "      <th>Variation</th>\n",
       "      <th>Class</th>\n",
       "      <th>TEXT</th>\n",
       "      <th>word_count</th>\n",
       "      <th>char_count</th>\n",
       "      <th>neg</th>\n",
       "      <th>neut</th>\n",
       "      <th>pos</th>\n",
       "      <th>comp</th>\n",
       "      <th>freq_gene</th>\n",
       "      <th>freq_var</th>\n",
       "      <th>freq_gene+var</th>\n",
       "      <th>freq_gene-var</th>\n",
       "    </tr>\n",
       "  </thead>\n",
       "  <tbody>\n",
       "    <tr>\n",
       "      <th>0</th>\n",
       "      <td>0</td>\n",
       "      <td>FAM58A</td>\n",
       "      <td>Truncating Mutations</td>\n",
       "      <td>1</td>\n",
       "      <td>cyclin dependent kinases cdks regulate variety...</td>\n",
       "      <td>4370</td>\n",
       "      <td>30836</td>\n",
       "      <td>0.064</td>\n",
       "      <td>0.890</td>\n",
       "      <td>0.046</td>\n",
       "      <td>-0.9963</td>\n",
       "      <td>1</td>\n",
       "      <td>93</td>\n",
       "      <td>94</td>\n",
       "      <td>92</td>\n",
       "    </tr>\n",
       "    <tr>\n",
       "      <th>1</th>\n",
       "      <td>1</td>\n",
       "      <td>CBL</td>\n",
       "      <td>W802*</td>\n",
       "      <td>2</td>\n",
       "      <td>abstract background non small cell lung cancer...</td>\n",
       "      <td>4139</td>\n",
       "      <td>27844</td>\n",
       "      <td>0.070</td>\n",
       "      <td>0.851</td>\n",
       "      <td>0.079</td>\n",
       "      <td>-0.9677</td>\n",
       "      <td>25</td>\n",
       "      <td>1</td>\n",
       "      <td>26</td>\n",
       "      <td>24</td>\n",
       "    </tr>\n",
       "    <tr>\n",
       "      <th>2</th>\n",
       "      <td>2</td>\n",
       "      <td>CBL</td>\n",
       "      <td>Q249E</td>\n",
       "      <td>2</td>\n",
       "      <td>abstract background non small cell lung cancer...</td>\n",
       "      <td>4139</td>\n",
       "      <td>27844</td>\n",
       "      <td>0.070</td>\n",
       "      <td>0.851</td>\n",
       "      <td>0.079</td>\n",
       "      <td>-0.9677</td>\n",
       "      <td>25</td>\n",
       "      <td>1</td>\n",
       "      <td>26</td>\n",
       "      <td>24</td>\n",
       "    </tr>\n",
       "    <tr>\n",
       "      <th>3</th>\n",
       "      <td>3</td>\n",
       "      <td>CBL</td>\n",
       "      <td>N454D</td>\n",
       "      <td>3</td>\n",
       "      <td>recent evidence demonstrated acquired uniparen...</td>\n",
       "      <td>3841</td>\n",
       "      <td>28093</td>\n",
       "      <td>0.058</td>\n",
       "      <td>0.855</td>\n",
       "      <td>0.087</td>\n",
       "      <td>0.9988</td>\n",
       "      <td>25</td>\n",
       "      <td>1</td>\n",
       "      <td>26</td>\n",
       "      <td>24</td>\n",
       "    </tr>\n",
       "    <tr>\n",
       "      <th>4</th>\n",
       "      <td>4</td>\n",
       "      <td>CBL</td>\n",
       "      <td>L399V</td>\n",
       "      <td>4</td>\n",
       "      <td>oncogenic mutations monomeric casitas b lineag...</td>\n",
       "      <td>4254</td>\n",
       "      <td>31649</td>\n",
       "      <td>0.104</td>\n",
       "      <td>0.806</td>\n",
       "      <td>0.090</td>\n",
       "      <td>-0.9992</td>\n",
       "      <td>25</td>\n",
       "      <td>1</td>\n",
       "      <td>26</td>\n",
       "      <td>24</td>\n",
       "    </tr>\n",
       "  </tbody>\n",
       "</table>\n",
       "</div>"
      ],
      "text/plain": [
       "   ID    Gene             Variation  Class  \\\n",
       "0   0  FAM58A  Truncating Mutations      1   \n",
       "1   1     CBL                 W802*      2   \n",
       "2   2     CBL                 Q249E      2   \n",
       "3   3     CBL                 N454D      3   \n",
       "4   4     CBL                 L399V      4   \n",
       "\n",
       "                                                TEXT  word_count  char_count  \\\n",
       "0  cyclin dependent kinases cdks regulate variety...        4370       30836   \n",
       "1  abstract background non small cell lung cancer...        4139       27844   \n",
       "2  abstract background non small cell lung cancer...        4139       27844   \n",
       "3  recent evidence demonstrated acquired uniparen...        3841       28093   \n",
       "4  oncogenic mutations monomeric casitas b lineag...        4254       31649   \n",
       "\n",
       "     neg   neut    pos    comp  freq_gene  freq_var  freq_gene+var  \\\n",
       "0  0.064  0.890  0.046 -0.9963          1        93             94   \n",
       "1  0.070  0.851  0.079 -0.9677         25         1             26   \n",
       "2  0.070  0.851  0.079 -0.9677         25         1             26   \n",
       "3  0.058  0.855  0.087  0.9988         25         1             26   \n",
       "4  0.104  0.806  0.090 -0.9992         25         1             26   \n",
       "\n",
       "   freq_gene-var  \n",
       "0             92  \n",
       "1             24  \n",
       "2             24  \n",
       "3             24  \n",
       "4             24  "
      ]
     },
     "execution_count": 21,
     "metadata": {},
     "output_type": "execute_result"
    }
   ],
   "source": [
    "result.head()"
   ]
  },
  {
   "cell_type": "markdown",
   "metadata": {},
   "source": [
    "<h3>3.1.4. Test, Train and Cross Validation Split</h3>"
   ]
  },
  {
   "cell_type": "markdown",
   "metadata": {},
   "source": [
    "<h4>3.1.4.1. Splitting data into train, test and cross validation (64:20:16)</h4>"
   ]
  },
  {
   "cell_type": "code",
   "execution_count": 22,
   "metadata": {},
   "outputs": [],
   "source": [
    "y_true = result['Class'].values\n",
    "result.Gene      = result.Gene.str.replace('\\s+', '_')\n",
    "result.Variation = result.Variation.str.replace('\\s+', '_')\n",
    "\n",
    "# split the data into test and train by maintaining same distribution of output varaible 'y_true' [stratify=y_true]\n",
    "X_train, test_df, y_train, y_test = train_test_split(result, y_true, stratify=y_true, test_size=0.2)\n",
    "# split the train data into train and cross validation by maintaining same distribution of output varaible 'y_train' [stratify=y_train]\n",
    "train_df, cv_df, y_train, y_cv = train_test_split(X_train, y_train, stratify=y_train, test_size=0.2)"
   ]
  },
  {
   "cell_type": "markdown",
   "metadata": {},
   "source": [
    "<p> We split the data into train, test and cross validation data sets, preserving the ratio of class distribution in the original data set  </p>"
   ]
  },
  {
   "cell_type": "code",
   "execution_count": 23,
   "metadata": {},
   "outputs": [
    {
     "name": "stdout",
     "output_type": "stream",
     "text": [
      "Number of data points in train data: 2124\n",
      "Number of data points in test data: 665\n",
      "Number of data points in cross validation data: 532\n"
     ]
    }
   ],
   "source": [
    "print('Number of data points in train data:', train_df.shape[0])\n",
    "print('Number of data points in test data:', test_df.shape[0])\n",
    "print('Number of data points in cross validation data:', cv_df.shape[0])"
   ]
  },
  {
   "cell_type": "code",
   "execution_count": 24,
   "metadata": {},
   "outputs": [
    {
     "data": {
      "text/html": [
       "<div>\n",
       "<style scoped>\n",
       "    .dataframe tbody tr th:only-of-type {\n",
       "        vertical-align: middle;\n",
       "    }\n",
       "\n",
       "    .dataframe tbody tr th {\n",
       "        vertical-align: top;\n",
       "    }\n",
       "\n",
       "    .dataframe thead th {\n",
       "        text-align: right;\n",
       "    }\n",
       "</style>\n",
       "<table border=\"1\" class=\"dataframe\">\n",
       "  <thead>\n",
       "    <tr style=\"text-align: right;\">\n",
       "      <th></th>\n",
       "      <th>ID</th>\n",
       "      <th>Gene</th>\n",
       "      <th>Variation</th>\n",
       "      <th>Class</th>\n",
       "      <th>TEXT</th>\n",
       "      <th>word_count</th>\n",
       "      <th>char_count</th>\n",
       "      <th>neg</th>\n",
       "      <th>neut</th>\n",
       "      <th>pos</th>\n",
       "      <th>comp</th>\n",
       "      <th>freq_gene</th>\n",
       "      <th>freq_var</th>\n",
       "      <th>freq_gene+var</th>\n",
       "      <th>freq_gene-var</th>\n",
       "    </tr>\n",
       "  </thead>\n",
       "  <tbody>\n",
       "    <tr>\n",
       "      <th>509</th>\n",
       "      <td>509</td>\n",
       "      <td>TP53</td>\n",
       "      <td>R282Q</td>\n",
       "      <td>1</td>\n",
       "      <td>tumor suppressor p53 sequence specific dna bin...</td>\n",
       "      <td>2377</td>\n",
       "      <td>15484</td>\n",
       "      <td>0.027</td>\n",
       "      <td>0.903</td>\n",
       "      <td>0.070</td>\n",
       "      <td>0.9973</td>\n",
       "      <td>163</td>\n",
       "      <td>1</td>\n",
       "      <td>164</td>\n",
       "      <td>162</td>\n",
       "    </tr>\n",
       "    <tr>\n",
       "      <th>2284</th>\n",
       "      <td>2284</td>\n",
       "      <td>CIC</td>\n",
       "      <td>CIC-DUX4_Fusion</td>\n",
       "      <td>9</td>\n",
       "      <td>primitive round cell sarcomas childhood young ...</td>\n",
       "      <td>6110</td>\n",
       "      <td>43174</td>\n",
       "      <td>0.052</td>\n",
       "      <td>0.888</td>\n",
       "      <td>0.060</td>\n",
       "      <td>0.9814</td>\n",
       "      <td>5</td>\n",
       "      <td>1</td>\n",
       "      <td>6</td>\n",
       "      <td>4</td>\n",
       "    </tr>\n",
       "    <tr>\n",
       "      <th>2139</th>\n",
       "      <td>2139</td>\n",
       "      <td>KEAP1</td>\n",
       "      <td>R415G</td>\n",
       "      <td>4</td>\n",
       "      <td>oxidative electrophilic stresses sensed keap1 ...</td>\n",
       "      <td>3484</td>\n",
       "      <td>24532</td>\n",
       "      <td>0.162</td>\n",
       "      <td>0.786</td>\n",
       "      <td>0.052</td>\n",
       "      <td>-0.9999</td>\n",
       "      <td>14</td>\n",
       "      <td>1</td>\n",
       "      <td>15</td>\n",
       "      <td>13</td>\n",
       "    </tr>\n",
       "  </tbody>\n",
       "</table>\n",
       "</div>"
      ],
      "text/plain": [
       "        ID   Gene        Variation  Class  \\\n",
       "509    509   TP53            R282Q      1   \n",
       "2284  2284    CIC  CIC-DUX4_Fusion      9   \n",
       "2139  2139  KEAP1            R415G      4   \n",
       "\n",
       "                                                   TEXT  word_count  \\\n",
       "509   tumor suppressor p53 sequence specific dna bin...        2377   \n",
       "2284  primitive round cell sarcomas childhood young ...        6110   \n",
       "2139  oxidative electrophilic stresses sensed keap1 ...        3484   \n",
       "\n",
       "      char_count    neg   neut    pos    comp  freq_gene  freq_var  \\\n",
       "509        15484  0.027  0.903  0.070  0.9973        163         1   \n",
       "2284       43174  0.052  0.888  0.060  0.9814          5         1   \n",
       "2139       24532  0.162  0.786  0.052 -0.9999         14         1   \n",
       "\n",
       "      freq_gene+var  freq_gene-var  \n",
       "509             164            162  \n",
       "2284              6              4  \n",
       "2139             15             13  "
      ]
     },
     "execution_count": 24,
     "metadata": {},
     "output_type": "execute_result"
    }
   ],
   "source": [
    "train_df.head(3)"
   ]
  },
  {
   "cell_type": "markdown",
   "metadata": {},
   "source": [
    "<h4>3.1.4.2. Distribution of y_i's in Train, Test and Cross Validation datasets</h4>"
   ]
  },
  {
   "cell_type": "code",
   "execution_count": 25,
   "metadata": {},
   "outputs": [
    {
     "data": {
      "image/png": "[encoded data removed]",
      "text/plain": [
       "<Figure size 432x288 with 1 Axes>"
      ]
     },
     "metadata": {
      "needs_background": "light"
     },
     "output_type": "display_data"
    },
    {
     "name": "stdout",
     "output_type": "stream",
     "text": [
      "Number of data points in class 7 : 609 ( 28.672 %)\n",
      "Number of data points in class 4 : 439 ( 20.669 %)\n",
      "Number of data points in class 1 : 363 ( 17.09 %)\n",
      "Number of data points in class 2 : 289 ( 13.606 %)\n",
      "Number of data points in class 6 : 176 ( 8.286 %)\n",
      "Number of data points in class 5 : 155 ( 7.298 %)\n",
      "Number of data points in class 3 : 57 ( 2.684 %)\n",
      "Number of data points in class 9 : 24 ( 1.13 %)\n",
      "Number of data points in class 8 : 12 ( 0.565 %)\n",
      "--------------------------------------------------------------------------------\n"
     ]
    },
    {
     "data": {
      "image/png": "[encoded data removed]",
      "text/plain": [
       "<Figure size 432x288 with 1 Axes>"
      ]
     },
     "metadata": {
      "needs_background": "light"
     },
     "output_type": "display_data"
    },
    {
     "name": "stdout",
     "output_type": "stream",
     "text": [
      "Number of data points in class 7 : 191 ( 28.722 %)\n",
      "Number of data points in class 4 : 137 ( 20.602 %)\n",
      "Number of data points in class 1 : 114 ( 17.143 %)\n",
      "Number of data points in class 2 : 91 ( 13.684 %)\n",
      "Number of data points in class 6 : 55 ( 8.271 %)\n",
      "Number of data points in class 5 : 48 ( 7.218 %)\n",
      "Number of data points in class 3 : 18 ( 2.707 %)\n",
      "Number of data points in class 9 : 7 ( 1.053 %)\n",
      "Number of data points in class 8 : 4 ( 0.602 %)\n",
      "--------------------------------------------------------------------------------\n"
     ]
    },
    {
     "data": {
      "image/png": "[encoded data removed]",
      "text/plain": [
       "<Figure size 432x288 with 1 Axes>"
      ]
     },
     "metadata": {
      "needs_background": "light"
     },
     "output_type": "display_data"
    },
    {
     "name": "stdout",
     "output_type": "stream",
     "text": [
      "Number of data points in class 7 : 153 ( 28.759 %)\n",
      "Number of data points in class 4 : 110 ( 20.677 %)\n",
      "Number of data points in class 1 : 91 ( 17.105 %)\n",
      "Number of data points in class 2 : 72 ( 13.534 %)\n",
      "Number of data points in class 6 : 44 ( 8.271 %)\n",
      "Number of data points in class 5 : 39 ( 7.331 %)\n",
      "Number of data points in class 3 : 14 ( 2.632 %)\n",
      "Number of data points in class 9 : 6 ( 1.128 %)\n",
      "Number of data points in class 8 : 3 ( 0.564 %)\n"
     ]
    }
   ],
   "source": [
    "# it returns a dict, keys as class labels and values as the number of data points in that class\n",
    "train_class_distribution = train_df['Class'].value_counts().sort_index()\n",
    "test_class_distribution = test_df['Class'].value_counts().sort_index()\n",
    "cv_class_distribution = cv_df['Class'].value_counts().sort_index()\n",
    "\n",
    "my_colors = 'rgbkymc'\n",
    "train_class_distribution.plot(kind='bar')\n",
    "\n",
    "plt.xlabel('Class')\n",
    "plt.ylabel('Data points per Class')\n",
    "plt.title('Distribution of yi in train data')\n",
    "plt.grid()\n",
    "plt.show()\n",
    "\n",
    "# ref: argsort https://docs.scipy.org/doc/numpy/reference/generated/numpy.argsort.html\n",
    "# -(train_class_distribution.values): the minus sign will give us in decreasing order\n",
    "sorted_yi = np.argsort(-train_class_distribution.values)\n",
    "for i in sorted_yi:\n",
    "    print('Number of data points in class', i+1, ':',train_class_distribution.values[i], '(', np.round((train_class_distribution.values[i]/train_df.shape[0]*100), 3), '%)')\n",
    "\n",
    "    \n",
    "print('-'*80)\n",
    "my_colors = 'rgbkymc'\n",
    "test_class_distribution.plot(kind='bar')\n",
    "plt.xlabel('Class')\n",
    "plt.ylabel('Data points per Class')\n",
    "plt.title('Distribution of yi in test data')\n",
    "plt.grid()\n",
    "plt.show()\n",
    "\n",
    "# ref: argsort https://docs.scipy.org/doc/numpy/reference/generated/numpy.argsort.html\n",
    "# -(train_class_distribution.values): the minus sign will give us in decreasing order\n",
    "sorted_yi = np.argsort(-test_class_distribution.values)\n",
    "for i in sorted_yi:\n",
    "    print('Number of data points in class', i+1, ':',test_class_distribution.values[i], '(', np.round((test_class_distribution.values[i]/test_df.shape[0]*100), 3), '%)')\n",
    "\n",
    "print('-'*80)\n",
    "my_colors = 'rgbkymc'\n",
    "cv_class_distribution.plot(kind='bar')\n",
    "plt.xlabel('Class')\n",
    "plt.ylabel('Data points per Class')\n",
    "plt.title('Distribution of yi in cross validation data')\n",
    "plt.grid()\n",
    "plt.show()\n",
    "\n",
    "# ref: argsort https://docs.scipy.org/doc/numpy/reference/generated/numpy.argsort.html\n",
    "# -(train_class_distribution.values): the minus sign will give us in decreasing order\n",
    "sorted_yi = np.argsort(-train_class_distribution.values)\n",
    "for i in sorted_yi:\n",
    "    print('Number of data points in class', i+1, ':',cv_class_distribution.values[i], '(', np.round((cv_class_distribution.values[i]/cv_df.shape[0]*100), 3), '%)')\n"
   ]
  },
  {
   "cell_type": "markdown",
   "metadata": {},
   "source": [
    "<h2>3.2 Prediction using a 'Random' Model</h2>"
   ]
  },
  {
   "cell_type": "markdown",
   "metadata": {},
   "source": [
    "<p style=\"font-size:16px\"> In a 'Random' Model, we generate the NINE class probabilites randomly such that they sum to 1. </p>"
   ]
  },
  {
   "cell_type": "code",
   "execution_count": 26,
   "metadata": {},
   "outputs": [],
   "source": [
    "# This function plots the confusion matrices given y_i, y_i_hat.\n",
    "def plot_confusion_matrix(test_y, predict_y):\n",
    "    C = confusion_matrix(test_y, predict_y)\n",
    "    # C = 9,9 matrix, each cell (i,j) represents number of points of class i are predicted class j\n",
    "    \n",
    "    A =(((C.T)/(C.sum(axis=1))).T)\n",
    "    #divid each element of the confusion matrix with the sum of elements in that column\n",
    "    \n",
    "    # C = [[1, 2],\n",
    "    #     [3, 4]]\n",
    "    # C.T = [[1, 3],\n",
    "    #        [2, 4]]\n",
    "    # C.sum(axis = 1)  axis=0 corresonds to columns and axis=1 corresponds to rows in two diamensional array\n",
    "    # C.sum(axix =1) = [[3, 7]]\n",
    "    # ((C.T)/(C.sum(axis=1))) = [[1/3, 3/7]\n",
    "    #                           [2/3, 4/7]]\n",
    "\n",
    "    # ((C.T)/(C.sum(axis=1))).T = [[1/3, 2/3]\n",
    "    #                           [3/7, 4/7]]\n",
    "    # sum of row elements = 1\n",
    "    \n",
    "    B =(C/C.sum(axis=0))\n",
    "    #divid each element of the confusion matrix with the sum of elements in that row\n",
    "    # C = [[1, 2],\n",
    "    #     [3, 4]]\n",
    "    # C.sum(axis = 0)  axis=0 corresonds to columns and axis=1 corresponds to rows in two diamensional array\n",
    "    # C.sum(axix =0) = [[4, 6]]\n",
    "    # (C/C.sum(axis=0)) = [[1/4, 2/6],\n",
    "    #                      [3/4, 4/6]] \n",
    "    \n",
    "    labels = [1,2,3,4,5,6,7,8,9]\n",
    "    # representing A in heatmap format\n",
    "    print(\"-\"*20, \"Confusion matrix\", \"-\"*20)\n",
    "    plt.figure(figsize=(20,7))\n",
    "    sns.heatmap(C, annot=True, cmap=\"YlGnBu\", fmt=\".3f\", xticklabels=labels, yticklabels=labels)\n",
    "    plt.xlabel('Predicted Class')\n",
    "    plt.ylabel('Original Class')\n",
    "    plt.show()\n",
    "\n",
    "    print(\"-\"*20, \"Precision matrix (Columm Sum=1)\", \"-\"*20)\n",
    "    plt.figure(figsize=(20,7))\n",
    "    sns.heatmap(B, annot=True, cmap=\"YlGnBu\", fmt=\".3f\", xticklabels=labels, yticklabels=labels)\n",
    "    plt.xlabel('Predicted Class')\n",
    "    plt.ylabel('Original Class')\n",
    "    plt.show()\n",
    "    \n",
    "    # representing B in heatmap format\n",
    "    print(\"-\"*20, \"Recall matrix (Row sum=1)\", \"-\"*20)\n",
    "    plt.figure(figsize=(20,7))\n",
    "    sns.heatmap(A, annot=True, cmap=\"YlGnBu\", fmt=\".3f\", xticklabels=labels, yticklabels=labels)\n",
    "    plt.xlabel('Predicted Class')\n",
    "    plt.ylabel('Original Class')\n",
    "    plt.show()"
   ]
  },
  {
   "cell_type": "code",
   "execution_count": 27,
   "metadata": {},
   "outputs": [
    {
     "name": "stdout",
     "output_type": "stream",
     "text": [
      "Log loss on Cross Validation Data using Random Model 2.541902865908632\n",
      "Log loss on Test Data using Random Model 2.4738083617233255\n",
      "-------------------- Confusion matrix --------------------\n"
     ]
    },
    {
     "data": {
      "image/png": "[encoded data removed]",
      "text/plain": [
       "<Figure size 1440x504 with 2 Axes>"
      ]
     },
     "metadata": {
      "needs_background": "light"
     },
     "output_type": "display_data"
    },
    {
     "name": "stdout",
     "output_type": "stream",
     "text": [
      "-------------------- Precision matrix (Columm Sum=1) --------------------\n"
     ]
    },
    {
     "data": {
      "image/png": "[encoded data removed]",
      "text/plain": [
       "<Figure size 1440x504 with 2 Axes>"
      ]
     },
     "metadata": {
      "needs_background": "light"
     },
     "output_type": "display_data"
    },
    {
     "name": "stdout",
     "output_type": "stream",
     "text": [
      "-------------------- Recall matrix (Row sum=1) --------------------\n"
     ]
    },
    {
     "data": {
      "image/png": "[encoded data removed]",
      "text/plain": [
       "<Figure size 1440x504 with 2 Axes>"
      ]
     },
     "metadata": {
      "needs_background": "light"
     },
     "output_type": "display_data"
    }
   ],
   "source": [
    "# we need to generate 9 numbers and the sum of numbers should be 1\n",
    "# one solution is to genarate 9 numbers and divide each of the numbers by their sum\n",
    "# ref: https://stackoverflow.com/a/18662466/4084039\n",
    "test_data_len = test_df.shape[0]\n",
    "cv_data_len = cv_df.shape[0]\n",
    "\n",
    "# we create a output array that has exactly same size as the CV data\n",
    "cv_predicted_y = np.zeros((cv_data_len,9))\n",
    "for i in range(cv_data_len):\n",
    "    rand_probs = np.random.rand(1,9)\n",
    "    cv_predicted_y[i] = ((rand_probs/sum(sum(rand_probs)))[0])\n",
    "print(\"Log loss on Cross Validation Data using Random Model\",log_loss(y_cv,cv_predicted_y, eps=1e-15))\n",
    "\n",
    "\n",
    "# Test-Set error.\n",
    "#we create a output array that has exactly same as the test data\n",
    "test_predicted_y = np.zeros((test_data_len,9))\n",
    "for i in range(test_data_len):\n",
    "    rand_probs = np.random.rand(1,9)\n",
    "    test_predicted_y[i] = ((rand_probs/sum(sum(rand_probs)))[0])\n",
    "print(\"Log loss on Test Data using Random Model\",log_loss(y_test,test_predicted_y, eps=1e-15))\n",
    "\n",
    "predicted_y =np.argmax(test_predicted_y, axis=1)\n",
    "plot_confusion_matrix(y_test, predicted_y+1)"
   ]
  },
  {
   "cell_type": "markdown",
   "metadata": {},
   "source": [
    "<h2>3.3 Univariate Analysis</h2>"
   ]
  },
  {
   "cell_type": "code",
   "execution_count": 28,
   "metadata": {},
   "outputs": [],
   "source": [
    "# code for response coding with Laplace smoothing.\n",
    "# alpha : used for laplace smoothing\n",
    "# feature: ['gene', 'variation']\n",
    "# df: ['train_df', 'test_df', 'cv_df']\n",
    "# algorithm\n",
    "# ----------\n",
    "# Consider all unique values and the number of occurances of given feature in train data dataframe\n",
    "# build a vector (1*9) , the first element = (number of times it occured in class1 + 10*alpha / number of time it occurred in total data+90*alpha)\n",
    "# gv_dict is like a look up table, for every gene it store a (1*9) representation of it\n",
    "# for a value of feature in df:\n",
    "# if it is in train data:\n",
    "# we add the vector that was stored in 'gv_dict' look up table to 'gv_fea'\n",
    "# if it is not there is train:\n",
    "# we add [1/9, 1/9, 1/9, 1/9,1/9, 1/9, 1/9, 1/9, 1/9] to 'gv_fea'\n",
    "# return 'gv_fea'\n",
    "# ----------------------\n",
    "\n",
    "# get_gv_fea_dict: Get Gene varaition Feature Dict\n",
    "def get_gv_fea_dict(alpha, feature, df):\n",
    "    # value_count: it contains a dict like\n",
    "    # print(train_df['Gene'].value_counts())\n",
    "    # output:\n",
    "    #        {BRCA1      174\n",
    "    #         TP53       106\n",
    "    #         EGFR        86\n",
    "    #         BRCA2       75\n",
    "    #         PTEN        69\n",
    "    #         KIT         61\n",
    "    #         BRAF        60\n",
    "    #         ERBB2       47\n",
    "    #         PDGFRA      46\n",
    "    #         ...}\n",
    "    # print(train_df['Variation'].value_counts())\n",
    "    # output:\n",
    "    # {\n",
    "    # Truncating_Mutations                     63\n",
    "    # Deletion                                 43\n",
    "    # Amplification                            43\n",
    "    # Fusions                                  22\n",
    "    # Overexpression                            3\n",
    "    # E17K                                      3\n",
    "    # Q61L                                      3\n",
    "    # S222D                                     2\n",
    "    # P130S                                     2\n",
    "    # ...\n",
    "    # }\n",
    "    value_count = train_df[feature].value_counts()\n",
    "    \n",
    "    # gv_dict : Gene Variation Dict, which contains the probability array for each gene/variation\n",
    "    gv_dict = dict()\n",
    "    \n",
    "    # denominator will contain the number of time that particular feature occured in whole data\n",
    "    for i, denominator in value_count.items():\n",
    "        # vec will contain (p(yi==1/Gi) probability of gene/variation belongs to perticular class\n",
    "        # vec is 9 diamensional vector\n",
    "        vec = []\n",
    "        for k in range(1,10):\n",
    "            # print(train_df.loc[(train_df['Class']==1) & (train_df['Gene']=='BRCA1')])\n",
    "            #         ID   Gene             Variation  Class  \n",
    "            # 2470  2470  BRCA1                S1715C      1   \n",
    "            # 2486  2486  BRCA1                S1841R      1   \n",
    "            # 2614  2614  BRCA1                   M1R      1   \n",
    "            # 2432  2432  BRCA1                L1657P      1   \n",
    "            # 2567  2567  BRCA1                T1685A      1   \n",
    "            # 2583  2583  BRCA1                E1660G      1   \n",
    "            # 2634  2634  BRCA1                W1718L      1   \n",
    "            # cls_cnt.shape[0] will return the number of rows\n",
    "\n",
    "            cls_cnt = train_df.loc[(train_df['Class']==k) & (train_df[feature]==i)]\n",
    "            \n",
    "            # cls_cnt.shape[0](numerator) will contain the number of time that particular feature occured in whole data\n",
    "            vec.append((cls_cnt.shape[0] + alpha*10)/ (denominator + 90*alpha))\n",
    "\n",
    "        # we are adding the gene/variation to the dict as key and vec as value\n",
    "        gv_dict[i]=vec\n",
    "    return gv_dict\n",
    "\n",
    "# Get Gene variation feature\n",
    "def get_gv_feature(alpha, feature, df):\n",
    "    # print(gv_dict)\n",
    "    #     {'BRCA1': [0.20075757575757575, 0.03787878787878788, 0.068181818181818177, 0.13636363636363635, 0.25, 0.19318181818181818, 0.03787878787878788, 0.03787878787878788, 0.03787878787878788], \n",
    "    #      'TP53': [0.32142857142857145, 0.061224489795918366, 0.061224489795918366, 0.27040816326530615, 0.061224489795918366, 0.066326530612244902, 0.051020408163265307, 0.051020408163265307, 0.056122448979591837], \n",
    "    #      'EGFR': [0.056818181818181816, 0.21590909090909091, 0.0625, 0.068181818181818177, 0.068181818181818177, 0.0625, 0.34659090909090912, 0.0625, 0.056818181818181816], \n",
    "    #      'BRCA2': [0.13333333333333333, 0.060606060606060608, 0.060606060606060608, 0.078787878787878782, 0.1393939393939394, 0.34545454545454546, 0.060606060606060608, 0.060606060606060608, 0.060606060606060608], \n",
    "    #      'PTEN': [0.069182389937106917, 0.062893081761006289, 0.069182389937106917, 0.46540880503144655, 0.075471698113207544, 0.062893081761006289, 0.069182389937106917, 0.062893081761006289, 0.062893081761006289], \n",
    "    #      'KIT': [0.066225165562913912, 0.25165562913907286, 0.072847682119205295, 0.072847682119205295, 0.066225165562913912, 0.066225165562913912, 0.27152317880794702, 0.066225165562913912, 0.066225165562913912], \n",
    "    #      'BRAF': [0.066666666666666666, 0.17999999999999999, 0.073333333333333334, 0.073333333333333334, 0.093333333333333338, 0.080000000000000002, 0.29999999999999999, 0.066666666666666666, 0.066666666666666666],\n",
    "    #      ...\n",
    "    #     }\n",
    "    gv_dict = get_gv_fea_dict(alpha, feature, df)\n",
    "    # value_count is similar in get_gv_fea_dict\n",
    "    value_count = train_df[feature].value_counts()\n",
    "    \n",
    "    # gv_fea: Gene_variation feature, it will contain the feature for each feature value in the data\n",
    "    gv_fea = []\n",
    "    # for every feature values in the given data frame we will check if it is there in the train data then we will add the feature to gv_fea\n",
    "    # if not we will add [1/9,1/9,1/9,1/9,1/9,1/9,1/9,1/9,1/9] to gv_fea\n",
    "    for index, row in df.iterrows():\n",
    "        if row[feature] in dict(value_count).keys():\n",
    "            gv_fea.append(gv_dict[row[feature]])\n",
    "        else:\n",
    "            gv_fea.append([1/9,1/9,1/9,1/9,1/9,1/9,1/9,1/9,1/9])\n",
    "#             gv_fea.append([-1,-1,-1,-1,-1,-1,-1,-1,-1])\n",
    "    return gv_fea"
   ]
  },
  {
   "cell_type": "markdown",
   "metadata": {},
   "source": [
    "when we caculate the probability of a feature belongs to any particular class, we apply laplace smoothing\n",
    "<li>(numerator + 10\\*alpha) / (denominator + 90\\*alpha) </li>"
   ]
  },
  {
   "cell_type": "markdown",
   "metadata": {},
   "source": [
    "<h3>3.2.1 Univariate Analysis on Gene Feature</h3>"
   ]
  },
  {
   "cell_type": "markdown",
   "metadata": {},
   "source": [
    "<p style=\"font-size:18px;\"> <b>Q1.</b> Gene, What type of feature it is ?</p>\n",
    "<p style=\"font-size:16px;\"><b>Ans.</b> Gene is a categorical variable </p>\n",
    "<p style=\"font-size:18px;\"> <b>Q2.</b> How many categories are there and How they are distributed?</p>"
   ]
  },
  {
   "cell_type": "code",
   "execution_count": 29,
   "metadata": {},
   "outputs": [
    {
     "name": "stdout",
     "output_type": "stream",
     "text": [
      "Number of Unique Genes : 229\n",
      "BRCA1     170\n",
      "TP53      107\n",
      "EGFR       92\n",
      "PTEN       79\n",
      "BRCA2      76\n",
      "KIT        63\n",
      "BRAF       56\n",
      "ALK        47\n",
      "PDGFRA     44\n",
      "ERBB2      44\n",
      "Name: Gene, dtype: int64\n"
     ]
    }
   ],
   "source": [
    "unique_genes = train_df['Gene'].value_counts()\n",
    "print('Number of Unique Genes :', unique_genes.shape[0])\n",
    "# the top 10 genes that occured most\n",
    "print(unique_genes.head(10))"
   ]
  },
  {
   "cell_type": "code",
   "execution_count": 30,
   "metadata": {
    "scrolled": true
   },
   "outputs": [
    {
     "name": "stdout",
     "output_type": "stream",
     "text": [
      "Ans: There are 229 different categories of genes in the train data, and they are distibuted as follows\n"
     ]
    }
   ],
   "source": [
    "print(\"Ans: There are\", unique_genes.shape[0] ,\"different categories of genes in the train data, and they are distibuted as follows\",)"
   ]
  },
  {
   "cell_type": "code",
   "execution_count": 31,
   "metadata": {},
   "outputs": [
    {
     "data": {
      "image/png": "[encoded data removed]",
      "text/plain": [
       "<Figure size 432x288 with 1 Axes>"
      ]
     },
     "metadata": {
      "needs_background": "light"
     },
     "output_type": "display_data"
    }
   ],
   "source": [
    "s = sum(unique_genes.values);\n",
    "h = unique_genes.values/s;\n",
    "plt.plot(h, label=\"Histrogram of Genes\")\n",
    "plt.xlabel('Index of a Gene')\n",
    "plt.ylabel('Number of Occurances')\n",
    "plt.legend()\n",
    "plt.grid()\n",
    "plt.show()\n"
   ]
  },
  {
   "cell_type": "code",
   "execution_count": 32,
   "metadata": {},
   "outputs": [
    {
     "data": {
      "image/png": "[encoded data removed]",
      "text/plain": [
       "<Figure size 432x288 with 1 Axes>"
      ]
     },
     "metadata": {
      "needs_background": "light"
     },
     "output_type": "display_data"
    }
   ],
   "source": [
    "c = np.cumsum(h)\n",
    "plt.plot(c,label='Cumulative distribution of Genes')\n",
    "plt.grid()\n",
    "plt.legend()\n",
    "plt.show()"
   ]
  },
  {
   "cell_type": "markdown",
   "metadata": {},
   "source": [
    "<p style=\"font-size:18px;\"> <b>Q3.</b> How to featurize this Gene feature ?</p>\n",
    "\n",
    "<p style=\"font-size:16px;\"><b>Ans.</b>there are two ways we can featurize this variable\n",
    "\n",
    "<ol><li>One hot Encoding</li><li>Response coding</li></ol></p>\n",
    "<p> We will choose the appropriate featurization based on the ML model we use.  For this problem of multi-class classification with categorical features, one-hot encoding is better for Logistic regression while response coding is better for Random Forests. </p>"
   ]
  },
  {
   "cell_type": "code",
   "execution_count": 33,
   "metadata": {},
   "outputs": [],
   "source": [
    "#response-coding of the Gene feature\n",
    "# alpha is used for laplace smoothing\n",
    "alpha = 1\n",
    "# train gene feature\n",
    "train_gene_feature_responseCoding = np.array(get_gv_feature(alpha, \"Gene\", train_df))\n",
    "# test gene feature\n",
    "test_gene_feature_responseCoding = np.array(get_gv_feature(alpha, \"Gene\", test_df))\n",
    "# cross validation gene feature\n",
    "cv_gene_feature_responseCoding = np.array(get_gv_feature(alpha, \"Gene\", cv_df))"
   ]
  },
  {
   "cell_type": "code",
   "execution_count": 34,
   "metadata": {},
   "outputs": [
    {
     "name": "stdout",
     "output_type": "stream",
     "text": [
      "train_gene_feature_responseCoding is converted feature using respone coding method. The shape of gene feature: (2124, 9)\n"
     ]
    }
   ],
   "source": [
    "print(\"train_gene_feature_responseCoding is converted feature using respone coding method. The shape of gene feature:\", train_gene_feature_responseCoding.shape)"
   ]
  },
  {
   "cell_type": "code",
   "execution_count": 35,
   "metadata": {},
   "outputs": [],
   "source": [
    "# one-hot encoding of Gene feature.\n",
    "gene_vectorizer = CountVectorizer()\n",
    "train_gene_feature_onehotCoding = gene_vectorizer.fit_transform(train_df['Gene'])\n",
    "test_gene_feature_onehotCoding = gene_vectorizer.transform(test_df['Gene'])\n",
    "cv_gene_feature_onehotCoding = gene_vectorizer.transform(cv_df['Gene'])"
   ]
  },
  {
   "cell_type": "code",
   "execution_count": 36,
   "metadata": {},
   "outputs": [],
   "source": [
    "train_gene_feature_onehotCoding = normalize(train_gene_feature_onehotCoding, axis=0)\n",
    "\n",
    "test_gene_feature_onehotCoding = normalize(test_gene_feature_onehotCoding, axis=0)\n",
    "\n",
    "cv_gene_feature_onehotCoding = normalize(cv_gene_feature_onehotCoding, axis=0)"
   ]
  },
  {
   "cell_type": "code",
   "execution_count": 37,
   "metadata": {},
   "outputs": [
    {
     "data": {
      "text/plain": [
       "509      TP53\n",
       "2284      CIC\n",
       "2139    KEAP1\n",
       "1462    FGFR2\n",
       "2174     PTEN\n",
       "Name: Gene, dtype: object"
      ]
     },
     "execution_count": 37,
     "metadata": {},
     "output_type": "execute_result"
    }
   ],
   "source": [
    "train_df['Gene'].head()"
   ]
  },
  {
   "cell_type": "code",
   "execution_count": 38,
   "metadata": {},
   "outputs": [
    {
     "data": {
      "text/plain": [
       "['abl1',\n",
       " 'ago2',\n",
       " 'akt1',\n",
       " 'akt2',\n",
       " 'akt3',\n",
       " 'alk',\n",
       " 'apc',\n",
       " 'ar',\n",
       " 'araf',\n",
       " 'arid1b',\n",
       " 'arid2',\n",
       " 'arid5b',\n",
       " 'asxl1',\n",
       " 'atm',\n",
       " 'atrx',\n",
       " 'aurka',\n",
       " 'aurkb',\n",
       " 'axl',\n",
       " 'b2m',\n",
       " 'bap1',\n",
       " 'bcl10',\n",
       " 'bcl2l11',\n",
       " 'bcor',\n",
       " 'braf',\n",
       " 'brca1',\n",
       " 'brca2',\n",
       " 'brip1',\n",
       " 'btk',\n",
       " 'card11',\n",
       " 'carm1',\n",
       " 'casp8',\n",
       " 'cbl',\n",
       " 'ccnd1',\n",
       " 'ccnd2',\n",
       " 'ccnd3',\n",
       " 'ccne1',\n",
       " 'cdh1',\n",
       " 'cdk12',\n",
       " 'cdk4',\n",
       " 'cdk6',\n",
       " 'cdk8',\n",
       " 'cdkn1a',\n",
       " 'cdkn1b',\n",
       " 'cdkn2a',\n",
       " 'cdkn2b',\n",
       " 'cdkn2c',\n",
       " 'chek2',\n",
       " 'cic',\n",
       " 'crebbp',\n",
       " 'ctcf',\n",
       " 'ctla4',\n",
       " 'ctnnb1',\n",
       " 'ddr2',\n",
       " 'dicer1',\n",
       " 'dnmt3b',\n",
       " 'dusp4',\n",
       " 'egfr',\n",
       " 'elf3',\n",
       " 'ep300',\n",
       " 'epas1',\n",
       " 'erbb2',\n",
       " 'erbb3',\n",
       " 'erbb4',\n",
       " 'ercc2',\n",
       " 'ercc3',\n",
       " 'ercc4',\n",
       " 'erg',\n",
       " 'errfi1',\n",
       " 'esr1',\n",
       " 'etv1',\n",
       " 'etv6',\n",
       " 'ewsr1',\n",
       " 'ezh2',\n",
       " 'fam58a',\n",
       " 'fanca',\n",
       " 'fat1',\n",
       " 'fbxw7',\n",
       " 'fgf3',\n",
       " 'fgfr1',\n",
       " 'fgfr2',\n",
       " 'fgfr3',\n",
       " 'fgfr4',\n",
       " 'flt3',\n",
       " 'foxa1',\n",
       " 'foxl2',\n",
       " 'foxo1',\n",
       " 'foxp1',\n",
       " 'gata3',\n",
       " 'gli1',\n",
       " 'gnaq',\n",
       " 'gnas',\n",
       " 'h3f3a',\n",
       " 'hla',\n",
       " 'hnf1a',\n",
       " 'hras',\n",
       " 'idh1',\n",
       " 'idh2',\n",
       " 'igf1r',\n",
       " 'ikbke',\n",
       " 'ikzf1',\n",
       " 'il7r',\n",
       " 'inpp4b',\n",
       " 'jak1',\n",
       " 'jak2',\n",
       " 'jun',\n",
       " 'kdm5a',\n",
       " 'kdm5c',\n",
       " 'kdm6a',\n",
       " 'kdr',\n",
       " 'keap1',\n",
       " 'kit',\n",
       " 'kmt2a',\n",
       " 'kmt2c',\n",
       " 'knstrn',\n",
       " 'kras',\n",
       " 'lats2',\n",
       " 'map2k1',\n",
       " 'map2k2',\n",
       " 'map2k4',\n",
       " 'map3k1',\n",
       " 'mdm2',\n",
       " 'mdm4',\n",
       " 'med12',\n",
       " 'mef2b',\n",
       " 'men1',\n",
       " 'met',\n",
       " 'mga',\n",
       " 'mlh1',\n",
       " 'mpl',\n",
       " 'msh2',\n",
       " 'msh6',\n",
       " 'mtor',\n",
       " 'myc',\n",
       " 'mycn',\n",
       " 'myd88',\n",
       " 'myod1',\n",
       " 'ncor1',\n",
       " 'nf1',\n",
       " 'nf2',\n",
       " 'nfe2l2',\n",
       " 'nfkbia',\n",
       " 'nkx2',\n",
       " 'notch1',\n",
       " 'nras',\n",
       " 'nsd1',\n",
       " 'ntrk1',\n",
       " 'ntrk2',\n",
       " 'ntrk3',\n",
       " 'nup93',\n",
       " 'pbrm1',\n",
       " 'pdgfra',\n",
       " 'pdgfrb',\n",
       " 'pik3ca',\n",
       " 'pik3cb',\n",
       " 'pik3cd',\n",
       " 'pik3r1',\n",
       " 'pik3r2',\n",
       " 'pim1',\n",
       " 'pms2',\n",
       " 'pole',\n",
       " 'ppm1d',\n",
       " 'ppp2r1a',\n",
       " 'ppp6c',\n",
       " 'prdm1',\n",
       " 'ptch1',\n",
       " 'pten',\n",
       " 'ptpn11',\n",
       " 'ptprd',\n",
       " 'ptprt',\n",
       " 'rac1',\n",
       " 'rad21',\n",
       " 'rad50',\n",
       " 'rad51b',\n",
       " 'rad51c',\n",
       " 'rad51d',\n",
       " 'rad54l',\n",
       " 'raf1',\n",
       " 'rara',\n",
       " 'rasa1',\n",
       " 'rb1',\n",
       " 'rbm10',\n",
       " 'ret',\n",
       " 'rheb',\n",
       " 'rhoa',\n",
       " 'rictor',\n",
       " 'rit1',\n",
       " 'ros1',\n",
       " 'rras2',\n",
       " 'runx1',\n",
       " 'rxra',\n",
       " 'rybp',\n",
       " 'sdhb',\n",
       " 'sdhc',\n",
       " 'setd2',\n",
       " 'sf3b1',\n",
       " 'shoc2',\n",
       " 'smad2',\n",
       " 'smad3',\n",
       " 'smad4',\n",
       " 'smarca4',\n",
       " 'smarcb1',\n",
       " 'smo',\n",
       " 'sos1',\n",
       " 'sox9',\n",
       " 'spop',\n",
       " 'src',\n",
       " 'stag2',\n",
       " 'stat3',\n",
       " 'stk11',\n",
       " 'tcf3',\n",
       " 'tcf7l2',\n",
       " 'tert',\n",
       " 'tet1',\n",
       " 'tet2',\n",
       " 'tgfbr1',\n",
       " 'tgfbr2',\n",
       " 'tmprss2',\n",
       " 'tp53',\n",
       " 'tp53bp1',\n",
       " 'tsc1',\n",
       " 'tsc2',\n",
       " 'u2af1',\n",
       " 'vhl',\n",
       " 'whsc1',\n",
       " 'whsc1l1',\n",
       " 'xpo1',\n",
       " 'xrcc2',\n",
       " 'yap1']"
      ]
     },
     "execution_count": 38,
     "metadata": {},
     "output_type": "execute_result"
    }
   ],
   "source": [
    "gene_vectorizer.get_feature_names()"
   ]
  },
  {
   "cell_type": "code",
   "execution_count": 39,
   "metadata": {},
   "outputs": [
    {
     "name": "stdout",
     "output_type": "stream",
     "text": [
      "train_gene_feature_onehotCoding is converted feature using one-hot encoding method. The shape of gene feature: (2124, 228)\n"
     ]
    }
   ],
   "source": [
    "print(\"train_gene_feature_onehotCoding is converted feature using one-hot encoding method. The shape of gene feature:\", train_gene_feature_onehotCoding.shape)"
   ]
  },
  {
   "cell_type": "markdown",
   "metadata": {},
   "source": [
    "<p style=\"font-size:18px;\"> <b>Q4.</b> How good is this gene feature  in predicting y_i?</p>"
   ]
  },
  {
   "cell_type": "markdown",
   "metadata": {},
   "source": [
    "There are many ways to estimate how good a feature is, in predicting y_i. One of the good methods is to build a proper ML model using just this feature. In this case, we will build a logistic regression model using only Gene feature (one hot encoded) to predict y_i."
   ]
  },
  {
   "cell_type": "code",
   "execution_count": 40,
   "metadata": {},
   "outputs": [
    {
     "name": "stdout",
     "output_type": "stream",
     "text": [
      "For values of alpha =  1e-05 The log loss is: 1.1452972200549174\n",
      "For values of alpha =  0.0001 The log loss is: 1.1486357847260564\n",
      "For values of alpha =  0.001 The log loss is: 1.1546978710869704\n",
      "For values of alpha =  0.01 The log loss is: 1.1907671904703512\n",
      "For values of alpha =  0.1 The log loss is: 1.2506001725552065\n",
      "For values of alpha =  1 The log loss is: 1.2610909845319795\n"
     ]
    },
    {
     "data": {
      "image/png": "[encoded data removed]",
      "text/plain": [
       "<Figure size 432x288 with 1 Axes>"
      ]
     },
     "metadata": {
      "needs_background": "light"
     },
     "output_type": "display_data"
    },
    {
     "name": "stdout",
     "output_type": "stream",
     "text": [
      "For values of best alpha =  1e-05 The train log loss is: 1.0362532486120068\n",
      "For values of best alpha =  1e-05 The cross validation log loss is: 1.1452972200549174\n",
      "For values of best alpha =  1e-05 The test log loss is: 1.2323199316531213\n"
     ]
    }
   ],
   "source": [
    "alpha = [10 ** x for x in range(-5, 1)] # hyperparam for SGD classifier.\n",
    "\n",
    "# read more about SGDClassifier() at http://scikit-learn.org/stable/modules/generated/sklearn.linear_model.SGDClassifier.html\n",
    "# ------------------------------\n",
    "# default parameters\n",
    "# SGDClassifier(loss=’hinge’, penalty=’l2’, alpha=0.0001, l1_ratio=0.15, fit_intercept=True, max_iter=None, tol=None, \n",
    "# shuffle=True, verbose=0, epsilon=0.1, n_jobs=1, random_state=None, learning_rate=’optimal’, eta0=0.0, power_t=0.5, \n",
    "# class_weight=None, warm_start=False, average=False, n_iter=None)\n",
    "\n",
    "# some of methods\n",
    "# fit(X, y[, coef_init, intercept_init, …])\tFit linear model with Stochastic Gradient Descent.\n",
    "# predict(X)\tPredict class labels for samples in X.\n",
    "\n",
    "#-------------------------------\n",
    "# video link: \n",
    "#------------------------------\n",
    "\n",
    "\n",
    "cv_log_error_array=[]\n",
    "for i in alpha:\n",
    "    clf = SGDClassifier(alpha=i, penalty='l2', loss='log', random_state=42)\n",
    "    clf.fit(train_gene_feature_onehotCoding, y_train)\n",
    "    sig_clf = CalibratedClassifierCV(clf, method=\"sigmoid\")\n",
    "    sig_clf.fit(train_gene_feature_onehotCoding, y_train)\n",
    "    predict_y = sig_clf.predict_proba(cv_gene_feature_onehotCoding)\n",
    "    cv_log_error_array.append(log_loss(y_cv, predict_y, labels=clf.classes_, eps=1e-15))\n",
    "    print('For values of alpha = ', i, \"The log loss is:\",log_loss(y_cv, predict_y, labels=clf.classes_, eps=1e-15))\n",
    "\n",
    "fig, ax = plt.subplots()\n",
    "ax.plot(alpha, cv_log_error_array,c='g')\n",
    "for i, txt in enumerate(np.round(cv_log_error_array,3)):\n",
    "    ax.annotate((alpha[i],np.round(txt,3)), (alpha[i],cv_log_error_array[i]))\n",
    "plt.grid()\n",
    "plt.title(\"Cross Validation Error for each alpha\")\n",
    "plt.xlabel(\"Alpha i's\")\n",
    "plt.ylabel(\"Error measure\")\n",
    "plt.show()\n",
    "\n",
    "\n",
    "best_alpha = np.argmin(cv_log_error_array)\n",
    "clf = SGDClassifier(alpha=alpha[best_alpha], penalty='l2', loss='log', random_state=42)\n",
    "clf.fit(train_gene_feature_onehotCoding, y_train)\n",
    "sig_clf = CalibratedClassifierCV(clf, method=\"sigmoid\")\n",
    "sig_clf.fit(train_gene_feature_onehotCoding, y_train)\n",
    "\n",
    "predict_y = sig_clf.predict_proba(train_gene_feature_onehotCoding)\n",
    "print('For values of best alpha = ', alpha[best_alpha], \"The train log loss is:\",log_loss(y_train, predict_y, labels=clf.classes_, eps=1e-15))\n",
    "predict_y = sig_clf.predict_proba(cv_gene_feature_onehotCoding)\n",
    "print('For values of best alpha = ', alpha[best_alpha], \"The cross validation log loss is:\",log_loss(y_cv, predict_y, labels=clf.classes_, eps=1e-15))\n",
    "predict_y = sig_clf.predict_proba(test_gene_feature_onehotCoding)\n",
    "print('For values of best alpha = ', alpha[best_alpha], \"The test log loss is:\",log_loss(y_test, predict_y, labels=clf.classes_, eps=1e-15))\n"
   ]
  },
  {
   "cell_type": "markdown",
   "metadata": {},
   "source": [
    "<p style=\"font-size:18px;\"> <b>Q5.</b> Is the Gene feature stable across all the data sets (Test, Train, Cross validation)?</p>\n",
    "<p style=\"font-size:16px;\"> <b>Ans.</b> Yes, it is. Otherwise, the CV and Test errors would be significantly more than train error. </p>"
   ]
  },
  {
   "cell_type": "code",
   "execution_count": 41,
   "metadata": {},
   "outputs": [
    {
     "name": "stdout",
     "output_type": "stream",
     "text": [
      "Q6. How many data points in Test and CV datasets are covered by the  229  genes in train dataset?\n",
      "Ans\n",
      "1. In test data 634 out of 665 : 95.33834586466166\n",
      "2. In cross validation data 518 out of  532 : 97.36842105263158\n"
     ]
    }
   ],
   "source": [
    "print(\"Q6. How many data points in Test and CV datasets are covered by the \", unique_genes.shape[0], \" genes in train dataset?\")\n",
    "\n",
    "test_coverage=test_df[test_df['Gene'].isin(list(set(train_df['Gene'])))].shape[0]\n",
    "cv_coverage=cv_df[cv_df['Gene'].isin(list(set(train_df['Gene'])))].shape[0]\n",
    "\n",
    "print('Ans\\n1. In test data',test_coverage, 'out of',test_df.shape[0], \":\",(test_coverage/test_df.shape[0])*100)\n",
    "print('2. In cross validation data',cv_coverage, 'out of ',cv_df.shape[0],\":\" ,(cv_coverage/cv_df.shape[0])*100)"
   ]
  },
  {
   "cell_type": "markdown",
   "metadata": {},
   "source": [
    "<h3>3.2.2 Univariate Analysis on Variation Feature</h3>"
   ]
  },
  {
   "cell_type": "markdown",
   "metadata": {},
   "source": [
    "<p style=\"font-size:18px;\"> <b>Q7.</b> Variation, What type of feature is it ?</p>\n",
    "<p style=\"font-size:16px;\"><b>Ans.</b> Variation is a categorical variable </p>\n",
    "<p style=\"font-size:18px;\"> <b>Q8.</b> How many categories are there?</p>"
   ]
  },
  {
   "cell_type": "code",
   "execution_count": 42,
   "metadata": {},
   "outputs": [
    {
     "name": "stdout",
     "output_type": "stream",
     "text": [
      "Number of Unique Variations : 1933\n",
      "Truncating_Mutations    53\n",
      "Amplification           47\n",
      "Deletion                47\n",
      "Fusions                 22\n",
      "Overexpression           5\n",
      "G12V                     4\n",
      "Q61H                     3\n",
      "Q61R                     2\n",
      "A146T                    2\n",
      "R173C                    2\n",
      "Name: Variation, dtype: int64\n"
     ]
    }
   ],
   "source": [
    "unique_variations = train_df['Variation'].value_counts()\n",
    "print('Number of Unique Variations :', unique_variations.shape[0])\n",
    "# the top 10 variations that occured most\n",
    "print(unique_variations.head(10))"
   ]
  },
  {
   "cell_type": "code",
   "execution_count": 43,
   "metadata": {
    "scrolled": true
   },
   "outputs": [
    {
     "name": "stdout",
     "output_type": "stream",
     "text": [
      "Ans: There are 1933 different categories of variations in the train data, and they are distibuted as follows\n"
     ]
    }
   ],
   "source": [
    "print(\"Ans: There are\", unique_variations.shape[0] ,\"different categories of variations in the train data, and they are distibuted as follows\",)"
   ]
  },
  {
   "cell_type": "code",
   "execution_count": 44,
   "metadata": {},
   "outputs": [
    {
     "data": {
      "image/png": "[encoded data removed]",
      "text/plain": [
       "<Figure size 432x288 with 1 Axes>"
      ]
     },
     "metadata": {
      "needs_background": "light"
     },
     "output_type": "display_data"
    }
   ],
   "source": [
    "s = sum(unique_variations.values);\n",
    "h = unique_variations.values/s;\n",
    "plt.plot(h, label=\"Histrogram of Variations\")\n",
    "plt.xlabel('Index of a Variation')\n",
    "plt.ylabel('Number of Occurances')\n",
    "plt.legend()\n",
    "plt.grid()\n",
    "plt.show()"
   ]
  },
  {
   "cell_type": "code",
   "execution_count": 45,
   "metadata": {},
   "outputs": [
    {
     "name": "stdout",
     "output_type": "stream",
     "text": [
      "[0.02495292 0.04708098 0.06920904 ... 0.99905838 0.99952919 1.        ]\n"
     ]
    },
    {
     "data": {
      "image/png": "[encoded data removed]",
      "text/plain": [
       "<Figure size 432x288 with 1 Axes>"
      ]
     },
     "metadata": {
      "needs_background": "light"
     },
     "output_type": "display_data"
    }
   ],
   "source": [
    "c = np.cumsum(h)\n",
    "print(c)\n",
    "plt.plot(c,label='Cumulative distribution of Variations')\n",
    "plt.grid()\n",
    "plt.legend()\n",
    "plt.show()"
   ]
  },
  {
   "cell_type": "markdown",
   "metadata": {},
   "source": [
    "<p style=\"font-size:18px;\"> <b>Q9.</b> How to featurize this Variation feature ?</p>\n",
    "\n",
    "<p style=\"font-size:16px;\"><b>Ans.</b>There are two ways we can featurize this variable\n",
    "\n",
    "<ol><li>One hot Encoding</li><li>Response coding</li></ol></p>\n",
    "<p> We will be using both these methods to featurize the Variation Feature </p>"
   ]
  },
  {
   "cell_type": "code",
   "execution_count": 47,
   "metadata": {},
   "outputs": [],
   "source": [
    "# alpha is used for laplace smoothing\n",
    "alpha = 1\n",
    "# train gene feature\n",
    "train_variation_feature_responseCoding = np.array(get_gv_feature(alpha, \"Variation\", train_df))\n",
    "# test gene feature\n",
    "test_variation_feature_responseCoding = np.array(get_gv_feature(alpha, \"Variation\", test_df))\n",
    "# cross validation gene feature\n",
    "cv_variation_feature_responseCoding = np.array(get_gv_feature(alpha, \"Variation\", cv_df))"
   ]
  },
  {
   "cell_type": "code",
   "execution_count": 48,
   "metadata": {},
   "outputs": [
    {
     "name": "stdout",
     "output_type": "stream",
     "text": [
      "train_variation_feature_responseCoding is a converted feature using the response coding method. The shape of Variation feature: (2124, 9)\n"
     ]
    }
   ],
   "source": [
    "print(\"train_variation_feature_responseCoding is a converted feature using the response coding method. The shape of Variation feature:\", train_variation_feature_responseCoding.shape)"
   ]
  },
  {
   "cell_type": "code",
   "execution_count": 49,
   "metadata": {},
   "outputs": [],
   "source": [
    "# one-hot encoding of variation feature.\n",
    "variation_vectorizer = CountVectorizer()\n",
    "train_variation_feature_onehotCoding = variation_vectorizer.fit_transform(train_df['Variation'])\n",
    "test_variation_feature_onehotCoding = variation_vectorizer.transform(test_df['Variation'])\n",
    "cv_variation_feature_onehotCoding = variation_vectorizer.transform(cv_df['Variation'])"
   ]
  },
  {
   "cell_type": "code",
   "execution_count": 50,
   "metadata": {},
   "outputs": [],
   "source": [
    "train_variation_feature_onehotCoding = normalize(train_variation_feature_onehotCoding, axis=0)\n",
    "\n",
    "test_variation_feature_onehotCoding = normalize(test_variation_feature_onehotCoding, axis=0)\n",
    "\n",
    "cv_variation_feature_onehotCoding = normalize(cv_variation_feature_onehotCoding, axis=0)"
   ]
  },
  {
   "cell_type": "code",
   "execution_count": 51,
   "metadata": {},
   "outputs": [
    {
     "name": "stdout",
     "output_type": "stream",
     "text": [
      "train_variation_feature_onehotEncoded is converted feature using the onne-hot encoding method. The shape of Variation feature: (2124, 1966)\n"
     ]
    }
   ],
   "source": [
    "print(\"train_variation_feature_onehotEncoded is converted feature using the onne-hot encoding method. The shape of Variation feature:\", train_variation_feature_onehotCoding.shape)"
   ]
  },
  {
   "cell_type": "markdown",
   "metadata": {},
   "source": [
    "<p style=\"font-size:18px;\"> <b>Q10.</b> How good is this Variation feature  in predicting y_i?</p>"
   ]
  },
  {
   "cell_type": "markdown",
   "metadata": {},
   "source": [
    "Let's build a model just like the earlier!"
   ]
  },
  {
   "cell_type": "code",
   "execution_count": 52,
   "metadata": {
    "scrolled": false
   },
   "outputs": [
    {
     "name": "stdout",
     "output_type": "stream",
     "text": [
      "For values of alpha =  1e-05 The log loss is: 1.6707402089514345\n",
      "For values of alpha =  0.0001 The log loss is: 1.6593095092292358\n",
      "For values of alpha =  0.001 The log loss is: 1.654353338681513\n",
      "For values of alpha =  0.01 The log loss is: 1.6510869090808986\n",
      "For values of alpha =  0.1 The log loss is: 1.6638550967395813\n",
      "For values of alpha =  1 The log loss is: 1.6665426944207051\n"
     ]
    },
    {
     "data": {
      "image/png": "[encoded data removed]",
      "text/plain": [
       "<Figure size 432x288 with 1 Axes>"
      ]
     },
     "metadata": {
      "needs_background": "light"
     },
     "output_type": "display_data"
    },
    {
     "name": "stdout",
     "output_type": "stream",
     "text": [
      "For values of best alpha =  0.01 The train log loss is: 0.3976686566234625\n",
      "For values of best alpha =  0.01 The cross validation log loss is: 1.6510869090808986\n",
      "For values of best alpha =  0.01 The test log loss is: 1.7352383464634533\n"
     ]
    }
   ],
   "source": [
    "alpha = [10 ** x for x in range(-5, 1)]\n",
    "\n",
    "# read more about SGDClassifier() at http://scikit-learn.org/stable/modules/generated/sklearn.linear_model.SGDClassifier.html\n",
    "# ------------------------------\n",
    "# default parameters\n",
    "# SGDClassifier(loss=’hinge’, penalty=’l2’, alpha=0.0001, l1_ratio=0.15, fit_intercept=True, max_iter=None, tol=None, \n",
    "# shuffle=True, verbose=0, epsilon=0.1, n_jobs=1, random_state=None, learning_rate=’optimal’, eta0=0.0, power_t=0.5, \n",
    "# class_weight=None, warm_start=False, average=False, n_iter=None)\n",
    "\n",
    "# some of methods\n",
    "# fit(X, y[, coef_init, intercept_init, …])\tFit linear model with Stochastic Gradient Descent.\n",
    "# predict(X)\tPredict class labels for samples in X.\n",
    "\n",
    "#-------------------------------\n",
    "# video link: \n",
    "#------------------------------\n",
    "\n",
    "\n",
    "cv_log_error_array=[]\n",
    "for i in alpha:\n",
    "    clf = SGDClassifier(alpha=i, penalty='l2', loss='log', random_state=42)\n",
    "    clf.fit(train_variation_feature_onehotCoding, y_train)\n",
    "    \n",
    "    sig_clf = CalibratedClassifierCV(clf, method=\"sigmoid\")\n",
    "    sig_clf.fit(train_variation_feature_onehotCoding, y_train)\n",
    "    predict_y = sig_clf.predict_proba(cv_variation_feature_onehotCoding)\n",
    "    \n",
    "    cv_log_error_array.append(log_loss(y_cv, predict_y, labels=clf.classes_, eps=1e-15))\n",
    "    print('For values of alpha = ', i, \"The log loss is:\",log_loss(y_cv, predict_y, labels=clf.classes_, eps=1e-15))\n",
    "\n",
    "fig, ax = plt.subplots()\n",
    "ax.plot(alpha, cv_log_error_array,c='g')\n",
    "for i, txt in enumerate(np.round(cv_log_error_array,3)):\n",
    "    ax.annotate((alpha[i],np.round(txt,3)), (alpha[i],cv_log_error_array[i]))\n",
    "plt.grid()\n",
    "plt.title(\"Cross Validation Error for each alpha\")\n",
    "plt.xlabel(\"Alpha i's\")\n",
    "plt.ylabel(\"Error measure\")\n",
    "plt.show()\n",
    "\n",
    "\n",
    "best_alpha = np.argmin(cv_log_error_array)\n",
    "clf = SGDClassifier(alpha=alpha[best_alpha], penalty='l2', loss='log', random_state=42)\n",
    "clf.fit(train_variation_feature_onehotCoding, y_train)\n",
    "sig_clf = CalibratedClassifierCV(clf, method=\"sigmoid\")\n",
    "sig_clf.fit(train_variation_feature_onehotCoding, y_train)\n",
    "\n",
    "predict_y = sig_clf.predict_proba(train_variation_feature_onehotCoding)\n",
    "print('For values of best alpha = ', alpha[best_alpha], \"The train log loss is:\",log_loss(y_train, predict_y, labels=clf.classes_, eps=1e-15))\n",
    "predict_y = sig_clf.predict_proba(cv_variation_feature_onehotCoding)\n",
    "print('For values of best alpha = ', alpha[best_alpha], \"The cross validation log loss is:\",log_loss(y_cv, predict_y, labels=clf.classes_, eps=1e-15))\n",
    "predict_y = sig_clf.predict_proba(test_variation_feature_onehotCoding)\n",
    "print('For values of best alpha = ', alpha[best_alpha], \"The test log loss is:\",log_loss(y_test, predict_y, labels=clf.classes_, eps=1e-15))\n"
   ]
  },
  {
   "cell_type": "markdown",
   "metadata": {},
   "source": [
    "<p style=\"font-size:18px;\"> <b>Q11.</b> Is the Variation feature stable across all the data sets (Test, Train, Cross validation)?</p>\n",
    "<p style=\"font-size:16px;\"> <b>Ans.</b> Not sure! But lets be very sure using the below analysis. </p>"
   ]
  },
  {
   "cell_type": "code",
   "execution_count": 53,
   "metadata": {
    "scrolled": true
   },
   "outputs": [
    {
     "name": "stdout",
     "output_type": "stream",
     "text": [
      "Q12. How many data points are covered by total  1933  genes in test and cross validation data sets?\n",
      "Ans\n",
      "1. In test data 69 out of 665 : 10.37593984962406\n",
      "2. In cross validation data 56 out of  532 : 10.526315789473683\n"
     ]
    }
   ],
   "source": [
    "print(\"Q12. How many data points are covered by total \", unique_variations.shape[0], \" genes in test and cross validation data sets?\")\n",
    "test_coverage=test_df[test_df['Variation'].isin(list(set(train_df['Variation'])))].shape[0]\n",
    "cv_coverage=cv_df[cv_df['Variation'].isin(list(set(train_df['Variation'])))].shape[0]\n",
    "print('Ans\\n1. In test data',test_coverage, 'out of',test_df.shape[0], \":\",(test_coverage/test_df.shape[0])*100)\n",
    "print('2. In cross validation data',cv_coverage, 'out of ',cv_df.shape[0],\":\" ,(cv_coverage/cv_df.shape[0])*100)"
   ]
  },
  {
   "cell_type": "markdown",
   "metadata": {},
   "source": [
    "<h3>3.2.3 Univariate Analysis on Text Feature</h3>"
   ]
  },
  {
   "cell_type": "markdown",
   "metadata": {},
   "source": [
    "1. How many unique words are present in train data?\n",
    "2. How are word frequencies distributed?\n",
    "3. How to featurize text field?\n",
    "4. Is the text feature useful in predicitng y_i?\n",
    "5. Is the text feature stable across train, test and CV datasets?"
   ]
  },
  {
   "cell_type": "code",
   "execution_count": 54,
   "metadata": {},
   "outputs": [],
   "source": [
    "# cls_text is a data frame\n",
    "# for every row in data fram consider the 'TEXT'\n",
    "# split the words by space\n",
    "# make a dict with those words\n",
    "# increment its count whenever we see that word\n",
    "\n",
    "def extract_dictionary_paddle(cls_text):\n",
    "    dictionary = defaultdict(int)\n",
    "    for index, row in cls_text.iterrows():\n",
    "        for word in row['TEXT'].split():\n",
    "            dictionary[word] +=1\n",
    "    return dictionary"
   ]
  },
  {
   "cell_type": "code",
   "execution_count": 55,
   "metadata": {},
   "outputs": [],
   "source": [
    "\n",
    "import math\n",
    "\n",
    "def get_text_responsecoding(df):\n",
    "    text_feature_responseCoding = np.zeros((df.shape[0],9))\n",
    "    for i in range(0,9):\n",
    "        row_index = 0\n",
    "        for index, row in df.iterrows():\n",
    "            sum_prob = 0\n",
    "            for word in row['TEXT'].split():\n",
    "                sum_prob += math.log(((dict_list[i].get(word,0)+10 )/(total_dict.get(word,0)+90)))\n",
    "            text_feature_responseCoding[row_index][i] = math.exp(sum_prob/len(row['TEXT'].split()))\n",
    "            row_index += 1\n",
    "    return text_feature_responseCoding"
   ]
  },
  {
   "cell_type": "code",
   "execution_count": 56,
   "metadata": {},
   "outputs": [
    {
     "name": "stdout",
     "output_type": "stream",
     "text": [
      "Total number of unique words in train data : 5000\n"
     ]
    }
   ],
   "source": [
    "# building a CountVectorizer with all the words that occured minimum 3 times in train data\n",
    "from sklearn.feature_extraction.text import TfidfVectorizer\n",
    "\n",
    "\n",
    "text_vectorizer = TfidfVectorizer(min_df=5,ngram_range=(1,4),max_features=5000)\n",
    "train_text_feature_onehotCoding = text_vectorizer.fit_transform(train_df['TEXT'])\n",
    "# getting all the feature names (words)\n",
    "train_text_features= text_vectorizer.get_feature_names()\n",
    "\n",
    "# train_text_feature_onehotCoding.sum(axis=0).A1 will sum every row and returns (1*number of features) vector\n",
    "train_text_fea_counts = train_text_feature_onehotCoding.sum(axis=0).A1\n",
    "\n",
    "# zip(list(text_features),text_fea_counts) will zip a word with its number of times it occured\n",
    "text_fea_dict = dict(zip(list(train_text_features),train_text_fea_counts))\n",
    "\n",
    "\n",
    "print(\"Total number of unique words in train data :\", len(train_text_features))"
   ]
  },
  {
   "cell_type": "code",
   "execution_count": 57,
   "metadata": {},
   "outputs": [],
   "source": [
    "dict_list = []\n",
    "# dict_list =[] contains 9 dictoinaries each corresponds to a class\n",
    "for i in range(1,10):\n",
    "    cls_text = train_df[train_df['Class']==i]\n",
    "    # build a word dict based on the words in that class\n",
    "    dict_list.append(extract_dictionary_paddle(cls_text))\n",
    "    # append it to dict_list\n",
    "\n",
    "# dict_list[i] is build on i'th  class text data\n",
    "# total_dict is buid on whole training text data\n",
    "total_dict = extract_dictionary_paddle(train_df)\n",
    "\n",
    "\n",
    "confuse_array = []\n",
    "for i in train_text_features:\n",
    "    ratios = []\n",
    "    max_val = -1\n",
    "    for j in range(0,9):\n",
    "        ratios.append((dict_list[j][i]+10 )/(total_dict[i]+90))\n",
    "    confuse_array.append(ratios)\n",
    "confuse_array = np.array(confuse_array)"
   ]
  },
  {
   "cell_type": "code",
   "execution_count": 58,
   "metadata": {},
   "outputs": [],
   "source": [
    "#response coding of text features\n",
    "train_text_feature_responseCoding  = get_text_responsecoding(train_df)\n",
    "test_text_feature_responseCoding  = get_text_responsecoding(test_df)\n",
    "cv_text_feature_responseCoding  = get_text_responsecoding(cv_df)"
   ]
  },
  {
   "cell_type": "code",
   "execution_count": 59,
   "metadata": {},
   "outputs": [],
   "source": [
    "# https://stackoverflow.com/a/16202486\n",
    "# we convert each row values such that they sum to 1  \n",
    "train_text_feature_responseCoding = (train_text_feature_responseCoding.T/train_text_feature_responseCoding.sum(axis=1)).T\n",
    "test_text_feature_responseCoding = (test_text_feature_responseCoding.T/test_text_feature_responseCoding.sum(axis=1)).T\n",
    "cv_text_feature_responseCoding = (cv_text_feature_responseCoding.T/cv_text_feature_responseCoding.sum(axis=1)).T"
   ]
  },
  {
   "cell_type": "code",
   "execution_count": 60,
   "metadata": {},
   "outputs": [],
   "source": [
    "# don't forget to normalize every feature\n",
    "train_text_feature_onehotCoding = normalize(train_text_feature_onehotCoding, axis=0)\n",
    "\n",
    "# we use the same vectorizer that was trained on train data\n",
    "test_text_feature_onehotCoding = text_vectorizer.transform(test_df['TEXT'])\n",
    "# don't forget to normalize every feature\n",
    "test_text_feature_onehotCoding = normalize(test_text_feature_onehotCoding, axis=0)\n",
    "\n",
    "# we use the same vectorizer that was trained on train data\n",
    "cv_text_feature_onehotCoding = text_vectorizer.transform(cv_df['TEXT'])\n",
    "# don't forget to normalize every feature\n",
    "cv_text_feature_onehotCoding = normalize(cv_text_feature_onehotCoding, axis=0)"
   ]
  },
  {
   "cell_type": "code",
   "execution_count": 61,
   "metadata": {},
   "outputs": [],
   "source": [
    "#https://stackoverflow.com/a/2258273/4084039\n",
    "sorted_text_fea_dict = dict(sorted(text_fea_dict.items(), key=lambda x: x[1] , reverse=True))\n",
    "sorted_text_occur = np.array(list(sorted_text_fea_dict.values()))"
   ]
  },
  {
   "cell_type": "code",
   "execution_count": 62,
   "metadata": {},
   "outputs": [
    {
     "name": "stdout",
     "output_type": "stream",
     "text": [
      "Counter({3.8103561014315104: 23, 3.1000971147158194: 13, 2.6075443887603496: 11, 2.2136633092003764: 10, 3.0026328018569868: 8, 1.9064564751381943: 8, 7.1013708117419725: 6, 10.652056217612962: 5, 3.4296108269023375: 5, 5.306222723716546: 4, 5.296071059998716: 4, 3.83785485870001: 4, 2.822323153358592: 4, 2.355627403527834: 4, 2.2868834599623646: 4, 1.8210750975251422: 4, 5.111378932183505: 3, 3.06063026723092: 3, 3.016388621752747: 3, 2.616147547236808: 3, 2.5535726577549482: 3, 2.4478044081156654: 3, 2.1093142917132126: 3, 8.033480573536231: 2, 7.450811780605789: 2, 7.232004178474567: 2, 6.859421162188485: 2, 6.801331801989799: 2, 6.364438034682798: 2, 6.363640890277178: 2, 5.91823630286146: 2, 5.4210436574429295: 2, 5.319466051889684: 2, 4.482609338586243: 2, 4.02067967209712: 2, 3.9925759356926362: 2, 3.870182674492059: 2, 3.5615775802071945: 2, 3.343645206065469: 2, 3.0608557449628213: 2, 2.9930501852523803: 2, 2.9155678382335353: 2, 2.8170657102144325: 2, 2.629583256656892: 2, 2.627512985732855: 2, 2.6214244157834767: 2, 2.454588544810084: 2, 2.427495526853573: 2, 2.3772082292049523: 2, 2.376284063546151: 2, 2.128089595909373: 2, 2.062137596910025: 2, 2.055872565756377: 2, 2.0368005965438836: 2, 1.9806290176820582: 2, 1.9545471968188106: 2, 1.8927520188273914: 2, 1.8644395956801851: 2, 1.8226362279359776: 2, 1.5492307260500453: 2, 1.5215442777435597: 2, 1.4936545367937613: 2, 175.8182271443231: 1, 117.6311611281785: 1, 105.55527282013968: 1, 88.48882567090814: 1, 83.41351544235197: 1, 81.1269726780911: 1, 78.84482034529924: 1, 78.60965196983464: 1, 78.55077047438269: 1, 76.75889089172648: 1, 73.48932756066434: 1, 69.5812296585168: 1, 66.62235293198354: 1, 63.49905586683014: 1, 63.21936199550444: 1, 62.88818645867781: 1, 57.64647352371577: 1, 54.69810733059786: 1, 54.64057832363425: 1, 54.48362645329674: 1, 52.24604026738705: 1, 52.09998728939373: 1, 49.574329351330526: 1, 47.67265221509904: 1, 47.58422969604988: 1, 47.54629257253673: 1, 45.02237266564201: 1, 44.45657785106869: 1, 44.26278600217763: 1, 43.81832498758498: 1, 43.464173715552185: 1, 43.33384251184417: 1, 42.98120453280107: 1, 42.97317337970403: 1, 42.48648195552241: 1, 42.33100596470966: 1, 40.5788750577035: 1, 40.27405980317065: 1, 38.73711906195557: 1, 38.63757482601963: 1, 37.84570824404607: 1, 37.16448256126038: 1, 36.91722865901712: 1, 36.250493575891866: 1, 35.802439242830786: 1, 35.644607315945755: 1, 35.60774742804337: 1, 35.2099540379857: 1, 34.162031803058234: 1, 33.12933426426698: 1, 32.949245118392824: 1, 32.25815404059016: 1, 31.156401661933206: 1, 30.931825155147738: 1, 30.294454064185917: 1, 30.079843077763776: 1, 30.07236433687709: 1, 29.889156099774393: 1, 29.883029306982483: 1, 29.468357839050647: 1, 29.271374541664038: 1, 29.19415225914464: 1, 28.86166775510368: 1, 28.784280895180597: 1, 28.761384648542773: 1, 28.59473821672131: 1, 28.431827375271673: 1, 28.409636041052575: 1, 28.14636135269614: 1, 28.117516004841026: 1, 28.106807756897606: 1, 27.7961881622533: 1, 27.124175449890227: 1, 26.85865806047237: 1, 26.75644850207796: 1, 26.460841582010115: 1, 26.444481572485767: 1, 26.0427398005087: 1, 25.651098969648896: 1, 25.440074639819144: 1, 25.336127603453424: 1, 25.241364152515246: 1, 25.120596134226748: 1, 25.02617958981071: 1, 24.889957152558598: 1, 24.873394240217053: 1, 24.702651656482878: 1, 24.63254110888035: 1, 24.530371487009155: 1, 24.508946322790948: 1, 24.430147695049058: 1, 24.408323352945768: 1, 23.971251214938615: 1, 23.747528075715863: 1, 23.701648060123247: 1, 23.235427625134925: 1, 23.03141373615725: 1, 23.027075962592285: 1, 22.999115002098193: 1, 22.88793236883712: 1, 22.577649785231674: 1, 22.29499398376312: 1, 22.20138731670245: 1, 22.15341825020432: 1, 22.054438570921352: 1, 21.87910950884448: 1, 21.87257695632495: 1, 21.83898232290534: 1, 21.822130393636414: 1, 21.81899560248546: 1, 21.774895670737333: 1, 21.62361527731859: 1, 21.554944998863913: 1, 21.516460043978334: 1, 21.33841250138113: 1, 21.33173336352044: 1, 21.30896759956682: 1, 21.270556901936136: 1, 21.25828889471346: 1, 20.902166590020936: 1, 20.895590504489398: 1, 20.884787096356295: 1, 20.86651374167148: 1, 20.84175322248911: 1, 20.79191176916622: 1, 20.757033048293042: 1, 20.65360837608224: 1, 20.64456794786536: 1, 20.606463679959457: 1, 20.353486246459532: 1, 20.34664736116002: 1, 20.34219902290213: 1, 20.102376837056376: 1, 19.767274116315985: 1, 19.70254984270053: 1, 19.6916154993415: 1, 19.652550148747626: 1, 19.638301271532804: 1, 19.488581809028226: 1, 19.435411696581486: 1, 19.417679334939148: 1, 19.381156168042725: 1, 19.366448787358767: 1, 19.14459651324905: 1, 18.849777283678353: 1, 18.66735084317443: 1, 18.646019416594484: 1, 18.54553920823199: 1, 18.461354466144343: 1, 18.408031283072596: 1, 18.258002761990635: 1, 18.16910892988413: 1, 17.903837901078564: 1, 17.85090987043157: 1, 17.762672007805108: 1, 17.616361543340247: 1, 17.532098474411075: 1, 17.51064411546694: 1, 17.46198535907757: 1, 17.435597163645664: 1, 17.405872829396703: 1, 17.35825189098259: 1, 17.34488883651449: 1, 17.306614309847358: 1, 17.295500544758248: 1, 17.27079346690872: 1, 17.193789066668675: 1, 17.10511415828405: 1, 17.078939061942513: 1, 16.974961418587775: 1, 16.849554467164406: 1, 16.84441360346262: 1, 16.783531496915238: 1, 16.74960222559662: 1, 16.681111241705217: 1, 16.558952737705642: 1, 16.524279127307185: 1, 16.477152732785655: 1, 16.452560544806783: 1, 16.443394013905326: 1, 16.42245386278004: 1, 16.37560086508706: 1, 16.313182632406654: 1, 16.27529628348387: 1, 16.218164384978788: 1, 16.217962455939073: 1, 16.18707580084491: 1, 16.149630744593473: 1, 16.1157455695195: 1, 16.033532023295386: 1, 15.949879753156596: 1, 15.93295293628262: 1, 15.925050580636709: 1, 15.913787245937591: 1, 15.888147582835334: 1, 15.855416109419497: 1, 15.82592448622584: 1, 15.76053825080284: 1, 15.733344664255302: 1, 15.693989303845727: 1, 15.659342047941964: 1, 15.651109662337353: 1, 15.6497674245009: 1, 15.63880388153968: 1, 15.586263713579429: 1, 15.584088900363: 1, 15.500156226210008: 1, 15.49880627261995: 1, 15.45376672810603: 1, 15.387343959092908: 1, 15.370868922411242: 1, 15.364393230623305: 1, 15.34834060907143: 1, 15.311470895802048: 1, 15.278352415078537: 1, 15.165238071800491: 1, 15.161109633617178: 1, 15.069704810316814: 1, 15.062595951268133: 1, 15.062479199272147: 1, 15.036766294131468: 1, 15.004868538187278: 1, 14.969957242729583: 1, 14.958105131388646: 1, 14.93060910501215: 1, 14.929658150568073: 1, 14.911652900468043: 1, 14.899344403230234: 1, 14.859122568298094: 1, 14.827091377764695: 1, 14.789445178486536: 1, 14.75290013714446: 1, 14.745056603986091: 1, 14.739358188538665: 1, 14.730377623913906: 1, 14.670807827947263: 1, 14.668350931136155: 1, 14.62104302949698: 1, 14.55990306986816: 1, 14.547470514060576: 1, 14.531211683608273: 1, 14.527851296200312: 1, 14.50382735193966: 1, 14.48634547342456: 1, 14.474363894109386: 1, 14.426603910341846: 1, 14.421451409372649: 1, 14.330434569494315: 1, 14.318093513787923: 1, 14.286213842021539: 1, 14.283726095320796: 1, 14.259327600036013: 1, 14.24639199704148: 1, 14.20728592504558: 1, 14.18979024600201: 1, 14.18689079849286: 1, 14.142768158714535: 1, 14.121632841467543: 1, 14.116798791527918: 1, 14.020337035705664: 1, 13.996689513949818: 1, 13.844851136460505: 1, 13.829263425769522: 1, 13.788149015027859: 1, 13.765075633817132: 1, 13.73996508404738: 1, 13.66860321453595: 1, 13.662478509165187: 1, 13.652537886734041: 1, 13.615785317969923: 1, 13.61152986638074: 1, 13.603751583018568: 1, 13.583737076605649: 1, 13.581858781587984: 1, 13.571693020888809: 1, 13.559582961692213: 1, 13.554328039932857: 1, 13.519882895998753: 1, 13.515565752585921: 1, 13.505827884562915: 1, 13.503344232732731: 1, 13.493079137789206: 1, 13.481260928851196: 1, 13.461786635556454: 1, 13.459757233899403: 1, 13.454147400705928: 1, 13.444131172287946: 1, 13.44147330867337: 1, 13.441135458609875: 1, 13.423089059302693: 1, 13.417916098497013: 1, 13.365405949271807: 1, 13.344127592408038: 1, 13.308377884704694: 1, 13.283780792011052: 1, 13.149984526979196: 1, 13.124435420455967: 1, 13.08277568570566: 1, 13.080828563211705: 1, 13.029981359549451: 1, 13.014652580013527: 1, 12.998279886823747: 1, 12.923597190801411: 1, 12.821970568741616: 1, 12.809577277159907: 1, 12.807852819292723: 1, 12.80434444902956: 1, 12.785492758692957: 1, 12.760047478196105: 1, 12.724771752692266: 1, 12.724329810319269: 1, 12.720290765037452: 1, 12.710336697891451: 1, 12.708831436910177: 1, 12.672808589566179: 1, 12.66552954449112: 1, 12.651723936426867: 1, 12.621925512518757: 1, 12.591590495849333: 1, 12.545632250150609: 1, 12.531745528398682: 1, 12.530246566957576: 1, 12.5183259656673: 1, 12.489394056175806: 1, 12.460893275196545: 1, 12.458009893700009: 1, 12.404500814174273: 1, 12.380402711952987: 1, 12.263380873864138: 1, 12.261250524945622: 1, 12.180253759327435: 1, 12.176146177793703: 1, 12.173366225687094: 1, 12.146253040484494: 1, 12.138516224737364: 1, 12.069120568834931: 1, 12.06884108652901: 1, 12.06207138151324: 1, 12.051318412804248: 1, 12.03880495153892: 1, 12.03865292600608: 1, 12.018836875760005: 1, 12.006001087296072: 1, 12.004790517721952: 1, 12.003183765356251: 1, 11.97722100251082: 1, 11.916224044657046: 1, 11.903253912697085: 1, 11.889733097904244: 1, 11.87558011922125: 1, 11.832963579263843: 1, 11.825020952771695: 1, 11.80615695532085: 1, 11.801007967904068: 1, 11.790244481851541: 1, 11.749815870589275: 1, 11.740754578305275: 1, 11.735282536387636: 1, 11.73094078978356: 1, 11.716125358736623: 1, 11.705898494511713: 1, 11.69947372100699: 1, 11.695700161386856: 1, 11.664463358040539: 1, 11.646623128010654: 1, 11.635858895784896: 1, 11.632830815627521: 1, 11.5499994670703: 1, 11.529994524795425: 1, 11.508112546324172: 1, 11.496457110603773: 1, 11.470641271148601: 1, 11.455034467534961: 1, 11.435656755372218: 1, 11.422489991740651: 1, 11.415475140975573: 1, 11.385018387453862: 1, 11.319158121287806: 1, 11.26845646734077: 1, 11.257997789976502: 1, 11.198395957581118: 1, 11.177829711846828: 1, 11.168074576158185: 1, 11.153031341192586: 1, 11.149862933309384: 1, 11.149660551798352: 1, 11.130166193102768: 1, 11.124039149148365: 1, 11.100827165968632: 1, 11.087916016257502: 1, 11.085772830407786: 1, 11.069405082522922: 1, 11.065473122107488: 1, 11.060332897705642: 1, 11.055913447484242: 1, 11.039550657739037: 1, 11.019121939913072: 1, 10.99889443042955: 1, 10.978647685020524: 1, 10.963408991118929: 1, 10.928507685549244: 1, 10.916738181822119: 1, 10.901352425629028: 1, 10.894329838297654: 1, 10.892943583133142: 1, 10.881948223739915: 1, 10.859642237043667: 1, 10.859177095704501: 1, 10.83784729788607: 1, 10.830605155893654: 1, 10.820079035890801: 1, 10.818751999855472: 1, 10.80666341221693: 1, 10.776460421576262: 1, 10.761238513041764: 1, 10.750099479806366: 1, 10.747055981989067: 1, 10.746364392087756: 1, 10.734855546846976: 1, 10.722027926480541: 1, 10.710398574546577: 1, 10.690513962264735: 1, 10.657757343367738: 1, 10.647695695260445: 1, 10.5433150152816: 1, 10.509419258509613: 1, 10.506862073745204: 1, 10.502064213845276: 1, 10.496839993050324: 1, 10.495538190606638: 1, 10.486536152941266: 1, 10.476431949467175: 1, 10.444526857500962: 1, 10.434723757702269: 1, 10.405406820950127: 1, 10.39971371232296: 1, 10.399624780688363: 1, 10.392870313712626: 1, 10.391180156667776: 1, 10.382261903576003: 1, 10.365387039923668: 1, 10.353177378509955: 1, 10.347669769070604: 1, 10.330563340862227: 1, 10.301200515583346: 1, 10.297749773822979: 1, 10.260785467168697: 1, 10.253238943554063: 1, 10.248780747706192: 1, 10.244859554717795: 1, 10.242473491466036: 1, 10.242095587514102: 1, 10.240851385998766: 1, 10.238548276944902: 1, 10.22458402572578: 1, 10.223731920364218: 1, 10.21819912651509: 1, 10.20579074469939: 1, 10.202923960046492: 1, 10.199063757538463: 1, 10.183138171344243: 1, 10.146459289158267: 1, 10.142616535028424: 1, 10.125262057057: 1, 10.104145484704583: 1, 10.070161312719707: 1, 10.06739018220177: 1, 10.03815448987308: 1, 10.021692711207333: 1, 9.994719005160263: 1, 9.972518473819733: 1, 9.972189805043616: 1, 9.949274981294602: 1, 9.931551391347657: 1, 9.921561223132029: 1, 9.919551025458352: 1, 9.913469335803248: 1, 9.913243545202745: 1, 9.897592506973877: 1, 9.887706159216412: 1, 9.873050041677395: 1, 9.849839899480576: 1, 9.843068933514104: 1, 9.817437359491402: 1, 9.80461293896899: 1, 9.790651991532588: 1, 9.773179136285655: 1, 9.771965049773316: 1, 9.77018548814242: 1, 9.757370464365115: 1, 9.751418978969397: 1, 9.75002278464975: 1, 9.742135137288695: 1, 9.738292601965762: 1, 9.720418130620507: 1, 9.71626522871005: 1, 9.715824378230657: 1, 9.706003162503754: 1, 9.697133118921995: 1, 9.680880142431723: 1, 9.671482822942027: 1, 9.645303420763225: 1, 9.641835432752952: 1, 9.641346101785153: 1, 9.639147137141084: 1, 9.63330655893671: 1, 9.623147319466462: 1, 9.622805406876102: 1, 9.621281026884066: 1, 9.619090896951768: 1, 9.611434031238323: 1, 9.607552600961538: 1, 9.59858842287669: 1, 9.56633138349626: 1, 9.542365565582346: 1, 9.529603981401921: 1, 9.51508365104886: 1, 9.512913994537808: 1, 9.508921915537282: 1, 9.503326209352984: 1, 9.491495575679131: 1, 9.484061689919558: 1, 9.444309424061753: 1, 9.427279105971083: 1, 9.40689270477545: 1, 9.40257847626965: 1, 9.400281160431167: 1, 9.395404944842934: 1, 9.387879321214074: 1, 9.37668980869941: 1, 9.37517975768888: 1, 9.371703028014432: 1, 9.361839912464147: 1, 9.356000853500943: 1, 9.349360725891659: 1, 9.34763880081276: 1, 9.291242511753191: 1, 9.287064425511398: 1, 9.285675896452547: 1, 9.278584995721946: 1, 9.274536765993695: 1, 9.220668446522815: 1, 9.188867845428494: 1, 9.18456430384865: 1, 9.175496128657999: 1, 9.171379536877724: 1, 9.170677372883807: 1, 9.139380455660593: 1, 9.137385535327454: 1, 9.133573999974377: 1, 9.133126389492745: 1, 9.123085897348638: 1, 9.120819689738543: 1, 9.104388869334235: 1, 9.074460192408802: 1, 9.061796534221182: 1, 9.061353833435408: 1, 9.016247233287285: 1, 8.997597938448413: 1, 8.970392425250393: 1, 8.968619103131678: 1, 8.963682291570374: 1, 8.938738138058804: 1, 8.895260632164334: 1, 8.871203389341344: 1, 8.861899106709446: 1, 8.830726067968474: 1, 8.828830518607125: 1, 8.827156054222248: 1, 8.811298679432348: 1, 8.811171423395416: 1, 8.79602441071114: 1, 8.755071555452483: 1, 8.743942396284954: 1, 8.74201691004489: 1, 8.690737237935023: 1, 8.683671928002186: 1, 8.673597216839713: 1, 8.664139637770186: 1, 8.648321275779713: 1, 8.642605120932432: 1, 8.641597843560458: 1, 8.63370912042979: 1, 8.631529036167489: 1, 8.629443050980917: 1, 8.620015334894312: 1, 8.597111908676967: 1, 8.596670831976217: 1, 8.58066917976283: 1, 8.56513542480582: 1, 8.551581139264444: 1, 8.548518339384843: 1, 8.534715280432254: 1, 8.527167394602003: 1, 8.514351799380474: 1, 8.514175817706109: 1, 8.508485543043523: 1, 8.504025995706971: 1, 8.479030716796741: 1, 8.468511887503968: 1, 8.464389792513723: 1, 8.463500277177674: 1, 8.45565341991169: 1, 8.45218379668072: 1, 8.450963264510431: 1, 8.450784177407261: 1, 8.439043971938514: 1, 8.417433596095394: 1, 8.399179274863071: 1, 8.394562064640239: 1, 8.36705318670428: 1, 8.357189873539376: 1, 8.351392628424579: 1, 8.348065307521887: 1, 8.336199858914114: 1, 8.322256949529931: 1, 8.305069613595368: 1, 8.285504098158592: 1, 8.282514700121004: 1, 8.273617021394376: 1, 8.268858522868191: 1, 8.24952203031996: 1, 8.243621621250195: 1, 8.235208750353248: 1, 8.233016026023897: 1, 8.23120865374818: 1, 8.223226036179971: 1, 8.219446974111143: 1, 8.196162359356608: 1, 8.176301509848692: 1, 8.174020585854498: 1, 8.167731321126489: 1, 8.167439195078183: 1, 8.14837786286241: 1, 8.147762586292396: 1, 8.14445977479566: 1, 8.140579934552036: 1, 8.138634962972342: 1, 8.136002795203883: 1, 8.100917937845514: 1, 8.100499621318543: 1, 8.07229493504167: 1, 8.06725232445395: 1, 8.058655112599938: 1, 8.056317103466808: 1, 8.053585193908704: 1, 8.05033852440657: 1, 8.046355794078032: 1, 8.030786904098704: 1, 8.018430822959001: 1, 8.016982130081443: 1, 8.008468322840113: 1, 8.005332854739214: 1, 8.00394602017856: 1, 7.996722928576469: 1, 7.993746743463377: 1, 7.98126711084772: 1, 7.9786786893515576: 1, 7.97645046289195: 1, 7.967265507500841: 1, 7.9640968231967415: 1, 7.9624588732289965: 1, 7.958786295823794: 1, 7.931879875106095: 1, 7.9224667008301815: 1, 7.904027029103435: 1, 7.9010602649622745: 1, 7.863667863977431: 1, 7.847168792757676: 1, 7.840206798228328: 1, 7.8196693495290095: 1, 7.819433154417205: 1, 7.818961417618542: 1, 7.7971107086556435: 1, 7.789148770671571: 1, 7.7844523631159745: 1, 7.772362958084003: 1, 7.7600838490986765: 1, 7.73977860339743: 1, 7.7365021170686585: 1, 7.727991300974796: 1, 7.721923559298357: 1, 7.710233273906433: 1, 7.689969977519412: 1, 7.6891585865775784: 1, 7.683426994840354: 1, 7.669881766374779: 1, 7.668001348991917: 1, 7.661475013864214: 1, 7.659703423156594: 1, 7.656386216191682: 1, 7.65506054582451: 1, 7.654243966266335: 1, 7.652895648853558: 1, 7.6523374876594445: 1, 7.648948125342203: 1, 7.640211887412744: 1, 7.633042519359181: 1, 7.62721302179729: 1, 7.620762753364293: 1, 7.613473681925723: 1, 7.610061150528594: 1, 7.609749192645246: 1, 7.605843306285597: 1, 7.599895671745902: 1, 7.586567536307472: 1, 7.584788255262016: 1, 7.581430976462744: 1, 7.567924413409102: 1, 7.563604731684309: 1, 7.54338989924393: 1, 7.542996676516401: 1, 7.536590803954666: 1, 7.536298281607834: 1, 7.530375510050382: 1, 7.52454435104231: 1, 7.524219680093489: 1, 7.522279544989053: 1, 7.503357017729378: 1, 7.4931839566668845: 1, 7.487701351128907: 1, 7.484482186795526: 1, 7.482535546538553: 1, 7.479849069331399: 1, 7.4683655599597305: 1, 7.459698588166545: 1, 7.455498487025112: 1, 7.454016499901568: 1, 7.446874226629608: 1, 7.440733611094051: 1, 7.40495370873731: 1, 7.400302637862328: 1, 7.397302906854652: 1, 7.389104098478973: 1, 7.388790758213203: 1, 7.388220661868321: 1, 7.38026462256378: 1, 7.3798704775197255: 1, 7.372006771287442: 1, 7.346273522947832: 1, 7.342088125754954: 1, 7.338229005301307: 1, 7.337584233903713: 1, 7.327456413784977: 1, 7.319150820124633: 1, 7.31300114068984: 1, 7.30561237890015: 1, 7.29012083279237: 1, 7.27967579561537: 1, 7.278447060315582: 1, 7.267766706580145: 1, 7.2618349532363595: 1, 7.255879679852481: 1, 7.254817026830933: 1, 7.246118490238828: 1, 7.245030359531662: 1, 7.240526090848616: 1, 7.224038858869547: 1, 7.220893936021453: 1, 7.220343668687933: 1, 7.218249468336604: 1, 7.214298230998242: 1, 7.211590516105371: 1, 7.203353800630376: 1, 7.202111299866593: 1, 7.175757153899607: 1, 7.163550651050131: 1, 7.163431787171805: 1, 7.162490855638777: 1, 7.1539120888121035: 1, 7.152805153429351: 1, 7.150734013134918: 1, 7.150550517503981: 1, 7.138686619155129: 1, 7.13768875884052: 1, 7.1360382960844895: 1, 7.131687287789118: 1, 7.125310255647357: 1, 7.117670432294857: 1, 7.116034683935321: 1, 7.113605428805674: 1, 7.102877291474383: 1, 7.088454589420567: 1, 7.086825463506944: 1, 7.086708587925197: 1, 7.081843633109406: 1, 7.077062586858603: 1, 7.062502115156749: 1, 7.062350381491766: 1, 7.06174696610356: 1, 7.0569201293445785: 1, 7.055986601145393: 1, 7.04120511621916: 1, 7.041016102082316: 1, 7.038582273117236: 1, 7.0361553374643675: 1, 7.030701566608503: 1, 7.028746288376738: 1, 7.023048621566107: 1, 7.012308234485558: 1, 7.0110072829427965: 1, 6.998695508815857: 1, 6.987288488993165: 1, 6.975218634258316: 1, 6.972164783989394: 1, 6.971969076524433: 1, 6.970492027307411: 1, 6.947866940037536: 1, 6.935913118665099: 1, 6.933957756352635: 1, 6.933199991349393: 1, 6.92279975044458: 1, 6.917224882693666: 1, 6.915834985347972: 1, 6.913831739830267: 1, 6.911908428284647: 1, 6.905705471249832: 1, 6.902852068694984: 1, 6.8974827092611: 1, 6.887548153863805: 1, 6.884126413801004: 1, 6.881771241032892: 1, 6.8786424236497075: 1, 6.87502763125002: 1, 6.868540413546736: 1, 6.865998647146327: 1, 6.861715637515942: 1, 6.849678572593346: 1, 6.843848626110375: 1, 6.8415018589124275: 1, 6.839366693715475: 1, 6.827622468751073: 1, 6.819828864193592: 1, 6.815881555614869: 1, 6.814921685344499: 1, 6.8000465048086: 1, 6.795794095805025: 1, 6.794112018722273: 1, 6.791334945432194: 1, 6.78729174972472: 1, 6.78700045446892: 1, 6.765253652787564: 1, 6.758480866495675: 1, 6.755017782499094: 1, 6.753397586326633: 1, 6.752045192079679: 1, 6.745420311030397: 1, 6.743843997070247: 1, 6.7433995268487585: 1, 6.742899651948692: 1, 6.737816760577681: 1, 6.735586229309951: 1, 6.728699443452082: 1, 6.724667216484006: 1, 6.718267301411929: 1, 6.717900952289876: 1, 6.706789379600531: 1, 6.7044915722279335: 1, 6.694429917513391: 1, 6.688872828734306: 1, 6.6845539325583045: 1, 6.674905282318401: 1, 6.663240650343579: 1, 6.662814901139437: 1, 6.6575030795108505: 1, 6.655496848409985: 1, 6.6546830707642375: 1, 6.654365606615038: 1, 6.649879673197481: 1, 6.637288221458585: 1, 6.627228729522126: 1, 6.621486423680564: 1, 6.62111550233146: 1, 6.615087366993053: 1, 6.610787981710111: 1, 6.607431764029854: 1, 6.606067507358444: 1, 6.605054101439079: 1, 6.60314410491884: 1, 6.602177240342135: 1, 6.600167986298004: 1, 6.591709498628987: 1, 6.589262902558089: 1, 6.583011561419909: 1, 6.580086091167181: 1, 6.575449896734102: 1, 6.569031589873684: 1, 6.568184814546695: 1, 6.562335296870283: 1, 6.561985874984965: 1, 6.5589091597682145: 1, 6.557435234497075: 1, 6.55357115060196: 1, 6.546729429693816: 1, 6.532663156138555: 1, 6.530830695612861: 1, 6.528382135634148: 1, 6.526116484881518: 1, 6.522537103903475: 1, 6.521741701028458: 1, 6.519924214067492: 1, 6.517075939375628: 1, 6.512327426298515: 1, 6.511885581316556: 1, 6.511100982408863: 1, 6.509374222779369: 1, 6.506996215154982: 1, 6.5029239445108145: 1, 6.499005133869633: 1, 6.490742461046666: 1, 6.48528668886743: 1, 6.479429768778483: 1, 6.474055968982914: 1, 6.47156312129813: 1, 6.465545357794645: 1, 6.458778879410719: 1, 6.450209579857806: 1, 6.44989161390074: 1, 6.443114238340191: 1, 6.441722547661286: 1, 6.428806456278103: 1, 6.427367381121261: 1, 6.424058176098426: 1, 6.422353000385611: 1, 6.420703922346359: 1, 6.410709899872886: 1, 6.404465515264222: 1, 6.404293145337141: 1, 6.402407608231377: 1, 6.400823854928844: 1, 6.3979219298777465: 1, 6.397825005539878: 1, 6.371989256872024: 1, 6.371208331849433: 1, 6.370577944258523: 1, 6.367813972622648: 1, 6.367134623571848: 1, 6.3645786773764925: 1, 6.363931385554284: 1, 6.362643426196878: 1, 6.359623035860628: 1, 6.3578046856935115: 1, 6.356305915390898: 1, 6.3522390897802925: 1, 6.346486185464872: 1, 6.344384119101705: 1, 6.343150142958618: 1, 6.339932313904218: 1, 6.328327931098693: 1, 6.325604509007066: 1, 6.322749728664062: 1, 6.322406814358735: 1, 6.319357214010231: 1, 6.314892078350955: 1, 6.3124358071045075: 1, 6.311110773154943: 1, 6.307794256511126: 1, 6.3030635888572: 1, 6.2972414057235175: 1, 6.297063491070112: 1, 6.291182162368407: 1, 6.289096250072262: 1, 6.286877033682272: 1, 6.28231848282419: 1, 6.280649957458615: 1, 6.274034682948553: 1, 6.267693960619476: 1, 6.259227907698936: 1, 6.256908356030212: 1, 6.247760464421893: 1, 6.246744396111582: 1, 6.241958671900974: 1, 6.233685389059824: 1, 6.230968365891874: 1, 6.221124992040989: 1, 6.219956914315217: 1, 6.215733282365826: 1, 6.208737326805357: 1, 6.208005990159473: 1, 6.2057507826119656: 1, 6.204260831620389: 1, 6.201694936469377: 1, 6.196627696346762: 1, 6.195694936565402: 1, 6.191089989034721: 1, 6.190088610279353: 1, 6.18547629790143: 1, 6.181948542092024: 1, 6.175771852788129: 1, 6.174335253549782: 1, 6.171509107508629: 1, 6.1710867341252245: 1, 6.170156653349863: 1, 6.1696649896768765: 1, 6.164578238315869: 1, 6.1595638735433464: 1, 6.159378284559131: 1, 6.153684196350864: 1, 6.1522958213527925: 1, 6.149730959580178: 1, 6.136302930119024: 1, 6.133273538898628: 1, 6.128050888234191: 1, 6.124979479777578: 1, 6.123948034116326: 1, 6.1227953474434305: 1, 6.112741645568727: 1, 6.105892218290891: 1, 6.1052070580256: 1, 6.097185703324571: 1, 6.094924497992973: 1, 6.089308319246804: 1, 6.0842319926561865: 1, 6.083175439605426: 1, 6.0779919595923495: 1, 6.07704897205356: 1, 6.076382360037871: 1, 6.066103106787167: 1, 6.056416505415452: 1, 6.055578750338779: 1, 6.051003883415855: 1, 6.050324064329964: 1, 6.0485440121726: 1, 6.046801110682821: 1, 6.045024852733672: 1, 6.0435852712097455: 1, 6.040549019549859: 1, 6.03776895035865: 1, 6.030393876802842: 1, 6.003918457097077: 1, 5.9967700386475835: 1, 5.989562789920217: 1, 5.984271586339033: 1, 5.977594262426677: 1, 5.975420515644142: 1, 5.967897593990812: 1, 5.966927455191758: 1, 5.966878694898318: 1, 5.966212112100721: 1, 5.962129624970098: 1, 5.95944381338164: 1, 5.946430706831964: 1, 5.94353230498286: 1, 5.935779708758829: 1, 5.931187536890575: 1, 5.928089021509122: 1, 5.926026359410085: 1, 5.9253328886967696: 1, 5.925325680676933: 1, 5.921719467706384: 1, 5.921399538256554: 1, 5.915014810912848: 1, 5.9089178470887385: 1, 5.897258607599355: 1, 5.89620045404206: 1, 5.891169884273154: 1, 5.89040545885163: 1, 5.883182242541663: 1, 5.88196463284682: 1, 5.8812640621644805: 1, 5.880854966869096: 1, 5.874082580386966: 1, 5.871766910809567: 1, 5.868942800246728: 1, 5.868401179697715: 1, 5.865784830380981: 1, 5.8589050096774775: 1, 5.855970364095913: 1, 5.852739039273974: 1, 5.852285269381977: 1, 5.846948213285097: 1, 5.846374061287465: 1, 5.845931164559219: 1, 5.840151707692838: 1, 5.838625049591372: 1, 5.838382169504237: 1, 5.836311323398364: 1, 5.832348189211118: 1, 5.831681631774267: 1, 5.83097840383172: 1, 5.8298677761537805: 1, 5.821118215381725: 1, 5.8188179938346405: 1, 5.816750373777749: 1, 5.814234435400394: 1, 5.810675464381647: 1, 5.810105836556789: 1, 5.808829132951375: 1, 5.8008102207638155: 1, 5.800359629647857: 1, 5.795531427458896: 1, 5.792707048311991: 1, 5.788521931303563: 1, 5.774809921910831: 1, 5.774720430452867: 1, 5.772637643973931: 1, 5.7682305213932175: 1, 5.765297423552255: 1, 5.759710740276058: 1, 5.7554902133303525: 1, 5.750569126526108: 1, 5.748077646588958: 1, 5.746628545104935: 1, 5.7443268446075635: 1, 5.7390406143485215: 1, 5.737934044051124: 1, 5.733439620419408: 1, 5.733063221992039: 1, 5.730762501233606: 1, 5.721389024801819: 1, 5.718721309997566: 1, 5.714310097170823: 1, 5.712070393637925: 1, 5.712035163714782: 1, 5.706349371997215: 1, 5.702179834760961: 1, 5.701679472144081: 1, 5.69999939313864: 1, 5.694344638544305: 1, 5.693591065475724: 1, 5.690132805328582: 1, 5.686387675104193: 1, 5.6849754168057665: 1, 5.682966751495584: 1, 5.6783281134711086: 1, 5.677899987749088: 1, 5.672606157822529: 1, 5.669365562765511: 1, 5.663811475278039: 1, 5.654126997669823: 1, 5.650467956057121: 1, 5.650066511888821: 1, 5.649569812278207: 1, 5.649099649997671: 1, 5.648489142058164: 1, 5.646024408444282: 1, 5.642813010707847: 1, 5.637146524687083: 1, 5.6364362293707: 1, 5.635551999864376: 1, 5.633016143159368: 1, 5.625940000582701: 1, 5.624286325778003: 1, 5.62325075623401: 1, 5.621284318100232: 1, 5.618346801896205: 1, 5.617130555290974: 1, 5.613455219465878: 1, 5.611766967567588: 1, 5.611440535354577: 1, 5.610056120404629: 1, 5.608970854914173: 1, 5.602451155331596: 1, 5.59877483281982: 1, 5.588061345150626: 1, 5.579747424033102: 1, 5.577774574649315: 1, 5.576467714756751: 1, 5.575929235531904: 1, 5.569214652782046: 1, 5.568976112380671: 1, 5.565289584610688: 1, 5.563520213884839: 1, 5.556628374770702: 1, 5.555371089424026: 1, 5.554497986810202: 1, 5.553677021446506: 1, 5.551296715288547: 1, 5.5410312303362055: 1, 5.537765767027266: 1, 5.520831842237769: 1, 5.519866639254806: 1, 5.516481203992979: 1, 5.510515167967801: 1, 5.510144902473031: 1, 5.5010871365108125: 1, 5.497203668104025: 1, 5.492458003128235: 1, 5.486071456410634: 1, 5.4812167425921725: 1, 5.481001634237033: 1, 5.477840602973909: 1, 5.470681787980818: 1, 5.469223993935039: 1, 5.468436117245857: 1, 5.466330461020745: 1, 5.456453023048471: 1, 5.451599203492055: 1, 5.448714360922537: 1, 5.444894720742061: 1, 5.444681490741839: 1, 5.444657734951964: 1, 5.441475871912208: 1, 5.4411409619331526: 1, 5.43476494865704: 1, 5.434044599069907: 1, 5.432928824353349: 1, 5.431482137609972: 1, 5.424631545630272: 1, 5.415047555856284: 1, 5.4137061202861: 1, 5.407251210242313: 1, 5.400488616203029: 1, 5.399125905967391: 1, 5.393244234000161: 1, 5.388007343286835: 1, 5.386491397064485: 1, 5.385743975139538: 1, 5.3840466590439675: 1, 5.379737269341347: 1, 5.36392332364364: 1, 5.357169747246625: 1, 5.354847945834844: 1, 5.354102404840836: 1, 5.352466464489411: 1, 5.350552528073856: 1, 5.347044248092286: 1, 5.343980128772396: 1, 5.338473411023962: 1, 5.33693636036611: 1, 5.335028882961433: 1, 5.327474762700488: 1, 5.319122296101817: 1, 5.3137778054355485: 1, 5.3136081914332305: 1, 5.30940787437238: 1, 5.302011413771097: 1, 5.301380230395729: 1, 5.298765165021134: 1, 5.296970360670162: 1, 5.284777576616779: 1, 5.284519020890747: 1, 5.284384792366647: 1, 5.275751279235902: 1, 5.273189732986606: 1, 5.271534933157446: 1, 5.271293719468587: 1, 5.265585609852872: 1, 5.260805365538088: 1, 5.259894076775254: 1, 5.256834619479289: 1, 5.251952538832194: 1, 5.250623152552327: 1, 5.24691614564202: 1, 5.246650336571569: 1, 5.246409007286333: 1, 5.245062964266743: 1, 5.237161130354405: 1, 5.233766269172264: 1, 5.232210088098488: 1, 5.225455576612262: 1, 5.215880002943765: 1, 5.213964665927833: 1, 5.210773230651346: 1, 5.210343668266799: 1, 5.209120808046198: 1, 5.207226173768893: 1, 5.206214979755616: 1, 5.203284970117819: 1, 5.202194435303794: 1, 5.200141418699457: 1, 5.20008661190256: 1, 5.198085457877179: 1, 5.197835645617297: 1, 5.189586685450691: 1, 5.189499926837098: 1, 5.18599483184722: 1, 5.179742887116727: 1, 5.177315509655848: 1, 5.1724036015324515: 1, 5.171527740043056: 1, 5.1667806729195584: 1, 5.164463862428207: 1, 5.160142522861069: 1, 5.159133459484371: 1, 5.155844865047819: 1, 5.15501882484621: 1, 5.153781223071825: 1, 5.152774716136528: 1, 5.152671654580266: 1, 5.149880545820109: 1, 5.148195783218368: 1, 5.145622133707364: 1, 5.142837604283156: 1, 5.135073751716448: 1, 5.1342614321846485: 1, 5.131743667501512: 1, 5.13017767126537: 1, 5.126665445657652: 1, 5.119042610310605: 1, 5.118196151244269: 1, 5.116405519833584: 1, 5.112307009632202: 1, 5.109762491490319: 1, 5.109615095450079: 1, 5.1074989042341326: 1, 5.104801375631672: 1, 5.103538234459403: 1, 5.098141192019173: 1, 5.092560167888823: 1, 5.0913119450852635: 1, 5.088247113127465: 1, 5.086947056394661: 1, 5.08215822289228: 1, 5.075732022372093: 1, 5.07453970484985: 1, 5.073364679458019: 1, 5.072564846071687: 1, 5.069576307913399: 1, 5.068737336731735: 1, 5.06719819727493: 1, 5.064312907355482: 1, 5.064029563644855: 1, 5.052609155566569: 1, 5.052531636390296: 1, 5.049975281087575: 1, 5.047375032709044: 1, 5.046988422798402: 1, 5.046438757425048: 1, 5.042760604829397: 1, 5.040645433430893: 1, 5.039623791919134: 1, 5.039388244221615: 1, 5.0386626955253835: 1, 5.033652752644431: 1, 5.0277618936753825: 1, 5.0201550818414145: 1, 5.009687264994888: 1, 5.009040012071284: 1, 5.004907452050311: 1, 5.003579181123566: 1, 5.002846017932556: 1, 5.000317399243472: 1, 4.993984353786669: 1, 4.991838693494506: 1, 4.991823531581827: 1, 4.9909840582072516: 1, 4.990490820214821: 1, 4.987637820620545: 1, 4.98512973555691: 1, 4.984443823904112: 1, 4.9787598638249495: 1, 4.975024605265419: 1, 4.9724356810562265: 1, 4.971769065068368: 1, 4.969642887526261: 1, 4.966864419661545: 1, 4.966820037404426: 1, 4.965787232464515: 1, 4.963238533820431: 1, 4.962199497388478: 1, 4.961598682391743: 1, 4.960434631340916: 1, 4.957203173803283: 1, 4.955611464786433: 1, 4.954744660410471: 1, 4.95083614758855: 1, 4.9504317912065625: 1, 4.949109305987858: 1, 4.948204820946984: 1, 4.946680147059224: 1, 4.941555079225016: 1, 4.941200443365175: 1, 4.9375007345797295: 1, 4.934857911460489: 1, 4.933880312246096: 1, 4.93131529262645: 1, 4.929175877313615: 1, 4.9271122954758235: 1, 4.922940332665384: 1, 4.921239089130854: 1, 4.917100788860072: 1, 4.916744377438112: 1, 4.9133085491124024: 1, 4.9121145081883: 1, 4.9070702434773095: 1, 4.903957666575813: 1, 4.903308082303238: 1, 4.902107080540223: 1, 4.899200483789022: 1, 4.897059758655635: 1, 4.88646874397197: 1, 4.886391817837034: 1, 4.88241180529518: 1, 4.878843113706725: 1, 4.878320915337303: 1, 4.878130367995063: 1, 4.875440098410155: 1, 4.874913436150561: 1, 4.873207570408198: 1, 4.873149172780514: 1, 4.865565164950665: 1, 4.862545012364604: 1, 4.860199366795918: 1, 4.859089088796864: 1, 4.853939433681193: 1, 4.852424766860414: 1, 4.846890920387774: 1, 4.844340621472882: 1, 4.840434779716485: 1, 4.840081321143001: 1, 4.839052414512732: 1, 4.837093323708593: 1, 4.83635011529333: 1, 4.83366190739698: 1, 4.8332906897539685: 1, 4.833144525362223: 1, 4.830604431821625: 1, 4.830444266054704: 1, 4.826941119524402: 1, 4.825611280213955: 1, 4.823927652480657: 1, 4.821013699370218: 1, 4.817224791376928: 1, 4.816177309427769: 1, 4.809727473517315: 1, 4.804727579230124: 1, 4.803718775998675: 1, 4.795628537163762: 1, 4.790366074169093: 1, 4.78632643838511: 1, 4.781564258269691: 1, 4.779772880007709: 1, 4.777227143337078: 1, 4.77580479101483: 1, 4.775597692130396: 1, 4.773218952937253: 1, 4.771896707218591: 1, 4.771790629795265: 1, 4.770289264054692: 1, 4.768353494938797: 1, 4.767177255516224: 1, 4.766411856929904: 1, 4.763994440173699: 1, 4.763827418019049: 1, 4.763242666869706: 1, 4.762164303564207: 1, 4.76082440458454: 1, 4.755665432165354: 1, 4.751731940498877: 1, 4.751114399346422: 1, 4.750513651935812: 1, 4.749871161377047: 1, 4.747897915363281: 1, 4.746244794352567: 1, 4.744883171454396: 1, 4.741677729124548: 1, 4.7399125523503125: 1, 4.737696387900099: 1, 4.720024965102844: 1, 4.719429415594691: 1, 4.717801294610015: 1, 4.712376362161311: 1, 4.707747748582765: 1, 4.707525648032314: 1, 4.6987214332109: 1, 4.6985278679788225: 1, 4.6889786718236754: 1, 4.6875679420178535: 1, 4.686814582099138: 1, 4.685774564802537: 1, 4.684656938699188: 1, 4.68429936786539: 1, 4.683581866913732: 1, 4.673452699924172: 1, 4.672598731153809: 1, 4.6718200187641274: 1, 4.6714785892513255: 1, 4.6679262784964415: 1, 4.66492392591922: 1, 4.661607237756913: 1, 4.661018763249565: 1, 4.660237076965171: 1, 4.657899219624961: 1, 4.65657653140221: 1, 4.655154862295431: 1, 4.655133971166864: 1, 4.653646017584594: 1, 4.652317511433267: 1, 4.651366265581734: 1, 4.650028555098321: 1, 4.649871158298013: 1, 4.640080691631449: 1, 4.639316436013699: 1, 4.6369619596377385: 1, 4.636408356749736: 1, 4.634956507294332: 1, 4.63287024509171: 1, 4.630783918248509: 1, 4.630583024496029: 1, 4.626255201428155: 1, 4.625686053024325: 1, 4.624025111650573: 1, 4.6238642839718285: 1, 4.622348064561815: 1, 4.6217662448196135: 1, 4.62070150470344: 1, 4.620412906271946: 1, 4.614777117095226: 1, 4.609551475216176: 1, 4.609059730899489: 1, 4.60202859401047: 1, 4.601964091115247: 1, 4.601872500082957: 1, 4.600862158003757: 1, 4.600391016509073: 1, 4.594179462305579: 1, 4.589705252771604: 1, 4.588151931275256: 1, 4.58807798550406: 1, 4.588042152707451: 1, 4.586557834095958: 1, 4.581882357732127: 1, 4.580643187985537: 1, 4.5799283271678375: 1, 4.579298477273442: 1, 4.557521150355593: 1, 4.557429513739988: 1, 4.556035786839294: 1, 4.555714793315022: 1, 4.555205400714625: 1, 4.5535454036102285: 1, 4.553258037053653: 1, 4.5459896780687385: 1, 4.541488744646923: 1, 4.541126708931506: 1, 4.539380546953677: 1, 4.533888767185997: 1, 4.532934248810314: 1, 4.532249583227278: 1, 4.531418240421021: 1, 4.531089715432627: 1, 4.529276833274411: 1, 4.527587390120824: 1, 4.523229721328309: 1, 4.521682170223679: 1, 4.521028874055161: 1, 4.520472492165374: 1, 4.519723506841348: 1, 4.515118865862423: 1, 4.513127017696935: 1, 4.51251027514858: 1, 4.511685156225059: 1, 4.510994436530464: 1, 4.5077568682307305: 1, 4.504753791888546: 1, 4.503913695093759: 1, 4.501827860344402: 1, 4.498014952648939: 1, 4.496459561127363: 1, 4.492975830939579: 1, 4.4925594944105685: 1, 4.492169625992861: 1, 4.49035022973472: 1, 4.487035505576461: 1, 4.4828720042976835: 1, 4.479871516481701: 1, 4.477969545234153: 1, 4.474389044921563: 1, 4.473744015965341: 1, 4.473692252563265: 1, 4.471744996189659: 1, 4.4712833315870695: 1, 4.468781281322605: 1, 4.4675340178413725: 1, 4.465716741658127: 1, 4.460013078520622: 1, 4.459627719749056: 1, 4.456142471041787: 1, 4.455144228226246: 1, 4.4523622282030475: 1, 4.452099880018622: 1, 4.45184246578123: 1, 4.449873090891273: 1, 4.448907402961194: 1, 4.438751800837988: 1, 4.4386240946397955: 1, 4.4373664149189525: 1, 4.43462405190768: 1, 4.428465879760128: 1, 4.426002377032662: 1, 4.42585816747766: 1, 4.424262721555015: 1, 4.423407269669702: 1, 4.413150457211886: 1, 4.409872813983821: 1, 4.408419398485541: 1, 4.406915328697114: 1, 4.406159777580741: 1, 4.4036628810742355: 1, 4.402772775851647: 1, 4.40106262465095: 1, 4.400822874741358: 1, 4.39886699510458: 1, 4.398309191951264: 1, 4.398298351759339: 1, 4.396722672655854: 1, 4.395040544200126: 1, 4.394064404494227: 1, 4.392872414209173: 1, 4.388431471683121: 1, 4.3884273100672635: 1, 4.383162363298771: 1, 4.383028673812162: 1, 4.382692345934303: 1, 4.382651905345364: 1, 4.380939088004736: 1, 4.3806419106991665: 1, 4.377738253251447: 1, 4.373868351856819: 1, 4.3738304587484444: 1, 4.373451062324217: 1, 4.373305914842427: 1, 4.373082939945167: 1, 4.372917084763451: 1, 4.370413688199282: 1, 4.370010466441298: 1, 4.361430233453446: 1, 4.357464689507451: 1, 4.351082667575538: 1, 4.350900286811218: 1, 4.350371357182082: 1, 4.349359681933569: 1, 4.347932704263105: 1, 4.346295770337589: 1, 4.341704054459668: 1, 4.33371074669906: 1, 4.331454836452352: 1, 4.329436869797039: 1, 4.325381529267326: 1, 4.322270877943441: 1, 4.320780119172954: 1, 4.318704548481906: 1, 4.317827014005867: 1, 4.316602548258272: 1, 4.316237278889062: 1, 4.31556837310279: 1, 4.315185029099479: 1, 4.31160644009904: 1, 4.310906121922016: 1, 4.308587211202317: 1, 4.303664984539097: 1, 4.301303749371363: 1, 4.300798026479083: 1, 4.299627050406494: 1, 4.29806636766283: 1, 4.2968952444231885: 1, 4.295963437873639: 1, 4.2913185471841135: 1, 4.2891254114820585: 1, 4.288115484315379: 1, 4.287993082202703: 1, 4.287559736225567: 1, 4.28713721738164: 1, 4.285289870338213: 1, 4.285239801438803: 1, 4.2833945305146806: 1, 4.283391930380574: 1, 4.283334567091381: 1, 4.279970342071574: 1, 4.276001275110722: 1, 4.274662961245136: 1, 4.273563007730599: 1, 4.273024356080456: 1, 4.269426699273711: 1, 4.269373855365929: 1, 4.26862434480665: 1, 4.267679850561213: 1, 4.266452524030001: 1, 4.266135011277449: 1, 4.26531088931481: 1, 4.264164982747021: 1, 4.2633484684931: 1, 4.263253202695568: 1, 4.260066535908948: 1, 4.2583254093041765: 1, 4.256003621235281: 1, 4.255094065164382: 1, 4.254222303996107: 1, 4.253367190480499: 1, 4.2523062545065455: 1, 4.252244998342497: 1, 4.251692747949731: 1, 4.2508974156064925: 1, 4.2474613034322015: 1, 4.246956907125527: 1, 4.246197424715151: 1, 4.245306678222321: 1, 4.243446163456133: 1, 4.236983836294767: 1, 4.234517887798254: 1, 4.23419772086958: 1, 4.231594823229238: 1, 4.229735548782095: 1, 4.226972393939933: 1, 4.226544751534285: 1, 4.226087080378919: 1, 4.225099743154222: 1, 4.224479490709104: 1, 4.222680413293536: 1, 4.221653869008557: 1, 4.220146338207076: 1, 4.219485048383934: 1, 4.219477020736235: 1, 4.214156128433053: 1, 4.213233080582367: 1, 4.209693854769472: 1, 4.207430581874543: 1, 4.206600950828238: 1, 4.2063643300080145: 1, 4.206125982159946: 1, 4.2033860307454285: 1, 4.197903845562303: 1, 4.195338333455129: 1, 4.194060355540226: 1, 4.19291770049216: 1, 4.191623329284996: 1, 4.186805056617978: 1, 4.18179623324217: 1, 4.180973370157206: 1, 4.1787025524380885: 1, 4.178422225087626: 1, 4.177166566134131: 1, 4.176798223097004: 1, 4.174594690667825: 1, 4.173916859398394: 1, 4.17371156745762: 1, 4.173209511634625: 1, 4.171885906100764: 1, 4.166943036274833: 1, 4.165683295121956: 1, 4.165587892502541: 1, 4.165068672901738: 1, 4.163753882551731: 1, 4.1569241664147: 1, 4.155659886387033: 1, 4.1528719346668135: 1, 4.1526759436254705: 1, 4.151098037414227: 1, 4.150566293475092: 1, 4.149056368857019: 1, 4.14826361715409: 1, 4.142234650046836: 1, 4.139835370685991: 1, 4.138779836052761: 1, 4.137074290380231: 1, 4.134692644042665: 1, 4.13405677805405: 1, 4.132307157201586: 1, 4.131756882331739: 1, 4.126506804591171: 1, 4.1240824687838415: 1, 4.124032252015353: 1, 4.121426919108997: 1, 4.1197099081147055: 1, 4.115244470554989: 1, 4.114739654786672: 1, 4.112146254472556: 1, 4.11127806510978: 1, 4.110688193530335: 1, 4.110503558658938: 1, 4.108014138526842: 1, 4.106499751584496: 1, 4.105922957844593: 1, 4.104538030544086: 1, 4.104263797380861: 1, 4.103470517135415: 1, 4.10306094968837: 1, 4.098196171984306: 1, 4.097045820883638: 1, 4.096162005601528: 1, 4.094646445885887: 1, 4.091862299410455: 1, 4.090799819085632: 1, 4.089181058323645: 1, 4.087377110136653: 1, 4.085841341228541: 1, 4.0856113659896: 1, 4.083346481951385: 1, 4.082737580192224: 1, 4.082648427733101: 1, 4.0815914868424406: 1, 4.080764303122851: 1, 4.079589817920361: 1, 4.078339856534858: 1, 4.071689900491754: 1, 4.068273797262485: 1, 4.065675851033625: 1, 4.065230754870566: 1, 4.061233469980491: 1, 4.057022448664611: 1, 4.057019837506673: 1, 4.053673473903958: 1, 4.051444579968948: 1, 4.048218104110921: 1, 4.0471978429776225: 1, 4.04611620742235: 1, 4.043922782927468: 1, 4.042201324319923: 1, 4.040585699433001: 1, 4.039810650229263: 1, 4.031973640540941: 1, 4.031276496433033: 1, 4.030612398229306: 1, 4.026000238571489: 1, 4.025480607573498: 1, 4.025260387848887: 1, 4.0189307250983894: 1, 4.018405583237425: 1, 4.016485036228913: 1, 4.016358616715902: 1, 4.01481208664331: 1, 4.014010898793823: 1, 4.012707107997169: 1, 4.011651095337995: 1, 4.010253686804867: 1, 4.010032270008348: 1, 4.00980165631486: 1, 4.009087797676607: 1, 4.008880265949068: 1, 4.006735754904647: 1, 4.005787070511595: 1, 4.004126672784331: 1, 4.002437540821116: 1, 4.002013515353289: 1, 4.00049258613835: 1, 3.9994375595700844: 1, 3.999432455655487: 1, 3.9976271642481604: 1, 3.996890029273368: 1, 3.994778890740074: 1, 3.9938110844917687: 1, 3.992974550352641: 1, 3.9923800037003687: 1, 3.9923580661126534: 1, 3.9904592679883404: 1, 3.98873993401284: 1, 3.987907971860451: 1, 3.9871270310652585: 1, 3.9870004733700974: 1, 3.9843254063235096: 1, 3.983637897653992: 1, 3.9833699971216716: 1, 3.9821008051311413: 1, 3.9815946775068873: 1, 3.980985363041411: 1, 3.9805017093052473: 1, 3.977641415518623: 1, 3.9774015807355667: 1, 3.976346790619447: 1, 3.971521681285175: 1, 3.970322735224382: 1, 3.969429754025134: 1, 3.9646513201668014: 1, 3.9635169678542437: 1, 3.9577933196573833: 1, 3.9575175140030074: 1, 3.9575005232466034: 1, 3.9536035651711945: 1, 3.950843443932343: 1, 3.9466458543112517: 1, 3.9443751231641504: 1, 3.942358468606949: 1, 3.940715975236067: 1, 3.9379541373376603: 1, 3.937244907197486: 1, 3.936389178432785: 1, 3.9356662405542746: 1, 3.9319461802948337: 1, 3.930064161193494: 1, 3.929838227893127: 1, 3.929044208891572: 1, 3.927722644024387: 1, 3.927268782786004: 1, 3.926048394530563: 1, 3.9240008820092123: 1, 3.9220789987736904: 1, 3.9217405545389137: 1, 3.920120396819705: 1, 3.9193746620618772: 1, 3.918418150952137: 1, 3.9179409575428816: 1, 3.9175992227064156: 1, 3.916575583939057: 1, 3.916308410306358: 1, 3.9162778507374583: 1, 3.916041078027632: 1, 3.915084253523462: 1, 3.9112000177113657: 1, 3.909262976956147: 1, 3.9059775201765183: 1, 3.905804313108425: 1, 3.9056889356278073: 1, 3.9015320910164997: 1, 3.9004201684902164: 1, 3.8994610276823076: 1, 3.899001922794725: 1, 3.897801049327682: 1, 3.8951273603131575: 1, 3.8943656838885765: 1, 3.8919763258048614: 1, 3.8916608531743977: 1, 3.8903383548633124: 1, 3.8892161353511114: 1, 3.8864647508096004: 1, 3.8860077993674302: 1, 3.8856595044323217: 1, 3.885529623066336: 1, 3.8840105273550507: 1, 3.882663972962971: 1, 3.8814617296081253: 1, 3.8791113172224865: 1, 3.875225448391289: 1, 3.8742321704590177: 1, 3.8721943521462974: 1, 3.8691112471859053: 1, 3.8689177654022964: 1, 3.8687049570841463: 1, 3.8667981267396354: 1, 3.8636581013013083: 1, 3.863607564347241: 1, 3.8633816692694767: 1, 3.86324853174119: 1, 3.862564115835105: 1, 3.862446285485804: 1, 3.862409361218873: 1, 3.862227610170625: 1, 3.8607825383725247: 1, 3.860543205243775: 1, 3.853807333194387: 1, 3.8534577890678174: 1, 3.8531457848331883: 1, 3.8482501694530455: 1, 3.846359834255207: 1, 3.845150949491805: 1, 3.8446890494827746: 1, 3.84354814176546: 1, 3.8408594529798545: 1, 3.83939785177842: 1, 3.837435567062685: 1, 3.836776517941544: 1, 3.8356060053625027: 1, 3.8291880646361065: 1, 3.8285090618770177: 1, 3.8278153492190814: 1, 3.8276258885206813: 1, 3.8267089714873825: 1, 3.826138879411057: 1, 3.8190116374945213: 1, 3.818301326835602: 1, 3.816978077700616: 1, 3.8157768820007476: 1, 3.815009712873249: 1, 3.81347288973932: 1, 3.8124790999367137: 1, 3.8123475208632542: 1, 3.8095364742622984: 1, 3.8083900130830735: 1, 3.8082354356209778: 1, 3.807621214345406: 1, 3.807604429181703: 1, 3.80612807227131: 1, 3.805880246643216: 1, 3.805792960158561: 1, 3.804220645923411: 1, 3.802109558556167: 1, 3.802071677853632: 1, 3.800914296225009: 1, 3.8007826325046055: 1, 3.799357749334187: 1, 3.7989734060331504: 1, 3.7982890437161103: 1, 3.797250131253488: 1, 3.7967538115816133: 1, 3.794726606045492: 1, 3.7940810183177067: 1, 3.7923175735456263: 1, 3.79222532140076: 1, 3.791830859729851: 1, 3.790406938344293: 1, 3.7892225361868115: 1, 3.787676026865425: 1, 3.7845766299359145: 1, 3.783970832630664: 1, 3.7838336153389376: 1, 3.783553451918582: 1, 3.783003566689194: 1, 3.7828365292411585: 1, 3.7818445481794005: 1, 3.781572196282495: 1, 3.7794167671071253: 1, 3.777776386165729: 1, 3.777023088326376: 1, 3.7751499171659604: 1, 3.772365807464322: 1, 3.768451253736663: 1, 3.7672071581676723: 1, 3.766735197164835: 1, 3.7654603235433965: 1, 3.7645813554148537: 1, 3.7642114295014384: 1, 3.7635884222548404: 1, 3.7622061343649444: 1, 3.760063537627274: 1, 3.7599682517781203: 1, 3.759128064239007: 1, 3.754810049393397: 1, 3.7541079597448825: 1, 3.753993764606696: 1, 3.753681205466282: 1, 3.7525805069089047: 1, 3.751624558755047: 1, 3.7465147163098385: 1, 3.7429417941379306: 1, 3.7428603856456877: 1, 3.742112251654884: 1, 3.741004135641926: 1, 3.7408820404748084: 1, 3.739336622156878: 1, 3.7366148638337595: 1, 3.7308561879863693: 1, 3.730658462798316: 1, 3.7288787524793032: 1, 3.727777163020085: 1, 3.7271872028763484: 1, 3.726955033853241: 1, 3.7252227290342734: 1, 3.7238878085585685: 1, 3.723340233077827: 1, 3.7230622014346633: 1, 3.720039266350176: 1, 3.7195407308126165: 1, 3.7193112180003847: 1, 3.717559100694376: 1, 3.716839826644112: 1, 3.710237200906321: 1, 3.7062068049420773: 1, 3.704751141930812: 1, 3.704417373901361: 1, 3.7034866260496573: 1, 3.702904982685049: 1, 3.700444809326698: 1, 3.6996562593248705: 1, 3.6995745167198555: 1, 3.6984368335182176: 1, 3.6966694730576175: 1, 3.6962616238608517: 1, 3.6959954288917314: 1, 3.69583022819081: 1, 3.692601047689902: 1, 3.684863031913323: 1, 3.68473009100149: 1, 3.6799870194472772: 1, 3.6799675385384045: 1, 3.679935418328276: 1, 3.6792167608969613: 1, 3.677598855556777: 1, 3.676775620713873: 1, 3.6736955948683487: 1, 3.6727725624568013: 1, 3.6722737404752372: 1, 3.6712319666248674: 1, 3.6694031589079197: 1, 3.669286576971561: 1, 3.668442195109433: 1, 3.666236307332343: 1, 3.6658950508972965: 1, 3.6657427461151966: 1, 3.665059739033236: 1, 3.6640572931430695: 1, 3.663570577331944: 1, 3.661185747327244: 1, 3.659803142188377: 1, 3.6567055652783185: 1, 3.6553318322879127: 1, 3.6545746103413372: 1, 3.6510083138405984: 1, 3.650795617711498: 1, 3.6500261951948767: 1, 3.6493256856588325: 1, 3.64872620092326: 1, 3.6449883142489394: 1, 3.6441210755647377: 1, 3.6438368990146626: 1, 3.643389497275702: 1, 3.6416531042468274: 1, 3.641378342734787: 1, 3.6391634886152318: 1, 3.6373982685655046: 1, 3.6363569587508664: 1, 3.634732768222361: 1, 3.6343649660036603: 1, 3.6323937155926647: 1, 3.631693268709183: 1, 3.6315109305959448: 1, 3.6285251869564865: 1, 3.6280549251665044: 1, 3.623894472289395: 1, 3.622141909060919: 1, 3.6216996402802795: 1, 3.621415988458977: 1, 3.616920604177037: 1, 3.612596249104514: 1, 3.611971657683146: 1, 3.610749703552015: 1, 3.6097714652299735: 1, 3.609008705967201: 1, 3.6067994568959367: 1, 3.606227951656647: 1, 3.6051825543677003: 1, 3.6029871436731518: 1, 3.6015812796641185: 1, 3.599030079184296: 1, 3.596668280029986: 1, 3.5964783352834115: 1, 3.596402947257974: 1, 3.595562390264172: 1, 3.5943002897094205: 1, 3.5929679083569686: 1, 3.589268439753761: 1, 3.5870763634737535: 1, 3.586610578489154: 1, 3.586135822245413: 1, 3.586013869376018: 1, 3.5856333186840414: 1, 3.585154711596161: 1, 3.5825740204046865: 1, 3.581955783731221: 1, 3.5809027987769877: 1, 3.5799000699475494: 1, 3.5798806805830927: 1, 3.5796707867729283: 1, 3.5791290831237355: 1, 3.5782629081168777: 1, 3.578003414604355: 1, 3.5774757279953446: 1, 3.576932949756887: 1, 3.5766586143752117: 1, 3.5756105213589757: 1, 3.57519998309088: 1, 3.5740354634943357: 1, 3.5697961848439155: 1, 3.567583446710978: 1, 3.5673903836095606: 1, 3.5673604097412355: 1, 3.566623441631366: 1, 3.5656863754471813: 1, 3.5652811498927: 1, 3.5649288380982456: 1, 3.5643586083392456: 1, 3.562856733624337: 1, 3.5624723302775165: 1, 3.56233188682105: 1, 3.561920209842557: 1, 3.559622032650584: 1, 3.5580223871292374: 1, 3.5567564577787714: 1, 3.5559024483784825: 1, 3.5550511295310216: 1, 3.55249743468681: 1, 3.5480950826795508: 1, 3.546905248279538: 1, 3.5461296007825016: 1, 3.545975573996604: 1, 3.5459433561860134: 1, 3.5448641117315423: 1, 3.5442481842884432: 1, 3.5440071404658524: 1, 3.5413201354096735: 1, 3.540405006215046: 1, 3.540311096038154: 1, 3.539893060777142: 1, 3.53880408490932: 1, 3.534538519069038: 1, 3.533648713662663: 1, 3.533249670658557: 1, 3.5330498582344996: 1, 3.5298079531199154: 1, 3.5269945827787614: 1, 3.5262559725050044: 1, 3.5242520297261417: 1, 3.5228957550061257: 1, 3.521095674172029: 1, 3.5193238192314635: 1, 3.517586925301418: 1, 3.5175258769235374: 1, 3.517316220031477: 1, 3.5129504581371824: 1, 3.508935198906218: 1, 3.5058822153493647: 1, 3.50580647968442: 1, 3.505019753232295: 1, 3.5046251683784897: 1, 3.5026279539461243: 1, 3.500966948947789: 1, 3.5005983655525132: 1, 3.4991766718434247: 1, 3.4990533971493165: 1, 3.498278976254481: 1, 3.493954556714656: 1, 3.4938168812172217: 1, 3.493531803215194: 1, 3.492422314954778: 1, 3.489964386968541: 1, 3.489470389970092: 1, 3.488978716150931: 1, 3.4873369471298004: 1, 3.4852977496716755: 1, 3.483373352853033: 1, 3.4823080391907544: 1, 3.480577236942849: 1, 3.4787343824331525: 1, 3.4774657387972665: 1, 3.4774222967153667: 1, 3.4759814680853447: 1, 3.4715159942888825: 1, 3.4713315733865637: 1, 3.470241863375282: 1, 3.469546886917903: 1, 3.4692804288101855: 1, 3.4683517837243016: 1, 3.4645360742427616: 1, 3.4643730861186137: 1, 3.460908926768424: 1, 3.4596365839851275: 1, 3.4578572395580087: 1, 3.4577221887962546: 1, 3.457234712349312: 1, 3.4564464100103582: 1, 3.454962164639741: 1, 3.4516536737314527: 1, 3.4479634946097097: 1, 3.4463046655703735: 1, 3.44500046111425: 1, 3.4438889093414424: 1, 3.4438569752506556: 1, 3.4436132381193136: 1, 3.4399672614305303: 1, 3.4393858714222563: 1, 3.4387332916422473: 1, 3.4386906748723955: 1, 3.4383092621650504: 1, 3.4381511355870193: 1, 3.4378297727717233: 1, 3.4363399382062036: 1, 3.435951524412215: 1, 3.4346468541371107: 1, 3.4333863128107445: 1, 3.4305410831721868: 1, 3.42996016990287: 1, 3.4288090871115657: 1, 3.427707240791299: 1, 3.4269959667853818: 1, 3.4268992189996035: 1, 3.425839100728978: 1, 3.424114568935372: 1, 3.4233866014381396: 1, 3.4218563354156095: 1, 3.4211160233096707: 1, 3.4196945576636537: 1, 3.4162759697237055: 1, 3.4160509446870484: 1, 3.4158590198863177: 1, 3.4151018798595376: 1, 3.4130420604551124: 1, 3.4113311728434432: 1, 3.4103584488210616: 1, 3.4102650112248716: 1, 3.4094375621841135: 1, 3.408856637571683: 1, 3.4075608930976213: 1, 3.4046277013455555: 1, 3.401786516589291: 1, 3.400949767896094: 1, 3.4003431263075314: 1, 3.4002562396427436: 1, 3.395680595553073: 1, 3.3936365582939647: 1, 3.3933087285476455: 1, 3.3902352367807924: 1, 3.3900019701511397: 1, 3.3896058985477833: 1, 3.389022077602231: 1, 3.3885763278769003: 1, 3.3877631174742873: 1, 3.3865169941531352: 1, 3.386165328364807: 1, 3.3854130394299244: 1, 3.3834078903223412: 1, 3.38230316697056: 1, 3.380251587754457: 1, 3.3800268524312487: 1, 3.3789257354322224: 1, 3.3789153834056407: 1, 3.3788346427301508: 1, 3.3786580078750648: 1, 3.3786006989121122: 1, 3.3779416530695046: 1, 3.375645810290896: 1, 3.3749165768331033: 1, 3.3729500411164977: 1, 3.372707453177441: 1, 3.371510178647376: 1, 3.3711933846997004: 1, 3.3709592251489857: 1, 3.3697502281601466: 1, 3.367278156371347: 1, 3.363298139899026: 1, 3.361823318556224: 1, 3.3606974392676556: 1, 3.3605832859592626: 1, 3.3602944157374974: 1, 3.359509834534455: 1, 3.353624040060711: 1, 3.351510704265654: 1, 3.3514580773031106: 1, 3.350428528456525: 1, 3.34905971212378: 1, 3.347422600332303: 1, 3.344538150171599: 1, 3.344534590378782: 1, 3.342839910457239: 1, 3.3411831230419136: 1, 3.3399929832389064: 1, 3.3382102661132405: 1, 3.337831585192993: 1, 3.3373293662294286: 1, 3.3344420905064163: 1, 3.333621173552287: 1, 3.3320671123452574: 1, 3.331860873732895: 1, 3.331380595387926: 1, 3.330670326480077: 1, 3.3269759185948065: 1, 3.3238915406316734: 1, 3.3238727467908813: 1, 3.3225853753341634: 1, 3.3222719141061536: 1, 3.322087841667777: 1, 3.3214211838423457: 1, 3.3213124199026978: 1, 3.320719519299718: 1, 3.319845326695372: 1, 3.319635951706703: 1, 3.318755865527513: 1, 3.3183024109832027: 1, 3.3157900551938195: 1, 3.3156380382618513: 1, 3.315031291244778: 1, 3.3137794474631503: 1, 3.313379823827728: 1, 3.3125585775406456: 1, 3.311814351373437: 1, 3.310933779953331: 1, 3.3097911676389744: 1, 3.3097174351126974: 1, 3.3089953633613987: 1, 3.3078561596656932: 1, 3.306770702327348: 1, 3.30630563647088: 1, 3.3060399062530186: 1, 3.3019582193473376: 1, 3.299204335296586: 1, 3.2977545364063015: 1, 3.2972607018358087: 1, 3.296355897596715: 1, 3.2934842971761613: 1, 3.2931906838831098: 1, 3.2928331695207236: 1, 3.2919457839670767: 1, 3.2917331441810678: 1, 3.291341814478572: 1, 3.2902370993234302: 1, 3.289470395781719: 1, 3.2889578061128937: 1, 3.2878729638195283: 1, 3.286907275654899: 1, 3.2867256702279386: 1, 3.286623391672016: 1, 3.286130679772106: 1, 3.2856879437761664: 1, 3.2824867569585887: 1, 3.2823991024125134: 1, 3.2812104779122198: 1, 3.279662113466076: 1, 3.2793281522006827: 1, 3.2782408982550186: 1, 3.276392160647101: 1, 3.275983134276393: 1, 3.2756598967821446: 1, 3.2755468880335483: 1, 3.274933830522124: 1, 3.2733193528778854: 1, 3.2732003985079974: 1, 3.269890833965924: 1, 3.262367149717174: 1, 3.2613658791508575: 1, 3.261257036138446: 1, 3.2611583221784413: 1, 3.261016469084864: 1, 3.260678816561628: 1, 3.2590854947095287: 1, 3.256611168390074: 1, 3.255484139919044: 1, 3.2542925577258464: 1, 3.2515583398307273: 1, 3.2507899405928695: 1, 3.250783979055338: 1, 3.2504546742154408: 1, 3.2489977749436907: 1, 3.2489213582579493: 1, 3.2446371193546124: 1, 3.24189909342697: 1, 3.2401915177632534: 1, 3.2387808988731597: 1, 3.23866425261236: 1, 3.2380631653308956: 1, 3.237836479954694: 1, 3.2361836007214357: 1, 3.234902319604616: 1, 3.234325370423529: 1, 3.232309334951175: 1, 3.2300671838350428: 1, 3.2290481551378636: 1, 3.2279675514505026: 1, 3.2220221001070994: 1, 3.2219452914220787: 1, 3.2214091017855053: 1, 3.2201492573381305: 1, 3.2192181933882984: 1, 3.2185247605569423: 1, 3.218082451427773: 1, 3.2175995426537662: 1, 3.2161868345318996: 1, 3.216020570788629: 1, 3.2135713050170964: 1, 3.2132936056950423: 1, 3.2129020326330555: 1, 3.211916810555594: 1, 3.21134836398873: 1, 3.2111098474476654: 1, 3.210433420467669: 1, 3.2096965635907995: 1, 3.209221228919898: 1, 3.2083500941800773: 1, 3.2081130066761703: 1, 3.2077956655658553: 1, 3.2077956071601657: 1, 3.207134893785883: 1, 3.2066242504598246: 1, 3.2048981894788127: 1, 3.2044816638471922: 1, 3.2037715613451643: 1, 3.2035319646877505: 1, 3.2027032160964244: 1, 3.20144773475254: 1, 3.201071162925417: 1, 3.200506596521104: 1, 3.196345594097613: 1, 3.1959481334187556: 1, 3.1957798963427875: 1, 3.1944748137255865: 1, 3.1942833004415574: 1, 3.1942108763935164: 1, 3.193222035463957: 1, 3.1928930353200866: 1, 3.1925834760872833: 1, 3.19232205569906: 1, 3.192189569859116: 1, 3.192187434172433: 1, 3.1912897953601935: 1, 3.1909868303064304: 1, 3.1905667845134937: 1, 3.190340323800229: 1, 3.188782881306718: 1, 3.188562721214279: 1, 3.188346501157556: 1, 3.1877154780551025: 1, 3.1862005047073807: 1, 3.1845278836300177: 1, 3.18367696301367: 1, 3.1831036141676496: 1, 3.1821362952082937: 1, 3.1804995025756924: 1, 3.180014483622092: 1, 3.1781083104128163: 1, 3.177729706235684: 1, 3.177359438115616: 1, 3.176601005849353: 1, 3.173918198804373: 1, 3.1730572353523607: 1, 3.171752736216763: 1, 3.171528331740764: 1, 3.170828809965239: 1, 3.1703367514551486: 1, 3.1693498553645294: 1, 3.1666478672239444: 1, 3.165022559237265: 1, 3.163538961377414: 1, 3.162878213473264: 1, 3.1625494531634106: 1, 3.1612681094878874: 1, 3.1592850716235295: 1, 3.1588556776207732: 1, 3.158223637459321: 1, 3.157763156520685: 1, 3.1574920649833795: 1, 3.153887428671957: 1, 3.1535765789582735: 1, 3.1524685896841316: 1, 3.152371707815475: 1, 3.149343147532502: 1, 3.14731139622068: 1, 3.1433822801853357: 1, 3.143113033333855: 1, 3.139265120458021: 1, 3.137725136565642: 1, 3.1368947644370437: 1, 3.1358063670071368: 1, 3.134763133266219: 1, 3.1341407449537826: 1, 3.1328991898587857: 1, 3.1317193049436876: 1, 3.131218534582542: 1, 3.1308195347086025: 1, 3.1285818983444065: 1, 3.126842475296291: 1, 3.126774245458691: 1, 3.125016139275978: 1, 3.123481958001266: 1, 3.1224867354931507: 1, 3.120163268686625: 1, 3.1201175907210996: 1, 3.1184606810131763: 1, 3.1183505227896684: 1, 3.116605450883119: 1, 3.1164903775224855: 1, 3.1163944257700305: 1, 3.1162908561557825: 1, 3.1155939022245143: 1, 3.1150672793712326: 1, 3.1138566411267368: 1, 3.113401808564331: 1, 3.1107446367107414: 1, 3.1097807471152685: 1, 3.1043962152040194: 1, 3.1012642155680403: 1, 3.099451071812908: 1, 3.0992227052441756: 1, 3.0988309758884305: 1, 3.098719772050479: 1, 3.0985213150629045: 1, 3.097720357619452: 1, 3.096199763631012: 1, 3.095437728756157: 1, 3.094950610454979: 1, 3.0949456048044537: 1, 3.0947399706173453: 1, 3.0932330695327517: 1, 3.092565362849299: 1, 3.0923020037040803: 1, 3.0922654811787105: 1, 3.0915550905925024: 1, 3.0899532230056352: 1, 3.0897241867603857: 1, 3.089510034923447: 1, 3.0892831970402987: 1, 3.0890420786525365: 1, 3.087416534550718: 1, 3.0871269697524903: 1, 3.0863329835253377: 1, 3.0855508541245213: 1, 3.08530738749273: 1, 3.0851744465283275: 1, 3.082659565374446: 1, 3.0823989858318943: 1, 3.0813825313619687: 1, 3.0810334083904607: 1, 3.0807228108305456: 1, 3.080587714058494: 1, 3.0805084273729637: 1, 3.079189303235644: 1, 3.078545789983698: 1, 3.0783075227338097: 1, 3.0780118254067: 1, 3.076956404974183: 1, 3.0752567931195887: 1, 3.0738725262211495: 1, 3.0713651465787613: 1, 3.0704564510379413: 1, 3.0694222110384843: 1, 3.068440805516379: 1, 3.067691929630661: 1, 3.0673284182223024: 1, 3.0663933155628844: 1, 3.0656319617476995: 1, 3.0644193229114594: 1, 3.0642338700682465: 1, 3.063190053785372: 1, 3.0631736767975464: 1, 3.0618072455099523: 1, 3.061791650965475: 1, 3.0603332427459886: 1, 3.0597713786515524: 1, 3.0596025094271266: 1, 3.059175595748729: 1, 3.058587148185865: 1, 3.0570708215058806: 1, 3.0568226327253143: 1, 3.056446529656417: 1, 3.0541610457388564: 1, 3.0528811313684288: 1, 3.052716694910852: 1, 3.052324830005927: 1, 3.0521733018762918: 1, 3.0514785841458187: 1, 3.050836951116935: 1, 3.0500295977921135: 1, 3.049601262717367: 1, 3.0452452603839104: 1, 3.0450023595138695: 1, 3.0408726250316085: 1, 3.0375655049086983: 1, 3.0372003990872027: 1, 3.036557300254024: 1, 3.036181932912694: 1, 3.035851911443009: 1, 3.035694820668571: 1, 3.034327888329278: 1, 3.0340860883571: 1, 3.033929132319178: 1, 3.0334977262690392: 1, 3.0322306303069477: 1, 3.031018036575731: 1, 3.030221547684275: 1, 3.0286210894525816: 1, 3.028324730619129: 1, 3.0257165094806804: 1, 3.021755543301382: 1, 3.020785103706574: 1, 3.0199967106601595: 1, 3.018369607657899: 1, 3.0183033051004062: 1, 3.0178852694202924: 1, 3.0159911218949853: 1, 3.015391334494551: 1, 3.0129215572936214: 1, 3.0114382282110945: 1, 3.009222619791788: 1, 3.008823415952226: 1, 3.00778713787664: 1, 3.0069802142334847: 1, 3.005688380442728: 1, 3.0031833721067476: 1, 3.0028602367566495: 1, 3.001611697809069: 1, 3.001569331012557: 1, 3.0010054219008024: 1, 2.9986069463981724: 1, 2.9978503293522722: 1, 2.989090958771101: 1, 2.9875333116369958: 1, 2.9873874303692767: 1, 2.9873391462076806: 1, 2.987262961560528: 1, 2.9860117758108298: 1, 2.985836788124514: 1, 2.9853584381012754: 1, 2.9853406741317356: 1, 2.983831314669766: 1, 2.9837423361599065: 1, 2.9834488496033282: 1, 2.982880204576678: 1, 2.981811668770761: 1, 2.981692877077592: 1, 2.979997799390368: 1, 2.979739726238606: 1, 2.9793338730799093: 1, 2.978813806271283: 1, 2.97655421423936: 1, 2.973452045826061: 1, 2.9705605411412166: 1, 2.9678112125128893: 1, 2.9654420916294795: 1, 2.9653580211530786: 1, 2.965114797706086: 1, 2.9629609101566716: 1, 2.9625020935484567: 1, 2.961660987531682: 1, 2.961512105606197: 1, 2.9602902645146156: 1, 2.9591142052447905: 1, 2.9590607620517466: 1, 2.958806565929791: 1, 2.958801746213237: 1, 2.9581475682010363: 1, 2.9574201478629774: 1, 2.956856109613975: 1, 2.9555320380378767: 1, 2.950689710240338: 1, 2.9486333687614183: 1, 2.9463248655354595: 1, 2.9454972087833178: 1, 2.9402187123313115: 1, 2.9395134144427315: 1, 2.9382048321501983: 1, 2.9370838632641054: 1, 2.9369381054161283: 1, 2.935291678743909: 1, 2.9352011759427654: 1, 2.9351198877618914: 1, 2.9348396571258135: 1, 2.9343241073828352: 1, 2.933312392432935: 1, 2.931928602943403: 1, 2.930985372998655: 1, 2.929184913211718: 1, 2.9289279775882244: 1, 2.928518254335047: 1, 2.9275093097452385: 1, 2.9260922568456955: 1, 2.9245661614862786: 1, 2.923471090525486: 1, 2.923384827716667: 1, 2.9231930612233263: 1, 2.922613275762703: 1, 2.9221144342763092: 1, 2.9204629157800146: 1, 2.9202896735055566: 1, 2.9199824150415505: 1, 2.9198525900139822: 1, 2.9191081087181283: 1, 2.916898312097572: 1, 2.9140530749468554: 1, 2.9110982202860134: 1, 2.90972235091232: 1, 2.9095940172671537: 1, 2.909488009153259: 1, 2.908782002734533: 1, 2.9073869605600655: 1, 2.907145250247265: 1, 2.906544264830561: 1, 2.9055161570701715: 1, 2.9045604976596424: 1, 2.901865709972693: 1, 2.899397254191203: 1, 2.8993368799839545: 1, 2.8958139687675666: 1, 2.8939952400849664: 1, 2.8938863075040655: 1, 2.8935969950129596: 1, 2.8928430417110724: 1, 2.892641816941303: 1, 2.8917756734121647: 1, 2.8917647062691225: 1, 2.890370519885624: 1, 2.8900382153939432: 1, 2.88929607039198: 1, 2.8889748059148492: 1, 2.8883071416738675: 1, 2.886429205410528: 1, 2.886316825106537: 1, 2.8860053872584728: 1, 2.8846412983257186: 1, 2.8846321113991573: 1, 2.8845476238886842: 1, 2.8844857072591923: 1, 2.8842317786126284: 1, 2.8840451247927352: 1, 2.883693901334997: 1, 2.8813769643722185: 1, 2.881244840707939: 1, 2.8794130022618316: 1, 2.8794094685672627: 1, 2.8763683774476743: 1, 2.876333528941516: 1, 2.8743005756528093: 1, 2.8741592024606364: 1, 2.8739243126576923: 1, 2.8738183507328072: 1, 2.8697719315402797: 1, 2.868875295158016: 1, 2.868791897082471: 1, 2.868595295557859: 1, 2.8684651583877394: 1, 2.867254058475074: 1, 2.8671880037295545: 1, 2.866344574424809: 1, 2.862752221823302: 1, 2.862743321305557: 1, 2.861841713555474: 1, 2.861540070822793: 1, 2.858618694810516: 1, 2.85808508563726: 1, 2.857416550856377: 1, 2.85728255773646: 1, 2.855388734187107: 1, 2.8552420695865326: 1, 2.8551883192436787: 1, 2.8543265422176947: 1, 2.852249960694167: 1, 2.8512475398836377: 1, 2.849892198465563: 1, 2.8495209487949955: 1, 2.8491421025469856: 1, 2.848762534038224: 1, 2.8457010966130833: 1, 2.845333528729721: 1, 2.8448073995817347: 1, 2.844277809905342: 1, 2.842627657623075: 1, 2.842375676157585: 1, 2.8413069200397: 1, 2.8410783832699464: 1, 2.8394960409188377: 1, 2.838796452303434: 1, 2.8387515696549497: 1, 2.8370506866170255: 1, 2.836485185060852: 1, 2.8364411177529383: 1, 2.836060593608268: 1, 2.8357195122341334: 1, 2.8340300767079434: 1, 2.8315420774768336: 1, 2.831520443789754: 1, 2.8314681671752466: 1, 2.8313243259121816: 1, 2.8313233655041783: 1, 2.831157986824071: 1, 2.830710395108861: 1, 2.8287283217432164: 1, 2.8283035040310645: 1, 2.827883469018301: 1, 2.825645850351465: 1, 2.823887036027775: 1, 2.8215880814967664: 1, 2.8214182863440804: 1, 2.8213009657575707: 1, 2.8204896815341853: 1, 2.819626909835093: 1, 2.819371883267016: 1, 2.8172045596384083: 1, 2.816080645655322: 1, 2.814487998212793: 1, 2.814019439367223: 1, 2.8138133653611006: 1, 2.8132054195352025: 1, 2.811054629483451: 1, 2.8100251525917264: 1, 2.8093862366482094: 1, 2.808962219293366: 1, 2.808536474807267: 1, 2.807733517649974: 1, 2.807644698712968: 1, 2.806880662864296: 1, 2.8068029292575596: 1, 2.8063099714814106: 1, 2.8048690090225596: 1, 2.804706148907394: 1, 2.8029280932604452: 1, 2.8024014545215596: 1, 2.8005583619200967: 1, 2.798111257202607: 1, 2.7959944070656313: 1, 2.7957529544622877: 1, 2.795675499368508: 1, 2.7952092266717883: 1, 2.793261544210748: 1, 2.792658757204037: 1, 2.79257535269507: 1, 2.7908788547501637: 1, 2.7895769379019826: 1, 2.7884705164694115: 1, 2.7864907361616122: 1, 2.7863174749207125: 1, 2.786308358076505: 1, 2.7861983998679016: 1, 2.783712971668738: 1, 2.78328942810091: 1, 2.7832863447941953: 1, 2.782353143239757: 1, 2.7799222753334645: 1, 2.778410364083439: 1, 2.776234143503893: 1, 2.7758618148341423: 1, 2.7755173525641026: 1, 2.775284476434888: 1, 2.7740006277246376: 1, 2.773222350231037: 1, 2.7708704380548714: 1, 2.7695083027035308: 1, 2.7670896910862535: 1, 2.7667749706472673: 1, 2.7666451228534: 1, 2.7644348998515147: 1, 2.762285229930064: 1, 2.761314795296528: 1, 2.760766332031115: 1, 2.757777052412223: 1, 2.7577372683029058: 1, 2.7573477573362424: 1, 2.7571889255626605: 1, 2.7564418460646: 1, 2.7562400895274464: 1, 2.755354553998478: 1, 2.75435892197567: 1, 2.7537139848055903: 1, 2.7533588617626545: 1, 2.75299005289012: 1, 2.752306776127072: 1, 2.7517823508737616: 1, 2.7510939625120505: 1, 2.750668168921751: 1, 2.7494194119709894: 1, 2.749402618055134: 1, 2.7493604589663114: 1, 2.7488917947778893: 1, 2.748361810487375: 1, 2.7481670325893695: 1, 2.7477378152776257: 1, 2.7473115899978064: 1, 2.745943852320312: 1, 2.7437413500753216: 1, 2.7426880436184895: 1, 2.74263361704327: 1, 2.7419296036665513: 1, 2.741868451991675: 1, 2.741321818363938: 1, 2.7397268709133162: 1, 2.739187597556525: 1, 2.7372798093683377: 1, 2.7353117886385236: 1, 2.734831031616044: 1, 2.7336280463018485: 1, 2.733378087551392: 1, 2.7331864835403232: 1, 2.732829778272198: 1, 2.7324621957546995: 1, 2.731227495853358: 1, 2.7285026522365343: 1, 2.7283542125030733: 1, 2.7283492405941097: 1, 2.7267322774217466: 1, 2.7266813814264794: 1, 2.723128570651492: 1, 2.7228938002997563: 1, 2.7221641244823163: 1, 2.7205393683983674: 1, 2.7195498547991233: 1, 2.7192704311413762: 1, 2.718466667056666: 1, 2.7160898687072637: 1, 2.7156941328077666: 1, 2.715172877988029: 1, 2.713442727724535: 1, 2.713131360881057: 1, 2.7115168637743916: 1, 2.711245950158274: 1, 2.7105402614866216: 1, 2.710003208285548: 1, 2.7098572225132873: 1, 2.7093139533618973: 1, 2.709257175883083: 1, 2.709038615273812: 1, 2.7087101149426407: 1, 2.7081251075083443: 1, 2.708052471105895: 1, 2.7079881782101314: 1, 2.707528027910451: 1, 2.7058889571542393: 1, 2.7058213156703133: 1, 2.705442426322446: 1, 2.7042550027456778: 1, 2.702900311747029: 1, 2.701123541879947: 1, 2.697949016001716: 1, 2.697117312982083: 1, 2.696831651575392: 1, 2.695712087944649: 1, 2.694938112513325: 1, 2.6944191710341174: 1, 2.6943730578311054: 1, 2.693844156057515: 1, 2.692670953077831: 1, 2.692292384329743: 1, 2.6912028838901967: 1, 2.6889509600471597: 1, 2.6872307899423804: 1, 2.6871647103640632: 1, 2.686478741734197: 1, 2.6864336099728976: 1, 2.6855824748266897: 1, 2.685418744165573: 1, 2.685353110368407: 1, 2.6851547658217414: 1, 2.684172872958586: 1, 2.6841499750490794: 1, 2.6836505046979324: 1, 2.6821799068234533: 1, 2.681550894347073: 1, 2.6809684050565394: 1, 2.6807173529675024: 1, 2.6804188801386712: 1, 2.679724060275958: 1, 2.6782481588604883: 1, 2.6766327522382394: 1, 2.675661407635944: 1, 2.6748639504446974: 1, 2.673881479733749: 1, 2.6738562646085797: 1, 2.670728252534277: 1, 2.669903325800153: 1, 2.668819330454763: 1, 2.6669495348857746: 1, 2.6667932801317127: 1, 2.665466038486397: 1, 2.6650894098635143: 1, 2.664736284952718: 1, 2.664522432327341: 1, 2.664096675931485: 1, 2.6621561224139767: 1, 2.661754936045809: 1, 2.660904164404791: 1, 2.660594845125016: 1, 2.660201827903901: 1, 2.659997941018677: 1, 2.658867962917051: 1, 2.6583562025869094: 1, 2.6578028944103718: 1, 2.6569397946578244: 1, 2.656266311939149: 1, 2.6558291170056005: 1, 2.6557079965130534: 1, 2.655326553069728: 1, 2.653678698707945: 1, 2.6515077872144275: 1, 2.651193763200068: 1, 2.6492484163985783: 1, 2.6491856596167986: 1, 2.648572371995205: 1, 2.644645850433106: 1, 2.6438342438015012: 1, 2.641895904865092: 1, 2.641307888499643: 1, 2.640816447229716: 1, 2.6402019876305793: 1, 2.639692374859048: 1, 2.6395922364170743: 1, 2.6388780772977483: 1, 2.6381734538071844: 1, 2.636266535745625: 1, 2.6360093026948834: 1, 2.635238174107666: 1, 2.6345390872357095: 1, 2.6343840483935175: 1, 2.6342574594651356: 1, 2.63414359284832: 1, 2.632802084686873: 1, 2.63256993789172: 1, 2.6323890650243587: 1, 2.6308806928580024: 1, 2.6287977004718184: 1, 2.6287125192236127: 1, 2.6286363705279654: 1, 2.628342548067922: 1, 2.6278364049569793: 1, 2.626957842791759: 1, 2.6264554632152537: 1, 2.625976263990413: 1, 2.6253583800121127: 1, 2.624233473430862: 1, 2.624166226628073: 1, 2.624153475738001: 1, 2.6237538039473742: 1, 2.6229639260403705: 1, 2.6225063057314575: 1, 2.621582103517257: 1, 2.6200723933163137: 1, 2.6197998111076717: 1, 2.6186146634159093: 1, 2.618611417974866: 1, 2.6162850773223796: 1, 2.6160813929354894: 1, 2.6159195025650583: 1, 2.6157927219413124: 1, 2.615537590601987: 1, 2.6125275738455795: 1, 2.612094147308618: 1, 2.611806523282723: 1, 2.61127071359203: 1, 2.611161174255197: 1, 2.610719168480483: 1, 2.6098388774407923: 1, 2.6090895787353063: 1, 2.6081990697678314: 1, 2.608134026725368: 1, 2.6080587701757416: 1, 2.607564423940452: 1, 2.606575077279278: 1, 2.605807436407365: 1, 2.6055819728667933: 1, 2.6050092260547886: 1, 2.604973823195349: 1, 2.604400114932418: 1, 2.604234810118859: 1, 2.6035817129924257: 1, 2.6024379274841607: 1, 2.601497635322583: 1, 2.599612777580495: 1, 2.5995948991769144: 1, 2.598581732818658: 1, 2.5981367365802557: 1, 2.5979945756117147: 1, 2.597227401100959: 1, 2.5970520757090716: 1, 2.5958764210306535: 1, 2.594443948401512: 1, 2.5944137478178617: 1, 2.5942915490833824: 1, 2.5940109819023407: 1, 2.592896649300394: 1, 2.5923226919193403: 1, 2.5902886299150976: 1, 2.5900420215645426: 1, 2.589959401598225: 1, 2.58978987293951: 1, 2.5894075689850284: 1, 2.5875750622615725: 1, 2.585860024915372: 1, 2.5828814493800065: 1, 2.581893992865344: 1, 2.581457650037427: 1, 2.5808240791150032: 1, 2.580771861341542: 1, 2.579933732029074: 1, 2.5787692284653483: 1, 2.5779851812317407: 1, 2.5777799811323487: 1, 2.5763091884083087: 1, 2.574639068355175: 1, 2.5737903971736342: 1, 2.5736558870206907: 1, 2.573633719640512: 1, 2.5736292638461005: 1, 2.573339415442448: 1, 2.5712789492749906: 1, 2.570776218289498: 1, 2.57020978314535: 1, 2.568615200698624: 1, 2.5680706508064977: 1, 2.5671902410777476: 1, 2.56687103752196: 1, 2.5653850426345666: 1, 2.5646109226242118: 1, 2.5638270444808957: 1, 2.561498122519341: 1, 2.5603191486192185: 1, 2.5589752050496735: 1, 2.5580943703946195: 1, 2.5573492331260645: 1, 2.5570424126383298: 1, 2.55696129555301: 1, 2.5568842172299084: 1, 2.556188989977149: 1, 2.554981689082114: 1, 2.554821912396037: 1, 2.5544982841212005: 1, 2.5533573625086032: 1, 2.553191159393782: 1, 2.5515894627109184: 1, 2.5515725893200307: 1, 2.551543258576806: 1, 2.5513256813282803: 1, 2.5509532406702284: 1, 2.5509099855304727: 1, 2.550724493068118: 1, 2.5499928171172703: 1, 2.5496710311008313: 1, 2.5491067970296806: 1, 2.548209071787518: 1, 2.5473859269620944: 1, 2.5467740853997367: 1, 2.5462569798912806: 1, 2.5458337716180224: 1, 2.54518597492062: 1, 2.5439619583705944: 1, 2.5436354477901078: 1, 2.542370684836648: 1, 2.5422952957610003: 1, 2.542053632714983: 1, 2.540578641920564: 1, 2.540355453261349: 1, 2.5400770953131273: 1, 2.5398026069427875: 1, 2.538561743183619: 1, 2.5385298243886654: 1, 2.538310595440862: 1, 2.536991786873948: 1, 2.5368478074542695: 1, 2.5366773059727867: 1, 2.535308814798006: 1, 2.5344382514442874: 1, 2.5341610419875926: 1, 2.534025813752371: 1, 2.532306042455993: 1, 2.532243040222429: 1, 2.532072820999499: 1, 2.5315674171960993: 1, 2.5312454634128017: 1, 2.53071563208256: 1, 2.530568776342137: 1, 2.52952051852698: 1, 2.5287775768384195: 1, 2.5285616180618087: 1, 2.5281481735343836: 1, 2.527778162470065: 1, 2.5272390859295877: 1, 2.5272310323875775: 1, 2.5254817318703955: 1, 2.5249057344916324: 1, 2.5247741636473804: 1, 2.5235949847873163: 1, 2.523421617447898: 1, 2.5227048952153512: 1, 2.5187871395676167: 1, 2.5182709942892703: 1, 2.5182639135881497: 1, 2.518161873210649: 1, 2.5181109046380796: 1, 2.51760532991668: 1, 2.5174668074888977: 1, 2.5159503002399446: 1, 2.5153449266196444: 1, 2.5148666985075097: 1, 2.5120062534187775: 1, 2.5100609079952787: 1, 2.5091929654660485: 1, 2.5091207195870173: 1, 2.5078153481050047: 1, 2.5067787090423503: 1, 2.5040253085253927: 1, 2.5026512358729964: 1, 2.5017826297876558: 1, 2.5013464156636838: 1, 2.5012739904736137: 1, 2.4996366806319688: 1, 2.498573783625401: 1, 2.4981168788478527: 1, 2.497482848684299: 1, 2.4963924769390884: 1, 2.4951907130791375: 1, 2.494192898239795: 1, 2.493929501517803: 1, 2.4934532857073304: 1, 2.492115840431001: 1, 2.491385527448629: 1, 2.4910036069759363: 1, 2.4879508117448603: 1, 2.4877306455571904: 1, 2.486603512210722: 1, 2.4860723675543253: 1, 2.4856818181084077: 1, 2.4854514535396453: 1, 2.485107347911179: 1, 2.4846674052152786: 1, 2.4841654367376953: 1, 2.484028173024518: 1, 2.4837669222216725: 1, 2.4820734848866444: 1, 2.4817460937931437: 1, 2.4813677874334283: 1, 2.4807125063967037: 1, 2.479656474382969: 1, 2.4790669735092665: 1, 2.4790291185286333: 1, 2.478547543863696: 1, 2.4778436032117934: 1, 2.477372681570784: 1, 2.477095863630403: 1, 2.474202259793629: 1, 2.4740695793568253: 1, 2.4730291525045627: 1, 2.4719179508864326: 1, 2.471705516638985: 1, 2.4713724835514808: 1, 2.4700326550082337: 1, 2.469866537815465: 1, 2.4688032716133934: 1, 2.4681152320879045: 1, 2.467828304129666: 1, 2.466556362442602: 1, 2.465597863242221: 1, 2.4646648304214605: 1, 2.4642412333056907: 1, 2.4634726901993975: 1, 2.463156133492985: 1, 2.462034467560836: 1, 2.4619809668731145: 1, 2.4610777073073646: 1, 2.4603181408506356: 1, 2.4595649862571576: 1, 2.4595044769958077: 1, 2.458931110722595: 1, 2.458861858573267: 1, 2.4585013491821597: 1, 2.4574424742064807: 1, 2.457239766972033: 1, 2.456425817320109: 1, 2.4556177010028337: 1, 2.455410489062298: 1, 2.455327816608895: 1, 2.4550638348918343: 1, 2.4546074840601864: 1, 2.4543496489949352: 1, 2.453821183614597: 1, 2.4528700099034078: 1, 2.45282542843108: 1, 2.452598487598906: 1, 2.4518444100419448: 1, 2.4501219991148906: 1, 2.4495838715080587: 1, 2.448530542728624: 1, 2.4483267657434276: 1, 2.4479004984888264: 1, 2.447807080762982: 1, 2.4473437425986657: 1, 2.4469223943887366: 1, 2.4467664895938355: 1, 2.4463745052452324: 1, 2.444354191804613: 1, 2.443667962967522: 1, 2.4435487651156294: 1, 2.4393844863737986: 1, 2.438237301144612: 1, 2.4361236274502587: 1, 2.4359702628510123: 1, 2.435880538434759: 1, 2.4351229829597036: 1, 2.4347464859232573: 1, 2.433938082980865: 1, 2.4339004010342276: 1, 2.432965061582968: 1, 2.432052703876178: 1, 2.4319891433391896: 1, 2.4318708580393693: 1, 2.431525696484937: 1, 2.4312041847005528: 1, 2.428002391665691: 1, 2.4278277228281313: 1, 2.4270439445671657: 1, 2.426946730330669: 1, 2.425306059528627: 1, 2.425181218427988: 1, 2.4245284446797473: 1, 2.4240012937554396: 1, 2.4238726443898853: 1, 2.4237265519817077: 1, 2.4224183903937666: 1, 2.4205734102600847: 1, 2.419985116869067: 1, 2.419558615625186: 1, 2.4190348979647984: 1, 2.41845595401406: 1, 2.4170057514998917: 1, 2.415306580643326: 1, 2.4148314092325847: 1, 2.4137849220169363: 1, 2.4122232245765862: 1, 2.412219968237778: 1, 2.4112154074868: 1, 2.4109112052543558: 1, 2.409734742966008: 1, 2.408379241260323: 1, 2.4061625072476924: 1, 2.4051773811632415: 1, 2.4037838098023743: 1, 2.403708335381586: 1, 2.4029288161368183: 1, 2.402463573074543: 1, 2.4022375383964896: 1, 2.401209788558479: 1, 2.40051304980376: 1, 2.400411021675668: 1, 2.400025526401536: 1, 2.3993531256752325: 1, 2.399350662043271: 1, 2.3991915039186886: 1, 2.398882097755527: 1, 2.3981979446230643: 1, 2.3981587171884042: 1, 2.3972426126609507: 1, 2.395432190042385: 1, 2.3953232490171956: 1, 2.3946746240109125: 1, 2.3935716768708715: 1, 2.391009776198772: 1, 2.390756295058661: 1, 2.390723019358717: 1, 2.390665671758318: 1, 2.39010355671838: 1, 2.389971232955163: 1, 2.3897848221647986: 1, 2.388912010954408: 1, 2.3876141568506934: 1, 2.387107316110076: 1, 2.3866055280008025: 1, 2.3861000734557605: 1, 2.385587642285258: 1, 2.385344987568848: 1, 2.384813122854562: 1, 2.384793572945966: 1, 2.3843974933190486: 1, 2.384387757796979: 1, 2.384060579839972: 1, 2.3837463183774106: 1, 2.382740654467608: 1, 2.3812758196244093: 1, 2.3811731123437982: 1, 2.3806958860905922: 1, 2.3791412742907947: 1, 2.378760286435474: 1, 2.378663487744638: 1, 2.3786400947135284: 1, 2.3782704418259186: 1, 2.378193796301055: 1, 2.378161276110606: 1, 2.374654575181301: 1, 2.3740831443102737: 1, 2.3736299500706153: 1, 2.3726228923240265: 1, 2.3719565652518115: 1, 2.3711266187289297: 1, 2.3707640949179196: 1, 2.370147295289837: 1, 2.3699384387076945: 1, 2.369039240799714: 1, 2.368466769797148: 1, 2.368450416513895: 1, 2.367829629210319: 1, 2.366937044150248: 1, 2.366533549000368: 1, 2.3640749758076107: 1, 2.3618703371436975: 1, 2.361011428905778: 1, 2.360219055331011: 1, 2.3596796203263657: 1, 2.359087920718401: 1, 2.3589720677813797: 1, 2.3589664128530394: 1, 2.3582656522020713: 1, 2.3562461557648353: 1, 2.355122683334168: 1, 2.3547419272824723: 1, 2.3543191501270098: 1, 2.3525488498223637: 1, 2.3502781951824234: 1, 2.349633055265494: 1, 2.34840821741638: 1, 2.3478644310618666: 1, 2.3459351666867936: 1, 2.3458299655928347: 1, 2.3451098696714348: 1, 2.344401909369488: 1, 2.344030215733793: 1, 2.343828874639253: 1, 2.3413752915025783: 1, 2.3396745860540333: 1, 2.339066409887627: 1, 2.338003487008853: 1, 2.3376632774401895: 1, 2.3375252667659874: 1, 2.337406767767277: 1, 2.3355366550702055: 1, 2.334670633298439: 1, 2.3344666664770557: 1, 2.334218661409553: 1, 2.333885950618616: 1, 2.3330450106696072: 1, 2.330836436772449: 1, 2.330083786860596: 1, 2.3298353916101613: 1, 2.3287917714350352: 1, 2.328719368713245: 1, 2.3279666080126296: 1, 2.327683404438036: 1, 2.3270953985953917: 1, 2.3267979194930315: 1, 2.326305418515801: 1, 2.3253037175886786: 1, 2.3231942112720767: 1, 2.3231805324136565: 1, 2.3231081590917895: 1, 2.3218934165983995: 1, 2.321815932819855: 1, 2.3210568319516134: 1, 2.3209468526247248: 1, 2.3204665689779707: 1, 2.3200631447755047: 1, 2.319698707093914: 1, 2.3194998103072764: 1, 2.3191923437840356: 1, 2.318699983745825: 1, 2.3177060434181747: 1, 2.317223415017076: 1, 2.3165284884074797: 1, 2.3137334982459032: 1, 2.3123300877602384: 1, 2.31159668552181: 1, 2.3115884652110488: 1, 2.3097431164510946: 1, 2.309713175935656: 1, 2.3092585213858356: 1, 2.3086520068074083: 1, 2.3073669642975982: 1, 2.30661788032794: 1, 2.3064071567280164: 1, 2.3061001734122937: 1, 2.3051666524307377: 1, 2.3048890683019017: 1, 2.304519280218773: 1, 2.3036275999792686: 1, 2.3027990617712453: 1, 2.3023968489798188: 1, 2.3022021986011967: 1, 2.301513561624339: 1, 2.3009365356420215: 1, 2.300096525649792: 1, 2.2996490788739106: 1, 2.2986438636221798: 1, 2.298627113644641: 1, 2.297472274080194: 1, 2.2974262617699956: 1, 2.2971139872377253: 1, 2.2965184983407925: 1, 2.295797313807786: 1, 2.2951096064228342: 1, 2.294806620152897: 1, 2.2947508142613735: 1, 2.2934097884276463: 1, 2.291513743739934: 1, 2.29148601196612: 1, 2.291264282795461: 1, 2.291037937894082: 1, 2.290507200663037: 1, 2.2904500557264855: 1, 2.2901945010019724: 1, 2.2895181907537263: 1, 2.2894341205051365: 1, 2.2885863446907884: 1, 2.2885167456045985: 1, 2.288086045897404: 1, 2.2868524921862257: 1, 2.286685769954203: 1, 2.284958165176273: 1, 2.2843150363425124: 1, 2.282436436392186: 1, 2.2810360834276393: 1, 2.2809476552829375: 1, 2.279295983573958: 1, 2.2786629129688127: 1, 2.2785113825430567: 1, 2.278261370746184: 1, 2.277788643862887: 1, 2.2773441891835238: 1, 2.273607382374494: 1, 2.2733614644463773: 1, 2.2731293361494167: 1, 2.2723191594446983: 1, 2.2721621145811888: 1, 2.27172812265182: 1, 2.2714840137207686: 1, 2.270975633541009: 1, 2.2707368176670792: 1, 2.270662301068536: 1, 2.270423118386367: 1, 2.270399205308651: 1, 2.270269011347146: 1, 2.270073259714452: 1, 2.270060127950319: 1, 2.269554102111478: 1, 2.269319232124116: 1, 2.2691415938691195: 1, 2.268945441091598: 1, 2.268872206005167: 1, 2.2686186018937184: 1, 2.268187744100226: 1, 2.2672112722733884: 1, 2.2656483464925956: 1, 2.264917579323496: 1, 2.2647335747760557: 1, 2.2646352041247: 1, 2.264080763885743: 1, 2.2632153325261304: 1, 2.2614537710816403: 1, 2.260394327501679: 1, 2.259334107620844: 1, 2.2588560432269986: 1, 2.257069726498769: 1, 2.2564401514917094: 1, 2.2545749034009206: 1, 2.2538360059581826: 1, 2.251605740381789: 1, 2.2512700603266143: 1, 2.249728465697331: 1, 2.2491514617784225: 1, 2.248620386967149: 1, 2.248391801535661: 1, 2.248284844691343: 1, 2.2465675517308568: 1, 2.245729174745665: 1, 2.2456929695702246: 1, 2.244203302964604: 1, 2.2439468730834466: 1, 2.2398780331249233: 1, 2.2384601654863356: 1, 2.238086367142818: 1, 2.2374581248300416: 1, 2.2364006401875325: 1, 2.2363123409817516: 1, 2.2336315422508175: 1, 2.233432320575216: 1, 2.233137813934857: 1, 2.23292468680782: 1, 2.2316627133915676: 1, 2.2314115788255813: 1, 2.230275783469337: 1, 2.2300047330423474: 1, 2.229527019383608: 1, 2.2290880640902557: 1, 2.2281843295968953: 1, 2.2281094502983105: 1, 2.227733324558805: 1, 2.2276082397497055: 1, 2.2274390551831416: 1, 2.227434398650733: 1, 2.227121645402528: 1, 2.2265823783812366: 1, 2.2257880282721185: 1, 2.225454726931417: 1, 2.2244108273945624: 1, 2.2236295027039255: 1, 2.2229923390181194: 1, 2.2212919634995387: 1, 2.2212460122187423: 1, 2.220808569011676: 1, 2.220539777462795: 1, 2.220238188684204: 1, 2.219888307869932: 1, 2.21731825574699: 1, 2.217239706070913: 1, 2.217227287308611: 1, 2.2167989745341523: 1, 2.2163297647963245: 1, 2.2151967104321817: 1, 2.2146793302684227: 1, 2.2145698227841346: 1, 2.214527964927309: 1, 2.2129702594617315: 1, 2.212197493309486: 1, 2.2112463879807915: 1, 2.2107780285952283: 1, 2.2101670806303786: 1, 2.2087983193937584: 1, 2.2081226553466324: 1, 2.2075024951364557: 1, 2.206371777281545: 1, 2.2059772920128022: 1, 2.2058230418334817: 1, 2.2056842778831447: 1, 2.2045899468944756: 1, 2.2023493433319214: 1, 2.2012555372526186: 1, 2.2000715325770934: 1, 2.1999735707068306: 1, 2.1999292165777065: 1, 2.1984796750661126: 1, 2.1983689069043604: 1, 2.19815830120565: 1, 2.1980152912720565: 1, 2.1968053069810836: 1, 2.1966813886362053: 1, 2.1965118645119945: 1, 2.196419010433693: 1, 2.195558262372687: 1, 2.194364845545751: 1, 2.1938531187162567: 1, 2.1935944582284623: 1, 2.192577625958521: 1, 2.1915974235998115: 1, 2.1905692856606316: 1, 2.1900263567345: 1, 2.189779096194598: 1, 2.1894481512827926: 1, 2.187859242458755: 1, 2.1871723677095094: 1, 2.186617465482531: 1, 2.186361421904343: 1, 2.1859145693653423: 1, 2.184074595172871: 1, 2.1806936033602224: 1, 2.1799693125294017: 1, 2.179592240798488: 1, 2.1795677241211107: 1, 2.1792206843051147: 1, 2.178824086385996: 1, 2.1779580839165282: 1, 2.177855472671423: 1, 2.177704313657779: 1, 2.177678541619717: 1, 2.177487048260354: 1, 2.177232091835373: 1, 2.176579624976549: 1, 2.176408737270931: 1, 2.175972710835085: 1, 2.1750014003806184: 1, 2.17396192073309: 1, 2.173505486567179: 1, 2.1730287450760186: 1, 2.1727987574706953: 1, 2.1727194157319176: 1, 2.172399866287887: 1, 2.170835342114113: 1, 2.1707840869358095: 1, 2.170551552372022: 1, 2.168302619950655: 1, 2.1674227426090957: 1, 2.166247172803208: 1, 2.1662356379625116: 1, 2.1650609690536773: 1, 2.1642657841956185: 1, 2.1634397770659053: 1, 2.162356601872286: 1, 2.1620006775497833: 1, 2.161809435282433: 1, 2.1616029903130136: 1, 2.1611387520154297: 1, 2.160787895286257: 1, 2.160150495616114: 1, 2.159797226069528: 1, 2.1596708353142815: 1, 2.15869966991513: 1, 2.158606648137436: 1, 2.1585937645666187: 1, 2.1572747613094148: 1, 2.1569117854849837: 1, 2.1567818458620605: 1, 2.156392414552822: 1, 2.1559338424147163: 1, 2.1537237126242013: 1, 2.1534562918097993: 1, 2.153420049666387: 1, 2.1533526153456366: 1, 2.152990987763819: 1, 2.1523443344126547: 1, 2.1509233431358594: 1, 2.1508592387714547: 1, 2.150545803565463: 1, 2.1504612727778865: 1, 2.146416400003282: 1, 2.1455201915925035: 1, 2.1451887663847007: 1, 2.145174302127262: 1, 2.142821589484068: 1, 2.1426939244931638: 1, 2.142519100691289: 1, 2.142099860623729: 1, 2.1420815314777433: 1, 2.1420474014514377: 1, 2.1420340359625887: 1, 2.141751191628674: 1, 2.141410150465308: 1, 2.1413432699787216: 1, 2.1400297798911323: 1, 2.139758134791666: 1, 2.1394790558378065: 1, 2.1393757046142503: 1, 2.1384990129822032: 1, 2.1382517757751303: 1, 2.1380282287267374: 1, 2.1376172491048844: 1, 2.1359789949523655: 1, 2.1332757443811285: 1, 2.1330847636181813: 1, 2.1323551619911694: 1, 2.1310576378499775: 1, 2.130461566049754: 1, 2.1302715685271285: 1, 2.1299545745660313: 1, 2.1298430421727503: 1, 2.1296495605901216: 1, 2.1295724225381485: 1, 2.126030567150788: 1, 2.125798496013714: 1, 2.1248629803310055: 1, 2.124424642622233: 1, 2.124304129538898: 1, 2.124177240730625: 1, 2.124154063462475: 1, 2.12393286649996: 1, 2.123852061315162: 1, 2.123821561015372: 1, 2.1237669660234086: 1, 2.1233227582557967: 1, 2.122546572519552: 1, 2.1223466035087233: 1, 2.120817317662519: 1, 2.1207374253006672: 1, 2.120501152138369: 1, 2.1193141152592267: 1, 2.1180718143695576: 1, 2.1178250252033277: 1, 2.113828337551102: 1, 2.113227912709996: 1, 2.112630805414412: 1, 2.1119443787673022: 1, 2.1115210741114323: 1, 2.111095290468877: 1, 2.1096509254704237: 1, 2.109315260034893: 1, 2.10909365152338: 1, 2.1075527354180292: 1, 2.105223771136426: 1, 2.1046882366539914: 1, 2.104008875601522: 1, 2.103898909797114: 1, 2.103450451935798: 1, 2.1019340472370396: 1, 2.100772290998377: 1, 2.100527896427017: 1, 2.1001562296166347: 1, 2.1001278607946996: 1, 2.0998210057787188: 1, 2.0994190799783174: 1, 2.099290819665799: 1, 2.099266209033999: 1, 2.0987264392074376: 1, 2.098128113082163: 1, 2.0975156328857394: 1, 2.096861133233273: 1, 2.095729325951531: 1, 2.094861128451931: 1, 2.0941814740967595: 1, 2.094070815767532: 1, 2.093731634463755: 1, 2.093657212318611: 1, 2.09268582030815: 1, 2.091151434218797: 1, 2.0903213690769262: 1, 2.089794431109049: 1, 2.089574668413579: 1, 2.0886669553225743: 1, 2.0882697583466996: 1, 2.087645154107213: 1, 2.087324727664866: 1, 2.085987151525047: 1, 2.08587251943515: 1, 2.085184420184536: 1, 2.0844431531563: 1, 2.0838672926492925: 1, 2.0838502680904396: 1, 2.083000471339773: 1, 2.0828511895136494: 1, 2.0816035299179028: 1, 2.0805759027583015: 1, 2.079503358479247: 1, 2.079414429167361: 1, 2.0793112532365643: 1, 2.0792051698340943: 1, 2.07714528080728: 1, 2.076283874454894: 1, 2.075564670814355: 1, 2.074351302244674: 1, 2.0738207227467194: 1, 2.0738032650231384: 1, 2.0737368419307236: 1, 2.0735130616366138: 1, 2.0732660571370936: 1, 2.0728229462898553: 1, 2.072369291373236: 1, 2.072266844731257: 1, 2.0718239278277633: 1, 2.070607273476353: 1, 2.0691993139025473: 1, 2.0691101892622283: 1, 2.068511153618645: 1, 2.0682266751747576: 1, 2.068165005321578: 1, 2.068139369366478: 1, 2.067960214035449: 1, 2.0673801758742867: 1, 2.066914166393933: 1, 2.066686635855865: 1, 2.065008592031804: 1, 2.064752176937174: 1, 2.064674159811734: 1, 2.062818101508319: 1, 2.0623414050531297: 1, 2.0613438915931: 1, 2.0604940314947613: 1, 2.0601232224765273: 1, 2.058631599100029: 1, 2.057788516062801: 1, 2.0558610927577923: 1, 2.055365561174879: 1, 2.0551341017382616: 1, 2.054954321890642: 1, 2.053207650241938: 1, 2.0527486583628063: 1, 2.052570522603269: 1, 2.052448509928559: 1, 2.0518666369542036: 1, 2.0512481757081495: 1, 2.050324250779083: 1, 2.046099942601907: 1, 2.045186140579887: 1, 2.0443162189832598: 1, 2.0441330405654: 1, 2.042837092343572: 1, 2.042481112217056: 1, 2.042265511212184: 1, 2.0416241159897472: 1, 2.040788099966477: 1, 2.0397799587537797: 1, 2.039742797502125: 1, 2.039287536704216: 1, 2.0385607908632575: 1, 2.0379484685250393: 1, 2.0358620084704158: 1, 2.035725351144632: 1, 2.035666861652412: 1, 2.035204737172876: 1, 2.0341710105180337: 1, 2.032930628021865: 1, 2.0324028949730266: 1, 2.031613303700313: 1, 2.0297107548851856: 1, 2.0291814635947305: 1, 2.028576798030144: 1, 2.0280324123021343: 1, 2.026768716280979: 1, 2.0263248244778014: 1, 2.0243931269740068: 1, 2.0243697993898127: 1, 2.0243254277341443: 1, 2.0238268397900643: 1, 2.0215917688741945: 1, 2.0215526362627614: 1, 2.021296089932386: 1, 2.0209097544887786: 1, 2.020334254288949: 1, 2.019056011659158: 1, 2.0189010129077682: 1, 2.0184029461926487: 1, 2.0181424555467773: 1, 2.017992297508509: 1, 2.0173423775876285: 1, 2.0171713749926985: 1, 2.0171312240509214: 1, 2.016357259181706: 1, 2.016261321863575: 1, 2.016113193383179: 1, 2.014615281695242: 1, 2.0129820541948984: 1, 2.012635868329432: 1, 2.0116999698172098: 1, 2.0109620271921607: 1, 2.0105931422449266: 1, 2.0104341022576047: 1, 2.0098681869410426: 1, 2.009733370755708: 1, 2.009668647088463: 1, 2.0095069575884237: 1, 2.0091860319079426: 1, 2.0090431821551165: 1, 2.008482212555442: 1, 2.008385072051979: 1, 2.0081233693123006: 1, 2.007664664045228: 1, 2.0075793635935115: 1, 2.003648251622592: 1, 2.003205880457499: 1, 2.0027188480985862: 1, 2.0019578917828733: 1, 2.0019072816549977: 1, 2.001659695129752: 1, 2.00139454262275: 1, 2.000654751980648: 1, 1.9974705629522949: 1, 1.9974006569198166: 1, 1.995651122161563: 1, 1.9955188721725612: 1, 1.9954477516930977: 1, 1.9954088952828206: 1, 1.9948949040394381: 1, 1.9945829288978776: 1, 1.9940854461223565: 1, 1.9937235480055078: 1, 1.9911014606215298: 1, 1.9910411852373826: 1, 1.990546790529339: 1, 1.9882142657277702: 1, 1.9881488888280205: 1, 1.9878669697129168: 1, 1.9874019646405214: 1, 1.9862281730914346: 1, 1.9860714864565552: 1, 1.9857220258095807: 1, 1.9854395584365232: 1, 1.9846205843594984: 1, 1.9837661814090937: 1, 1.9833043597298434: 1, 1.9819979552024394: 1, 1.9814109491810052: 1, 1.9812221189361108: 1, 1.981131517693105: 1, 1.9805926367224485: 1, 1.9795033729043623: 1, 1.9789502764151667: 1, 1.9788097307972854: 1, 1.9785652203831594: 1, 1.9782165974074937: 1, 1.977779849149924: 1, 1.9777162586180572: 1, 1.9774529539261336: 1, 1.9772681362646016: 1, 1.9771644598922047: 1, 1.976837731441409: 1, 1.9765010703091361: 1, 1.9758053434608764: 1, 1.9756601083209144: 1, 1.9753499867459325: 1, 1.9747731378545812: 1, 1.9741867477076847: 1, 1.9730174832821223: 1, 1.9718568166336456: 1, 1.9715747510587627: 1, 1.9707265956436568: 1, 1.9698791835559235: 1, 1.9696560296368752: 1, 1.9690800754154554: 1, 1.9677603137113888: 1, 1.9676490676365048: 1, 1.967400075938402: 1, 1.9673715352927914: 1, 1.9667489673130416: 1, 1.966522731589838: 1, 1.966275487522969: 1, 1.9661127741978253: 1, 1.9660225541684582: 1, 1.9658330138452669: 1, 1.965562381698936: 1, 1.9635014779670605: 1, 1.963419543781442: 1, 1.9633989588413798: 1, 1.962995751167683: 1, 1.9606271258049535: 1, 1.9602187581429324: 1, 1.9595697184000367: 1, 1.9592052817043695: 1, 1.9577790817984306: 1, 1.9575553963150207: 1, 1.9566109052277707: 1, 1.9553431526709364: 1, 1.9546469772854105: 1, 1.9536927169271199: 1, 1.9536445713980057: 1, 1.9533679243294726: 1, 1.953353157968131: 1, 1.9532982368843317: 1, 1.9529848676649932: 1, 1.9527190278955293: 1, 1.9514825213436273: 1, 1.9513485597418538: 1, 1.9511162160211173: 1, 1.950374340990568: 1, 1.9495798087720189: 1, 1.9493750204625258: 1, 1.949160796730883: 1, 1.948631181934915: 1, 1.948091451066161: 1, 1.9480296676405753: 1, 1.9476277987725403: 1, 1.9475591741367533: 1, 1.9470413670643059: 1, 1.9458697744340312: 1, 1.9458407346822495: 1, 1.9458354886879654: 1, 1.9434576586675014: 1, 1.942900780334734: 1, 1.9419770139495003: 1, 1.9402745137953366: 1, 1.9401480252776873: 1, 1.9396278759940346: 1, 1.9391668423746145: 1, 1.9387351227630956: 1, 1.9374940301208226: 1, 1.9374556392740754: 1, 1.9371854429836222: 1, 1.9363953883270755: 1, 1.93635587950422: 1, 1.9362687229810072: 1, 1.9355410679790608: 1, 1.9353824854065114: 1, 1.935087517972055: 1, 1.934549657623497: 1, 1.9341016167544696: 1, 1.9338304895960488: 1, 1.9332382904597782: 1, 1.9324007452402874: 1, 1.9321377018819086: 1, 1.9311970037180035: 1, 1.9310309161305297: 1, 1.9305435191319413: 1, 1.9303248666953199: 1, 1.9302925276853642: 1, 1.9301471702953092: 1, 1.930126557768923: 1, 1.9289139998531148: 1, 1.9284453849319958: 1, 1.9276911388529945: 1, 1.9269586640493959: 1, 1.9262443605686754: 1, 1.925939558518574: 1, 1.924897949709802: 1, 1.9246491642490513: 1, 1.9244459734355734: 1, 1.9242176607116024: 1, 1.9239279348091634: 1, 1.9238797500836615: 1, 1.9226557797629371: 1, 1.9207785636862766: 1, 1.92041883336874: 1, 1.9184264338321069: 1, 1.9183166140405565: 1, 1.9167517567092693: 1, 1.9163277137356383: 1, 1.9160017222036951: 1, 1.9156683282772242: 1, 1.9149047172413358: 1, 1.9147155755823584: 1, 1.9140506774068915: 1, 1.9131378839168545: 1, 1.9129835998214029: 1, 1.9129759829274595: 1, 1.9129387230381847: 1, 1.9127782109264313: 1, 1.9120086572385813: 1, 1.9112938026650228: 1, 1.9111616108654501: 1, 1.9111054872465856: 1, 1.9110792841846567: 1, 1.910914370131136: 1, 1.909779608948039: 1, 1.9095670797500242: 1, 1.9090627754810356: 1, 1.9086860818226652: 1, 1.9085331307200861: 1, 1.9082119959017043: 1, 1.9069913611653906: 1, 1.906855127986281: 1, 1.9066613773333467: 1, 1.9065894440828404: 1, 1.9064745039368698: 1, 1.9055475181079375: 1, 1.904915888967242: 1, 1.9047219007853806: 1, 1.9045769036581275: 1, 1.9045669298207957: 1, 1.9042558126944247: 1, 1.9042044033458392: 1, 1.903949532868699: 1, 1.9035500666551766: 1, 1.903202923323564: 1, 1.9030489183120476: 1, 1.90265154011699: 1, 1.9025560614685189: 1, 1.9024149578546274: 1, 1.9006543834251486: 1, 1.9001995902509317: 1, 1.9000579768261092: 1, 1.8995986027471174: 1, 1.899062650455827: 1, 1.898559893010744: 1, 1.896516597449156: 1, 1.896128775574645: 1, 1.8960743846822388: 1, 1.895178875935535: 1, 1.8949115099002583: 1, 1.894456696124902: 1, 1.8936973467029934: 1, 1.8932976470370189: 1, 1.8929816646348996: 1, 1.8928081689928498: 1, 1.8911134220015338: 1, 1.8910482372560085: 1, 1.8904727818891403: 1, 1.8898678394824202: 1, 1.8897960628651556: 1, 1.8897068623729218: 1, 1.8892341468973046: 1, 1.888972228255542: 1, 1.8882016384967264: 1, 1.886310758716988: 1, 1.8853345720413284: 1, 1.8840776832120978: 1, 1.8838290035072762: 1, 1.882870334462994: 1, 1.8825456740476374: 1, 1.8813032537361938: 1, 1.8812761532277527: 1, 1.8790462635031049: 1, 1.878266251158123: 1, 1.876786985774128: 1, 1.8765193962704434: 1, 1.875926354521294: 1, 1.8735165045934865: 1, 1.8722765749323456: 1, 1.87223649559106: 1, 1.8700678681051264: 1, 1.869674296661766: 1, 1.8694354967403093: 1, 1.8687061160313432: 1, 1.8670068617622337: 1, 1.8667034371237343: 1, 1.8659813172644928: 1, 1.8640743932299844: 1, 1.8639783296964858: 1, 1.8607995246972777: 1, 1.8602844320423522: 1, 1.8599696656629097: 1, 1.8596492984267143: 1, 1.8595761291997055: 1, 1.858646490966293: 1, 1.8578402968601886: 1, 1.8575884593259124: 1, 1.8570428242577979: 1, 1.8559191015772616: 1, 1.855786812064503: 1, 1.8553544846991548: 1, 1.8551920274028444: 1, 1.8543656379560889: 1, 1.8541671598820166: 1, 1.8541096868533071: 1, 1.8522560361133005: 1, 1.8503215397958637: 1, 1.8503069086781236: 1, 1.8500514400733938: 1, 1.8496296471468825: 1, 1.8491069031027358: 1, 1.8488293548079928: 1, 1.8486999489599867: 1, 1.848640234195689: 1, 1.848229394895855: 1, 1.8479273761683042: 1, 1.8478409065567158: 1, 1.8471172290217854: 1, 1.8470081397238642: 1, 1.846639488684759: 1, 1.8464517983536788: 1, 1.8461141805524592: 1, 1.8456198812557814: 1, 1.845439243122527: 1, 1.8445188382701332: 1, 1.8443668429306694: 1, 1.8429288130437376: 1, 1.8414882672105173: 1, 1.8410032754235044: 1, 1.8394992347759331: 1, 1.8380138767963827: 1, 1.8368686954822755: 1, 1.83504521638492: 1, 1.8342866194955127: 1, 1.833701421913355: 1, 1.8334021738483655: 1, 1.833362743677758: 1, 1.8332096394561204: 1, 1.8330168223770595: 1, 1.832524505273074: 1, 1.8324569018278523: 1, 1.8302070601982856: 1, 1.8299668869422105: 1, 1.8291971754975853: 1, 1.827980559974875: 1, 1.827832336666853: 1, 1.8271584064665982: 1, 1.8266903536015588: 1, 1.8259567637940817: 1, 1.8245153187506056: 1, 1.8242040986917436: 1, 1.8238032318821167: 1, 1.8236589909240015: 1, 1.8235605723397235: 1, 1.8220315467862358: 1, 1.8219999397101527: 1, 1.8213918140576764: 1, 1.8213063987172615: 1, 1.820512233533399: 1, 1.8201366405905786: 1, 1.8196898927429226: 1, 1.8196438302840583: 1, 1.8185732272335433: 1, 1.8184116356419726: 1, 1.815716742484419: 1, 1.815379503565449: 1, 1.8151209617120183: 1, 1.814963309294745: 1, 1.8144905292056956: 1, 1.8134595235633708: 1, 1.8116333069923851: 1, 1.8112439364913022: 1, 1.8096858965078881: 1, 1.8095870102780567: 1, 1.8090578538341324: 1, 1.808883889356187: 1, 1.8085750800064055: 1, 1.8068483741802164: 1, 1.8067787485141258: 1, 1.806688568427734: 1, 1.8066352983696357: 1, 1.8044654917455039: 1, 1.8043087853148931: 1, 1.8031778720470506: 1, 1.8026237724734164: 1, 1.8021426470262591: 1, 1.801402529689477: 1, 1.7998022335916433: 1, 1.7992547635199867: 1, 1.7984393875607831: 1, 1.7984021250984359: 1, 1.7969046947782819: 1, 1.795747950835581: 1, 1.7955784717662253: 1, 1.794514509520961: 1, 1.7944158395149656: 1, 1.7920949572918483: 1, 1.7916107984265341: 1, 1.7910826691870432: 1, 1.790536308697477: 1, 1.789242203240214: 1, 1.7849084288990338: 1, 1.7846360569772395: 1, 1.7843718517961338: 1, 1.7841909379111442: 1, 1.78387559399691: 1, 1.7827080942314115: 1, 1.7812603206938404: 1, 1.7812599954985182: 1, 1.7809941449510798: 1, 1.7797668213752615: 1, 1.7788761956911678: 1, 1.7779229094052549: 1, 1.7750093524753179: 1, 1.774169140762985: 1, 1.7741600415001477: 1, 1.7726903515532737: 1, 1.772513861352624: 1, 1.7724348500086096: 1, 1.7723502673902172: 1, 1.7697704680293849: 1, 1.767898562549632: 1, 1.7677828696066062: 1, 1.7672040566496414: 1, 1.7669969946449267: 1, 1.765728559428339: 1, 1.7639924707663994: 1, 1.7635727684006053: 1, 1.7631077097214574: 1, 1.7627489332930524: 1, 1.7626953003146077: 1, 1.762258765310053: 1, 1.7621123443468556: 1, 1.7610284348542848: 1, 1.7609923466455812: 1, 1.7606309023060207: 1, 1.7597845775039616: 1, 1.7593977528676814: 1, 1.758896914262995: 1, 1.7581057711596801: 1, 1.7580146382014246: 1, 1.7572016292967485: 1, 1.7564646459821682: 1, 1.7562663027559609: 1, 1.755956428848628: 1, 1.7550165064174807: 1, 1.7538403069318138: 1, 1.753289011022194: 1, 1.7532841822196283: 1, 1.752410076920581: 1, 1.7518961451670956: 1, 1.7515645941252713: 1, 1.7515517988372984: 1, 1.7510233194097662: 1, 1.7496566823306405: 1, 1.7490906171372091: 1, 1.74828915657977: 1, 1.7481285215483986: 1, 1.7479125739579886: 1, 1.7453282205162088: 1, 1.7431618544006624: 1, 1.7423851286802547: 1, 1.7390885434139316: 1, 1.7382118971742258: 1, 1.7376395658882398: 1, 1.7374167585773186: 1, 1.7373636282670724: 1, 1.7369543819176476: 1, 1.7343202470114103: 1, 1.7334782767899388: 1, 1.7332416313159016: 1, 1.7329241534582924: 1, 1.7322452643330328: 1, 1.732020867583433: 1, 1.7312104743811731: 1, 1.730938621090563: 1, 1.7309031803628887: 1, 1.7283852971331375: 1, 1.728340575936705: 1, 1.7281220881811394: 1, 1.7280830887821856: 1, 1.7268936792173997: 1, 1.7267293391313503: 1, 1.7260872979507105: 1, 1.7255407604082271: 1, 1.7251490479687304: 1, 1.7250555000229755: 1, 1.7249018072525455: 1, 1.7236747272353308: 1, 1.722619173325089: 1, 1.7207394952640793: 1, 1.7204795758070168: 1, 1.719477273090106: 1, 1.718401944868668: 1, 1.717637969586121: 1, 1.7170932582260188: 1, 1.7168931447316418: 1, 1.7163170961579854: 1, 1.7160902414197858: 1, 1.716073442819699: 1, 1.7158007469242702: 1, 1.715506440776425: 1, 1.7144885656486388: 1, 1.7138508954955625: 1, 1.7138364996693265: 1, 1.7133613177727278: 1, 1.7122240974977612: 1, 1.7118181601989815: 1, 1.711349020934174: 1, 1.7108720081516222: 1, 1.7084730259292364: 1, 1.7083903855540965: 1, 1.705554373528601: 1, 1.704989875617691: 1, 1.704317384721115: 1, 1.7037317408059662: 1, 1.7025964224629737: 1, 1.701738636447917: 1, 1.70170321383427: 1, 1.7007956049750828: 1, 1.6995192717122787: 1, 1.6991467597398828: 1, 1.6984424898317612: 1, 1.6977953358628683: 1, 1.6977936412565622: 1, 1.6956870247124418: 1, 1.6944246972572223: 1, 1.694021076943421: 1, 1.6935687389680927: 1, 1.6934250348269315: 1, 1.6930243824468327: 1, 1.6930183994038248: 1, 1.6928546561669318: 1, 1.6912120638034907: 1, 1.6902944077730697: 1, 1.6902097223685413: 1, 1.6893361652979055: 1, 1.689140870530175: 1, 1.688998896315562: 1, 1.6879237105373661: 1, 1.6870393729082345: 1, 1.6870204286688395: 1, 1.6869923513482603: 1, 1.68693548798311: 1, 1.686649512412017: 1, 1.6857436450486016: 1, 1.6857424867000674: 1, 1.6842383493692927: 1, 1.6839837537244795: 1, 1.6837409386123556: 1, 1.6829488998676876: 1, 1.6810636304152755: 1, 1.6804603900844706: 1, 1.679555972825604: 1, 1.6789091467838355: 1, 1.6787607600214207: 1, 1.678333966926558: 1, 1.6780434533779: 1, 1.6778389034327739: 1, 1.6776682907467937: 1, 1.6774099196260257: 1, 1.6772333976959657: 1, 1.677011988926263: 1, 1.676955365680451: 1, 1.6738794736480234: 1, 1.6727170271136322: 1, 1.6714798168309866: 1, 1.6713728684096052: 1, 1.6712182107193596: 1, 1.669171017437892: 1, 1.6686967278306297: 1, 1.6680623580623073: 1, 1.667931869686674: 1, 1.666974835914895: 1, 1.665856061722438: 1, 1.6653484206780491: 1, 1.6651023050551153: 1, 1.6649761810373007: 1, 1.6645757894449538: 1, 1.6630142883415646: 1, 1.6626021474127133: 1, 1.6619838217395706: 1, 1.6615760425988169: 1, 1.6612452054045321: 1, 1.6612133993789662: 1, 1.6601935365303864: 1, 1.6594137714459896: 1, 1.6590461994656729: 1, 1.6582289371917784: 1, 1.656853258488391: 1, 1.656676214019761: 1, 1.6557592860914576: 1, 1.6553891025254992: 1, 1.6548679956155663: 1, 1.6532664603810976: 1, 1.652879427240834: 1, 1.6525869642216213: 1, 1.6522789744993565: 1, 1.651507839068382: 1, 1.6513074079171894: 1, 1.6500172947675302: 1, 1.6497115445256896: 1, 1.6489104341684706: 1, 1.648351412586776: 1, 1.6473381475760198: 1, 1.6460703538026857: 1, 1.6438067427639151: 1, 1.6424674468175613: 1, 1.642403780362038: 1, 1.6400991746389408: 1, 1.6397130664895272: 1, 1.637086623385364: 1, 1.636922406449926: 1, 1.6368497944470912: 1, 1.6357400659046062: 1, 1.6356683527991094: 1, 1.6336671042963709: 1, 1.6330531412254863: 1, 1.6315440407617359: 1, 1.6290110542174185: 1, 1.6284135837760338: 1, 1.628004957949276: 1, 1.6274482728970832: 1, 1.6259560491650284: 1, 1.6259380788921625: 1, 1.622901302488035: 1, 1.6228851097723644: 1, 1.6220709324866844: 1, 1.621936307437163: 1, 1.6215848541224838: 1, 1.6205327356391006: 1, 1.6201598281316312: 1, 1.6188357829057394: 1, 1.6185148772410554: 1, 1.617325133732996: 1, 1.6138802827678316: 1, 1.6137120947912378: 1, 1.6132285919572966: 1, 1.6127727253740134: 1, 1.6127124055904682: 1, 1.6119725187670604: 1, 1.6109153176155724: 1, 1.6107296679970302: 1, 1.6099778535735267: 1, 1.609792253396524: 1, 1.608366582031813: 1, 1.6077390360332704: 1, 1.607557996301825: 1, 1.6073499993683622: 1, 1.606413452273113: 1, 1.6059037596319081: 1, 1.6051514428753213: 1, 1.6048094708810294: 1, 1.6040967450731838: 1, 1.6038697553694836: 1, 1.6037737048039853: 1, 1.6035831236213596: 1, 1.6031198171367673: 1, 1.6026963392387188: 1, 1.600752565438729: 1, 1.6002278133509438: 1, 1.5994950698120085: 1, 1.5963471590299185: 1, 1.5962768375729919: 1, 1.5962137422408453: 1, 1.5961137087343034: 1, 1.5929783472816241: 1, 1.5926217261628624: 1, 1.5924783236351208: 1, 1.5923037918775809: 1, 1.587242290367053: 1, 1.5867780168769066: 1, 1.5863931069552706: 1, 1.5857331125341112: 1, 1.5848776022083622: 1, 1.5801584810696663: 1, 1.5796021456241907: 1, 1.5788730417968404: 1, 1.5781399989144382: 1, 1.5778445300084565: 1, 1.5773311317955487: 1, 1.5769206561333393: 1, 1.5767958217393878: 1, 1.5765359308278266: 1, 1.5746011435660001: 1, 1.5716619375733203: 1, 1.5711401015567639: 1, 1.5711344179351119: 1, 1.5678380109970624: 1, 1.5669158707102053: 1, 1.566559975619333: 1, 1.5650603713060471: 1, 1.5626508760523772: 1, 1.5613208181158866: 1, 1.5606131796769322: 1, 1.5557803626578675: 1, 1.5555450791177259: 1, 1.5533604690424523: 1, 1.5527950115888989: 1, 1.552650889435422: 1, 1.5512249328529906: 1, 1.5508586254618253: 1, 1.550759767553726: 1, 1.5497895922032283: 1, 1.5487484982771214: 1, 1.5485970065588708: 1, 1.548513802800279: 1, 1.546552492441703: 1, 1.545247141255002: 1, 1.5446136704612994: 1, 1.5433598953424885: 1, 1.5415982237977328: 1, 1.5408940473323713: 1, 1.5393480960217427: 1, 1.5388391902619276: 1, 1.5383248206399511: 1, 1.5368572762254817: 1, 1.53647799398069: 1, 1.5358356439684722: 1, 1.5356334624226524: 1, 1.5352709332101289: 1, 1.5350733356211557: 1, 1.5340056632152725: 1, 1.5337920613405118: 1, 1.5336810354766361: 1, 1.5322126463139534: 1, 1.5319494548850208: 1, 1.5318225864534036: 1, 1.5316707862512686: 1, 1.530433376321676: 1, 1.530345901799844: 1, 1.5293513580748983: 1, 1.5291312699109378: 1, 1.5288964447470486: 1, 1.5263567739935315: 1, 1.5261272333458842: 1, 1.5241335479650362: 1, 1.5197698678893616: 1, 1.519638318526907: 1, 1.5183592178467253: 1, 1.517672246104182: 1, 1.5132194159956611: 1, 1.5123566525230296: 1, 1.5114150021195965: 1, 1.5104480931929212: 1, 1.5090695687177196: 1, 1.5088805871911228: 1, 1.5071225601547664: 1, 1.506568044350287: 1, 1.5060263221746268: 1, 1.5030865441690489: 1, 1.5026154817779858: 1, 1.5022261062301683: 1, 1.5018165280995022: 1, 1.4957955803082172: 1, 1.4933456041656035: 1, 1.4874100554568805: 1, 1.4870174812303498: 1, 1.4870123426731916: 1, 1.481275903325534: 1, 1.480021557717756: 1, 1.4796938873131422: 1, 1.479181081425838: 1, 1.478600005066226: 1, 1.4780173291224898: 1, 1.4777337540064768: 1, 1.4775606841723565: 1, 1.4772160262608087: 1, 1.4763465172296226: 1, 1.4758382828669392: 1, 1.4746796908408986: 1, 1.4734665198605366: 1, 1.4729262626237052: 1, 1.4723338870090106: 1, 1.469644880834017: 1, 1.4684777678926746: 1, 1.468011488834525: 1, 1.4664025483327705: 1, 1.4662677151699073: 1, 1.46382943791033: 1, 1.4628283890963578: 1, 1.4588880803872497: 1, 1.4566420896520027: 1, 1.4558203999144468: 1, 1.4544880132483704: 1, 1.454123199832199: 1, 1.4534958860383764: 1, 1.4511531842912622: 1, 1.451088626949046: 1, 1.4505786192833552: 1, 1.450421260428369: 1, 1.4470212333507604: 1, 1.4461842488288912: 1, 1.4405058766759635: 1, 1.440413337080634: 1, 1.4378967128577416: 1, 1.435188970713949: 1, 1.434254819812473: 1, 1.4319471354394335: 1, 1.4317514166969132: 1, 1.4270461283791571: 1, 1.4252724042246172: 1, 1.424547177844257: 1, 1.4159413489769832: 1, 1.4140883588523905: 1, 1.4124585006790864: 1, 1.4120952636358954: 1, 1.4101860929344778: 1, 1.4094498102879502: 1, 1.4076447597763708: 1, 1.405350779241016: 1, 1.4005375597605307: 1, 1.397380045016765: 1, 1.391085667662811: 1, 1.3880489868289287: 1, 1.381673758224671: 1, 1.3792641511684223: 1, 1.3736075217112873: 1, 1.3735384218563034: 1, 1.3672480708551742: 1, 1.3667739940961794: 1, 1.3646136323647817: 1, 1.3631828102283114: 1, 1.35118531461561: 1, 1.3450774060907003: 1, 1.3431139063097037: 1, 1.340486711807558: 1, 1.3357924554216736: 1, 1.3198876210288837: 1, 1.3063821945205374: 1, 1.3033570045339762: 1, 1.2940052911499738: 1, 1.2935330022848717: 1, 1.2710346138718733: 1, 1.2486338466959168: 1, 1.2435271208072554: 1, 1.232707637090917: 1, 1.2165962500127765: 1, 1.2121896272296795: 1, 1.208384678416038: 1, 1.1852987860317898: 1, 1.124198891638428: 1, 1.084040777873007: 1, 0.968954761495431: 1, 0.6898406204749914: 1, 0.6887041656447029: 1})"
     ]
    },
    {
     "name": "stdout",
     "output_type": "stream",
     "text": [
      "\n"
     ]
    }
   ],
   "source": [
    "# Number of words for a given frequency.\n",
    "print(Counter(sorted_text_occur))"
   ]
  },
  {
   "cell_type": "code",
   "execution_count": 63,
   "metadata": {},
   "outputs": [
    {
     "name": "stdout",
     "output_type": "stream",
     "text": [
      "For values of alpha =  1e-05 The log loss is: 1.149521333476166\n",
      "For values of alpha =  0.0001 The log loss is: 1.1032006462478714\n",
      "For values of alpha =  0.001 The log loss is: 1.2486933025727625\n",
      "For values of alpha =  0.01 The log loss is: 1.525816628518806\n",
      "For values of alpha =  0.1 The log loss is: 2.000771554461871\n",
      "For values of alpha =  1 The log loss is: 2.04081507246444\n"
     ]
    },
    {
     "data": {
      "image/png": "[encoded data removed]",
      "text/plain": [
       "<Figure size 432x288 with 1 Axes>"
      ]
     },
     "metadata": {
      "needs_background": "light"
     },
     "output_type": "display_data"
    },
    {
     "name": "stdout",
     "output_type": "stream",
     "text": [
      "For values of best alpha =  0.0001 The train log loss is: 0.7052449875129773\n",
      "For values of best alpha =  0.0001 The cross validation log loss is: 1.1032006462478714\n",
      "For values of best alpha =  0.0001 The test log loss is: 1.0961771574880854\n"
     ]
    }
   ],
   "source": [
    "# Train a Logistic regression+Calibration model using text features whicha re on-hot encoded\n",
    "alpha = [10 ** x for x in range(-5, 1)]\n",
    "\n",
    "# read more about SGDClassifier() at http://scikit-learn.org/stable/modules/generated/sklearn.linear_model.SGDClassifier.html\n",
    "# ------------------------------\n",
    "# default parameters\n",
    "# SGDClassifier(loss=’hinge’, penalty=’l2’, alpha=0.0001, l1_ratio=0.15, fit_intercept=True, max_iter=None, tol=None, \n",
    "# shuffle=True, verbose=0, epsilon=0.1, n_jobs=1, random_state=None, learning_rate=’optimal’, eta0=0.0, power_t=0.5, \n",
    "# class_weight=None, warm_start=False, average=False, n_iter=None)\n",
    "\n",
    "# some of methods\n",
    "# fit(X, y[, coef_init, intercept_init, …])\tFit linear model with Stochastic Gradient Descent.\n",
    "# predict(X)\tPredict class labels for samples in X.\n",
    "\n",
    "#-------------------------------\n",
    "# video link: \n",
    "#------------------------------\n",
    "\n",
    "\n",
    "cv_log_error_array=[]\n",
    "for i in alpha:\n",
    "    clf = SGDClassifier(alpha=i, penalty='l2', loss='log', random_state=42)\n",
    "    clf.fit(train_text_feature_onehotCoding, y_train)\n",
    "    \n",
    "    sig_clf = CalibratedClassifierCV(clf, method=\"sigmoid\")\n",
    "    sig_clf.fit(train_text_feature_onehotCoding, y_train)\n",
    "    predict_y = sig_clf.predict_proba(cv_text_feature_onehotCoding)\n",
    "    cv_log_error_array.append(log_loss(y_cv, predict_y, labels=clf.classes_, eps=1e-15))\n",
    "    print('For values of alpha = ', i, \"The log loss is:\",log_loss(y_cv, predict_y, labels=clf.classes_, eps=1e-15))\n",
    "\n",
    "fig, ax = plt.subplots()\n",
    "ax.plot(alpha, cv_log_error_array,c='g')\n",
    "for i, txt in enumerate(np.round(cv_log_error_array,3)):\n",
    "    ax.annotate((alpha[i],np.round(txt,3)), (alpha[i],cv_log_error_array[i]))\n",
    "plt.grid()\n",
    "plt.title(\"Cross Validation Error for each alpha\")\n",
    "plt.xlabel(\"Alpha i's\")\n",
    "plt.ylabel(\"Error measure\")\n",
    "plt.show()\n",
    "\n",
    "\n",
    "best_alpha = np.argmin(cv_log_error_array)\n",
    "clf = SGDClassifier(alpha=alpha[best_alpha], penalty='l2', loss='log', random_state=42)\n",
    "clf.fit(train_text_feature_onehotCoding, y_train)\n",
    "sig_clf = CalibratedClassifierCV(clf, method=\"sigmoid\")\n",
    "sig_clf.fit(train_text_feature_onehotCoding, y_train)\n",
    "\n",
    "predict_y = sig_clf.predict_proba(train_text_feature_onehotCoding)\n",
    "print('For values of best alpha = ', alpha[best_alpha], \"The train log loss is:\",log_loss(y_train, predict_y, labels=clf.classes_, eps=1e-15))\n",
    "predict_y = sig_clf.predict_proba(cv_text_feature_onehotCoding)\n",
    "print('For values of best alpha = ', alpha[best_alpha], \"The cross validation log loss is:\",log_loss(y_cv, predict_y, labels=clf.classes_, eps=1e-15))\n",
    "predict_y = sig_clf.predict_proba(test_text_feature_onehotCoding)\n",
    "print('For values of best alpha = ', alpha[best_alpha], \"The test log loss is:\",log_loss(y_test, predict_y, labels=clf.classes_, eps=1e-15))\n"
   ]
  },
  {
   "cell_type": "markdown",
   "metadata": {},
   "source": [
    "<p style=\"font-size:18px;\"> <b>Q.</b> Is the Text feature stable across all the data sets (Test, Train, Cross validation)?</p>\n",
    "<p style=\"font-size:16px;\"> <b>Ans.</b> Yes, it seems like! </p>"
   ]
  },
  {
   "cell_type": "code",
   "execution_count": 64,
   "metadata": {},
   "outputs": [],
   "source": [
    "def get_intersec_text(df):\n",
    "    df_text_vec = CountVectorizer(min_df=3)\n",
    "    df_text_fea = df_text_vec.fit_transform(df['TEXT'])\n",
    "    df_text_features = df_text_vec.get_feature_names()\n",
    "\n",
    "    df_text_fea_counts = df_text_fea.sum(axis=0).A1\n",
    "    df_text_fea_dict = dict(zip(list(df_text_features),df_text_fea_counts))\n",
    "    len1 = len(set(df_text_features))\n",
    "    len2 = len(set(train_text_features) & set(df_text_features))\n",
    "    return len1,len2"
   ]
  },
  {
   "cell_type": "code",
   "execution_count": 65,
   "metadata": {},
   "outputs": [
    {
     "name": "stdout",
     "output_type": "stream",
     "text": [
      "12.002 % of word of test data appeared in train data\n",
      "14.167 % of word of Cross Validation appeared in train data\n"
     ]
    }
   ],
   "source": [
    "len1,len2 = get_intersec_text(test_df)\n",
    "print(np.round((len2/len1)*100, 3), \"% of word of test data appeared in train data\")\n",
    "len1,len2 = get_intersec_text(cv_df)\n",
    "print(np.round((len2/len1)*100, 3), \"% of word of Cross Validation appeared in train data\")"
   ]
  },
  {
   "cell_type": "markdown",
   "metadata": {},
   "source": [
    "<h3>3.2.4 Univariate Analysis on Newly Created  Feature</h3>"
   ]
  },
  {
   "cell_type": "code",
   "execution_count": 66,
   "metadata": {},
   "outputs": [
    {
     "data": {
      "text/html": [
       "<div>\n",
       "<style scoped>\n",
       "    .dataframe tbody tr th:only-of-type {\n",
       "        vertical-align: middle;\n",
       "    }\n",
       "\n",
       "    .dataframe tbody tr th {\n",
       "        vertical-align: top;\n",
       "    }\n",
       "\n",
       "    .dataframe thead th {\n",
       "        text-align: right;\n",
       "    }\n",
       "</style>\n",
       "<table border=\"1\" class=\"dataframe\">\n",
       "  <thead>\n",
       "    <tr style=\"text-align: right;\">\n",
       "      <th></th>\n",
       "      <th>ID</th>\n",
       "      <th>Gene</th>\n",
       "      <th>Variation</th>\n",
       "      <th>Class</th>\n",
       "      <th>TEXT</th>\n",
       "      <th>word_count</th>\n",
       "      <th>char_count</th>\n",
       "      <th>neg</th>\n",
       "      <th>neut</th>\n",
       "      <th>pos</th>\n",
       "      <th>comp</th>\n",
       "      <th>freq_gene</th>\n",
       "      <th>freq_var</th>\n",
       "      <th>freq_gene+var</th>\n",
       "      <th>freq_gene-var</th>\n",
       "    </tr>\n",
       "  </thead>\n",
       "  <tbody>\n",
       "    <tr>\n",
       "      <th>509</th>\n",
       "      <td>509</td>\n",
       "      <td>TP53</td>\n",
       "      <td>R282Q</td>\n",
       "      <td>1</td>\n",
       "      <td>tumor suppressor p53 sequence specific dna bin...</td>\n",
       "      <td>2377</td>\n",
       "      <td>15484</td>\n",
       "      <td>0.027</td>\n",
       "      <td>0.903</td>\n",
       "      <td>0.070</td>\n",
       "      <td>0.9973</td>\n",
       "      <td>163</td>\n",
       "      <td>1</td>\n",
       "      <td>164</td>\n",
       "      <td>162</td>\n",
       "    </tr>\n",
       "    <tr>\n",
       "      <th>2284</th>\n",
       "      <td>2284</td>\n",
       "      <td>CIC</td>\n",
       "      <td>CIC-DUX4_Fusion</td>\n",
       "      <td>9</td>\n",
       "      <td>primitive round cell sarcomas childhood young ...</td>\n",
       "      <td>6110</td>\n",
       "      <td>43174</td>\n",
       "      <td>0.052</td>\n",
       "      <td>0.888</td>\n",
       "      <td>0.060</td>\n",
       "      <td>0.9814</td>\n",
       "      <td>5</td>\n",
       "      <td>1</td>\n",
       "      <td>6</td>\n",
       "      <td>4</td>\n",
       "    </tr>\n",
       "    <tr>\n",
       "      <th>2139</th>\n",
       "      <td>2139</td>\n",
       "      <td>KEAP1</td>\n",
       "      <td>R415G</td>\n",
       "      <td>4</td>\n",
       "      <td>oxidative electrophilic stresses sensed keap1 ...</td>\n",
       "      <td>3484</td>\n",
       "      <td>24532</td>\n",
       "      <td>0.162</td>\n",
       "      <td>0.786</td>\n",
       "      <td>0.052</td>\n",
       "      <td>-0.9999</td>\n",
       "      <td>14</td>\n",
       "      <td>1</td>\n",
       "      <td>15</td>\n",
       "      <td>13</td>\n",
       "    </tr>\n",
       "  </tbody>\n",
       "</table>\n",
       "</div>"
      ],
      "text/plain": [
       "        ID   Gene        Variation  Class  \\\n",
       "509    509   TP53            R282Q      1   \n",
       "2284  2284    CIC  CIC-DUX4_Fusion      9   \n",
       "2139  2139  KEAP1            R415G      4   \n",
       "\n",
       "                                                   TEXT  word_count  \\\n",
       "509   tumor suppressor p53 sequence specific dna bin...        2377   \n",
       "2284  primitive round cell sarcomas childhood young ...        6110   \n",
       "2139  oxidative electrophilic stresses sensed keap1 ...        3484   \n",
       "\n",
       "      char_count    neg   neut    pos    comp  freq_gene  freq_var  \\\n",
       "509        15484  0.027  0.903  0.070  0.9973        163         1   \n",
       "2284       43174  0.052  0.888  0.060  0.9814          5         1   \n",
       "2139       24532  0.162  0.786  0.052 -0.9999         14         1   \n",
       "\n",
       "      freq_gene+var  freq_gene-var  \n",
       "509             164            162  \n",
       "2284              6              4  \n",
       "2139             15             13  "
      ]
     },
     "execution_count": 66,
     "metadata": {},
     "output_type": "execute_result"
    }
   ],
   "source": [
    "train_df.head(3)"
   ]
  },
  {
   "cell_type": "code",
   "execution_count": 67,
   "metadata": {},
   "outputs": [
    {
     "name": "stdout",
     "output_type": "stream",
     "text": [
      "(2124, 10)\n",
      "(532, 10)\n",
      "(665, 10)\n"
     ]
    }
   ],
   "source": [
    "# Since these features is numerical so normalize them\n",
    "from sklearn.preprocessing import MinMaxScaler\n",
    "\n",
    "mnn=MinMaxScaler(feature_range = (0,1))\n",
    "X_train_num_new_feat = mnn.fit_transform(train_df[[\"word_count\", \"char_count\",\"neg\",\"neut\",\"pos\",\"comp\",\"freq_gene\",\"freq_var\",\"freq_gene+var\",\"freq_gene-var\"]])\n",
    "\n",
    "X_cv_num_new_feat = mnn.transform(cv_df[[\"word_count\", \"char_count\",\"neg\",\"neut\",\"pos\",\"comp\",\"freq_gene\",\"freq_var\",\"freq_gene+var\",\"freq_gene-var\" ]])\n",
    "\n",
    "X_test_num_new_feat = mnn.transform(test_df[[ \"word_count\", \"char_count\",\"neg\",\"neut\",\"pos\",\"comp\",\"freq_gene\",\"freq_var\",\"freq_gene+var\",\"freq_gene-var\"]])\n",
    "\n",
    "\n",
    "print(X_train_num_new_feat.shape)\n",
    "print(X_cv_num_new_feat.shape)\n",
    "print(X_test_num_new_feat.shape)"
   ]
  },
  {
   "cell_type": "code",
   "execution_count": 68,
   "metadata": {},
   "outputs": [
    {
     "name": "stdout",
     "output_type": "stream",
     "text": [
      "For values of alpha =  1e-05 The log loss is: 1.7211690416172558\n",
      "For values of alpha =  0.0001 The log loss is: 1.6897241579729343\n",
      "For values of alpha =  0.001 The log loss is: 1.6806822131602526\n",
      "For values of alpha =  0.01 The log loss is: 1.699779377320493\n",
      "For values of alpha =  0.1 The log loss is: 1.7343836415941036\n",
      "For values of alpha =  1 The log loss is: 1.784307061279909\n"
     ]
    },
    {
     "data": {
      "image/png": "[encoded data removed]",
      "text/plain": [
       "<Figure size 432x288 with 1 Axes>"
      ]
     },
     "metadata": {
      "needs_background": "light"
     },
     "output_type": "display_data"
    },
    {
     "name": "stdout",
     "output_type": "stream",
     "text": [
      "For values of best alpha =  0.001 The train log loss is: 1.6847225608558252\n",
      "For values of best alpha =  0.001 The cross validation log loss is: 1.6806822131602526\n",
      "For values of best alpha =  0.001 The test log loss is: 1.6626813591312326\n"
     ]
    }
   ],
   "source": [
    "# Train a Logistic regression+Calibration model using text features whicha re on-hot encoded\n",
    "alpha = [10 ** x for x in range(-5, 1)]\n",
    "\n",
    "# read more about SGDClassifier() at http://scikit-learn.org/stable/modules/generated/sklearn.linear_model.SGDClassifier.html\n",
    "# ------------------------------\n",
    "# default parameters\n",
    "# SGDClassifier(loss=’hinge’, penalty=’l2’, alpha=0.0001, l1_ratio=0.15, fit_intercept=True, max_iter=None, tol=None, \n",
    "# shuffle=True, verbose=0, epsilon=0.1, n_jobs=1, random_state=None, learning_rate=’optimal’, eta0=0.0, power_t=0.5, \n",
    "# class_weight=None, warm_start=False, average=False, n_iter=None)\n",
    "\n",
    "# some of methods\n",
    "# fit(X, y[, coef_init, intercept_init, …])\tFit linear model with Stochastic Gradient Descent.\n",
    "# predict(X)\tPredict class labels for samples in X.\n",
    "\n",
    "#-------------------------------\n",
    "# video link: \n",
    "#------------------------------\n",
    "\n",
    "\n",
    "cv_log_error_array=[]\n",
    "for i in alpha:\n",
    "    clf = SGDClassifier(alpha=i, penalty='l2', loss='log', random_state=42)\n",
    "    clf.fit(X_train_num_new_feat, y_train)\n",
    "    \n",
    "    sig_clf = CalibratedClassifierCV(clf, method=\"sigmoid\")\n",
    "    sig_clf.fit(X_train_num_new_feat, y_train)\n",
    "    predict_y = sig_clf.predict_proba(X_cv_num_new_feat)\n",
    "    cv_log_error_array.append(log_loss(y_cv, predict_y, labels=clf.classes_, eps=1e-15))\n",
    "    print('For values of alpha = ', i, \"The log loss is:\",log_loss(y_cv, predict_y, labels=clf.classes_, eps=1e-15))\n",
    "\n",
    "fig, ax = plt.subplots()\n",
    "ax.plot(alpha, cv_log_error_array,c='g')\n",
    "for i, txt in enumerate(np.round(cv_log_error_array,3)):\n",
    "    ax.annotate((alpha[i],np.round(txt,3)), (alpha[i],cv_log_error_array[i]))\n",
    "plt.grid()\n",
    "plt.title(\"Cross Validation Error for each alpha\")\n",
    "plt.xlabel(\"Alpha i's\")\n",
    "plt.ylabel(\"Error measure\")\n",
    "plt.show()\n",
    "\n",
    "\n",
    "best_alpha = np.argmin(cv_log_error_array)\n",
    "clf = SGDClassifier(alpha=alpha[best_alpha], penalty='l2', loss='log', random_state=42)\n",
    "clf.fit(X_train_num_new_feat, y_train)\n",
    "sig_clf = CalibratedClassifierCV(clf, method=\"sigmoid\")\n",
    "sig_clf.fit(X_train_num_new_feat, y_train)\n",
    "\n",
    "predict_y = sig_clf.predict_proba(X_train_num_new_feat)\n",
    "print('For values of best alpha = ', alpha[best_alpha], \"The train log loss is:\",log_loss(y_train, predict_y, labels=clf.classes_, eps=1e-15))\n",
    "predict_y = sig_clf.predict_proba(X_cv_num_new_feat)\n",
    "print('For values of best alpha = ', alpha[best_alpha], \"The cross validation log loss is:\",log_loss(y_cv, predict_y, labels=clf.classes_, eps=1e-15))\n",
    "predict_y = sig_clf.predict_proba(X_test_num_new_feat)\n",
    "print('For values of best alpha = ', alpha[best_alpha], \"The test log loss is:\",log_loss(y_test, predict_y, labels=clf.classes_, eps=1e-15))\n"
   ]
  },
  {
   "cell_type": "markdown",
   "metadata": {},
   "source": [
    "<h1>4. Machine Learning Models</h1>"
   ]
  },
  {
   "cell_type": "code",
   "execution_count": 82,
   "metadata": {},
   "outputs": [],
   "source": [
    "#Data preparation for ML models.\n",
    "\n",
    "#Misc. functionns for ML models\n",
    "\n",
    "\n",
    "def predict_and_plot_confusion_matrix(train_x, train_y,test_x, test_y, clf):\n",
    "    clf.fit(train_x, train_y)\n",
    "    sig_clf = CalibratedClassifierCV(clf, method=\"sigmoid\")\n",
    "    sig_clf.fit(train_x, train_y)\n",
    "    pred_y = sig_clf.predict(test_x)\n",
    "\n",
    "    # for calculating log_loss we willl provide the array of probabilities belongs to each class\n",
    "    print(\"Log loss :\",log_loss(test_y, sig_clf.predict_proba(test_x)))\n",
    "    # calculating the number of data points that are misclassified\n",
    "    print(\"Number of mis-classified points :\", np.count_nonzero((pred_y- test_y))/test_y.shape[0])\n",
    "    plot_confusion_matrix(test_y, pred_y)"
   ]
  },
  {
   "cell_type": "code",
   "execution_count": 83,
   "metadata": {},
   "outputs": [],
   "source": [
    "def report_log_loss(train_x, train_y, test_x, test_y,  clf):\n",
    "    clf.fit(train_x, train_y)\n",
    "    sig_clf = CalibratedClassifierCV(clf, method=\"sigmoid\")\n",
    "    sig_clf.fit(train_x, train_y)\n",
    "    sig_clf_probs = sig_clf.predict_proba(test_x)\n",
    "    return log_loss(test_y, sig_clf_probs, eps=1e-15)"
   ]
  },
  {
   "cell_type": "code",
   "execution_count": 84,
   "metadata": {},
   "outputs": [],
   "source": [
    "# this function will be used just for naive bayes\n",
    "# for the given indices, we will print the name of the features\n",
    "# and we will check whether the feature present in the test point text or not\n",
    "def get_impfeature_names(indices, text, gene, var, no_features):\n",
    "    gene_count_vec = CountVectorizer()\n",
    "    var_count_vec = CountVectorizer()\n",
    "    text_count_vec = CountVectorizer(min_df=3)\n",
    "    \n",
    "    gene_vec = gene_count_vec.fit(train_df['Gene'])\n",
    "    var_vec  = var_count_vec.fit(train_df['Variation'])\n",
    "    text_vec = text_count_vec.fit(train_df['TEXT'])\n",
    "    \n",
    "    fea1_len = len(gene_vec.get_feature_names())\n",
    "    fea2_len = len(var_count_vec.get_feature_names())\n",
    "    \n",
    "    word_present = 0\n",
    "    for i,v in enumerate(indices):\n",
    "        if (v < fea1_len):\n",
    "            word = gene_vec.get_feature_names()[v]\n",
    "            yes_no = True if word == gene else False\n",
    "            if yes_no:\n",
    "                word_present += 1\n",
    "                print(i, \"Gene feature [{}] present in test data point [{}]\".format(word,yes_no))\n",
    "        elif (v < fea1_len+fea2_len):\n",
    "            word = var_vec.get_feature_names()[v-(fea1_len)]\n",
    "            yes_no = True if word == var else False\n",
    "            if yes_no:\n",
    "                word_present += 1\n",
    "                print(i, \"variation feature [{}] present in test data point [{}]\".format(word,yes_no))\n",
    "        else:\n",
    "            word = text_vec.get_feature_names()[v-(fea1_len+fea2_len)]\n",
    "            yes_no = True if word in text.split() else False\n",
    "            if yes_no:\n",
    "                word_present += 1\n",
    "                print(i, \"Text feature [{}] present in test data point [{}]\".format(word,yes_no))\n",
    "\n",
    "    print(\"Out of the top \",no_features,\" features \", word_present, \"are present in query point\")"
   ]
  },
  {
   "cell_type": "markdown",
   "metadata": {},
   "source": [
    "<p style=\"font-size:24px;text-align:Center\"> <b>Stacking the three types of features </b><p>"
   ]
  },
  {
   "cell_type": "code",
   "execution_count": 86,
   "metadata": {},
   "outputs": [],
   "source": [
    "# merging gene, variance and text features\n",
    "\n",
    "# building train, test and cross validation data sets\n",
    "# a = [[1, 2], \n",
    "#      [3, 4]]\n",
    "# b = [[4, 5], \n",
    "#      [6, 7]]\n",
    "# hstack(a, b) = [[1, 2, 4, 5],\n",
    "#                [ 3, 4, 6, 7]]\n",
    "\n",
    "train_gene_var_onehotCoding = hstack((train_gene_feature_onehotCoding,train_variation_feature_onehotCoding))\n",
    "test_gene_var_onehotCoding = hstack((test_gene_feature_onehotCoding,test_variation_feature_onehotCoding))\n",
    "cv_gene_var_onehotCoding = hstack((cv_gene_feature_onehotCoding,cv_variation_feature_onehotCoding))\n",
    "\n",
    "train_x_onehotCoding = hstack((train_gene_var_onehotCoding, train_text_feature_onehotCoding,X_train_num_new_feat)).tocsr()\n",
    "train_y = np.array(list(train_df['Class']))\n",
    "\n",
    "test_x_onehotCoding = hstack((test_gene_var_onehotCoding, test_text_feature_onehotCoding,X_test_num_new_feat)).tocsr()\n",
    "test_y = np.array(list(test_df['Class']))\n",
    "\n",
    "cv_x_onehotCoding = hstack((cv_gene_var_onehotCoding, cv_text_feature_onehotCoding,X_cv_num_new_feat)).tocsr()\n",
    "cv_y = np.array(list(cv_df['Class']))\n",
    "\n",
    "\n",
    "train_gene_var_responseCoding = np.hstack((train_gene_feature_responseCoding,train_variation_feature_responseCoding))\n",
    "test_gene_var_responseCoding = np.hstack((test_gene_feature_responseCoding,test_variation_feature_responseCoding))\n",
    "cv_gene_var_responseCoding = np.hstack((cv_gene_feature_responseCoding,cv_variation_feature_responseCoding))\n",
    "\n",
    "train_x_responseCoding = np.hstack((train_gene_var_responseCoding, train_text_feature_responseCoding,X_train_num_new_feat))\n",
    "test_x_responseCoding = np.hstack((test_gene_var_responseCoding, test_text_feature_responseCoding,X_test_num_new_feat))\n",
    "cv_x_responseCoding = np.hstack((cv_gene_var_responseCoding, cv_text_feature_responseCoding,X_cv_num_new_feat))\n"
   ]
  },
  {
   "cell_type": "code",
   "execution_count": 87,
   "metadata": {},
   "outputs": [
    {
     "name": "stdout",
     "output_type": "stream",
     "text": [
      "One hot encoding features :\n",
      "(number of data points * number of features) in train data =  (2124, 7204)\n",
      "(number of data points * number of features) in test data =  (665, 7204)\n",
      "(number of data points * number of features) in cross validation data = (532, 7204)\n"
     ]
    }
   ],
   "source": [
    "print(\"One hot encoding features :\")\n",
    "print(\"(number of data points * number of features) in train data = \", train_x_onehotCoding.shape)\n",
    "print(\"(number of data points * number of features) in test data = \", test_x_onehotCoding.shape)\n",
    "print(\"(number of data points * number of features) in cross validation data =\", cv_x_onehotCoding.shape)"
   ]
  },
  {
   "cell_type": "code",
   "execution_count": 88,
   "metadata": {},
   "outputs": [
    {
     "name": "stdout",
     "output_type": "stream",
     "text": [
      " Response encoding features :\n",
      "(number of data points * number of features) in train data =  (2124, 37)\n",
      "(number of data points * number of features) in test data =  (665, 37)\n",
      "(number of data points * number of features) in cross validation data = (532, 37)\n"
     ]
    }
   ],
   "source": [
    "print(\" Response encoding features :\")\n",
    "print(\"(number of data points * number of features) in train data = \", train_x_responseCoding.shape)\n",
    "print(\"(number of data points * number of features) in test data = \", test_x_responseCoding.shape)\n",
    "print(\"(number of data points * number of features) in cross validation data =\", cv_x_responseCoding.shape)"
   ]
  },
  {
   "cell_type": "markdown",
   "metadata": {},
   "source": [
    "# [TASK] : Train Models"
   ]
  },
  {
   "cell_type": "markdown",
   "metadata": {},
   "source": [
    "# Logistic Regression"
   ]
  },
  {
   "cell_type": "code",
   "execution_count": 89,
   "metadata": {},
   "outputs": [
    {
     "name": "stdout",
     "output_type": "stream",
     "text": [
      "for alpha = 1e-06\n",
      "Log Loss : 1.051722432339172\n",
      "for alpha = 1e-05\n",
      "Log Loss : 1.0450803324964182\n",
      "for alpha = 0.0001\n",
      "Log Loss : 0.9777466123680457\n",
      "for alpha = 0.001\n",
      "Log Loss : 1.0157708732718438\n",
      "for alpha = 0.01\n",
      "Log Loss : 1.142278398712237\n",
      "for alpha = 0.1\n",
      "Log Loss : 1.6478266227646354\n",
      "for alpha = 1\n",
      "Log Loss : 1.807224720252439\n",
      "for alpha = 10\n",
      "Log Loss : 1.8168840907808506\n",
      "for alpha = 100\n",
      "Log Loss : 1.8177191379098374\n"
     ]
    },
    {
     "data": {
      "image/png": "[encoded data removed]",
      "text/plain": [
       "<Figure size 432x288 with 1 Axes>"
      ]
     },
     "metadata": {
      "needs_background": "light"
     },
     "output_type": "display_data"
    },
    {
     "name": "stdout",
     "output_type": "stream",
     "text": [
      "For values of best alpha =  0.0001 The train log loss is: 0.46627184305648456\n",
      "For values of best alpha =  0.0001 The cross validation log loss is: 0.9777466123680457\n",
      "For values of best alpha =  0.0001 The test log loss is: 1.0032431802753958\n"
     ]
    }
   ],
   "source": [
    "alpha = [10 ** x for x in range(-6, 3)]\n",
    "cv_log_error_array = []\n",
    "for i in alpha:\n",
    "    print(\"for alpha =\", i)\n",
    "    clf = SGDClassifier(class_weight='balanced', alpha=i, penalty='l2', loss='log', random_state=42)\n",
    "    clf.fit(train_x_onehotCoding, train_y)\n",
    "    sig_clf = CalibratedClassifierCV(clf, method=\"sigmoid\")\n",
    "    sig_clf.fit(train_x_onehotCoding, train_y)\n",
    "    sig_clf_probs = sig_clf.predict_proba(cv_x_onehotCoding)\n",
    "    cv_log_error_array.append(log_loss(cv_y, sig_clf_probs, labels=clf.classes_, eps=1e-15))\n",
    "    # to avoid rounding error while multiplying probabilites we use log-probability estimates\n",
    "    print(\"Log Loss :\",log_loss(cv_y, sig_clf_probs)) \n",
    "\n",
    "fig, ax = plt.subplots()\n",
    "ax.plot(alpha, cv_log_error_array,c='g')\n",
    "for i, txt in enumerate(np.round(cv_log_error_array,3)):\n",
    "    ax.annotate((alpha[i],str(txt)), (alpha[i],cv_log_error_array[i]))\n",
    "plt.grid()\n",
    "plt.title(\"Cross Validation Error for each alpha\")\n",
    "plt.xlabel(\"Alpha i's\")\n",
    "plt.ylabel(\"Error measure\")\n",
    "plt.show()\n",
    "\n",
    "\n",
    "best_alpha = np.argmin(cv_log_error_array)\n",
    "clf = SGDClassifier(class_weight='balanced', alpha=alpha[best_alpha], penalty='l2', loss='log', random_state=42)\n",
    "clf.fit(train_x_onehotCoding, train_y)\n",
    "sig_clf = CalibratedClassifierCV(clf, method=\"sigmoid\")\n",
    "sig_clf.fit(train_x_onehotCoding, train_y)\n",
    "\n",
    "predict_y = sig_clf.predict_proba(train_x_onehotCoding)\n",
    "print('For values of best alpha = ', alpha[best_alpha], \"The train log loss is:\",log_loss(y_train, predict_y, labels=clf.classes_, eps=1e-15))\n",
    "predict_y = sig_clf.predict_proba(cv_x_onehotCoding)\n",
    "print('For values of best alpha = ', alpha[best_alpha], \"The cross validation log loss is:\",log_loss(y_cv, predict_y, labels=clf.classes_, eps=1e-15))\n",
    "predict_y = sig_clf.predict_proba(test_x_onehotCoding)\n",
    "print('For values of best alpha = ', alpha[best_alpha], \"The test log loss is:\",log_loss(y_test, predict_y, labels=clf.classes_, eps=1e-15))"
   ]
  }
 ],
 "metadata": {
  "kernelspec": {
   "display_name": "Python 3",
   "language": "python",
   "name": "python3"
  },
  "language_info": {
   "codemirror_mode": {
    "name": "ipython",
    "version": 3
   },
   "file_extension": ".py",
   "mimetype": "text/x-python",
   "name": "python",
   "nbconvert_exporter": "python",
   "pygments_lexer": "ipython3",
   "version": "3.6.8"
  }
 },
 "nbformat": 4,
 "nbformat_minor": 2
}
